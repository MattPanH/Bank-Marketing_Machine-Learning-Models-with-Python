{
 "cells": [
  {
   "cell_type": "markdown",
   "metadata": {},
   "source": [
    "## Predicting Customer Purchase of Term Deposits\n",
    "\n",
    "---"
   ]
  },
  {
   "cell_type": "code",
   "execution_count": 57,
   "metadata": {},
   "outputs": [],
   "source": [
    "import pandas as pd\n",
    "import plotly.graph_objects as go\n",
    "from plotly.subplots import make_subplots"
   ]
  },
  {
   "cell_type": "code",
   "execution_count": null,
   "metadata": {},
   "outputs": [],
   "source": [
    "bank_clean2 = pd.read_csv('./Bank Marketing_Model Training Data.csv')"
   ]
  },
  {
   "cell_type": "markdown",
   "metadata": {},
   "source": [
    "### 1. Feature Engineering"
   ]
  },
  {
   "cell_type": "code",
   "execution_count": 59,
   "metadata": {},
   "outputs": [
    {
     "data": {
      "text/html": [
       "<div>\n",
       "<style scoped>\n",
       "    .dataframe tbody tr th:only-of-type {\n",
       "        vertical-align: middle;\n",
       "    }\n",
       "\n",
       "    .dataframe tbody tr th {\n",
       "        vertical-align: top;\n",
       "    }\n",
       "\n",
       "    .dataframe thead th {\n",
       "        text-align: right;\n",
       "    }\n",
       "</style>\n",
       "<table border=\"1\" class=\"dataframe\">\n",
       "  <thead>\n",
       "    <tr style=\"text-align: right;\">\n",
       "      <th></th>\n",
       "      <th>contact_cellular</th>\n",
       "      <th>contact_telephone</th>\n",
       "    </tr>\n",
       "  </thead>\n",
       "  <tbody>\n",
       "    <tr>\n",
       "      <th>33195</th>\n",
       "      <td>True</td>\n",
       "      <td>False</td>\n",
       "    </tr>\n",
       "    <tr>\n",
       "      <th>29780</th>\n",
       "      <td>False</td>\n",
       "      <td>True</td>\n",
       "    </tr>\n",
       "    <tr>\n",
       "      <th>23803</th>\n",
       "      <td>True</td>\n",
       "      <td>False</td>\n",
       "    </tr>\n",
       "    <tr>\n",
       "      <th>33600</th>\n",
       "      <td>True</td>\n",
       "      <td>False</td>\n",
       "    </tr>\n",
       "    <tr>\n",
       "      <th>2136</th>\n",
       "      <td>False</td>\n",
       "      <td>True</td>\n",
       "    </tr>\n",
       "  </tbody>\n",
       "</table>\n",
       "</div>"
      ],
      "text/plain": [
       "       contact_cellular  contact_telephone\n",
       "33195              True              False\n",
       "29780             False               True\n",
       "23803              True              False\n",
       "33600              True              False\n",
       "2136              False               True"
      ]
     },
     "execution_count": 59,
     "metadata": {},
     "output_type": "execute_result"
    }
   ],
   "source": [
    "contact_encoded = pd.get_dummies(bank_clean2['contact'], prefix = 'contact')\n",
    "contact_encoded.sample(n = 5, random_state = 1)"
   ]
  },
  {
   "cell_type": "code",
   "execution_count": 60,
   "metadata": {},
   "outputs": [
    {
     "data": {
      "text/html": [
       "<div>\n",
       "<style scoped>\n",
       "    .dataframe tbody tr th:only-of-type {\n",
       "        vertical-align: middle;\n",
       "    }\n",
       "\n",
       "    .dataframe tbody tr th {\n",
       "        vertical-align: top;\n",
       "    }\n",
       "\n",
       "    .dataframe thead th {\n",
       "        text-align: right;\n",
       "    }\n",
       "</style>\n",
       "<table border=\"1\" class=\"dataframe\">\n",
       "  <thead>\n",
       "    <tr style=\"text-align: right;\">\n",
       "      <th></th>\n",
       "      <th>job_admin.</th>\n",
       "      <th>job_blue-collar</th>\n",
       "      <th>job_entrepreneur</th>\n",
       "      <th>job_housemaid</th>\n",
       "      <th>job_management</th>\n",
       "      <th>job_retired</th>\n",
       "      <th>job_self-employed</th>\n",
       "      <th>job_services</th>\n",
       "      <th>job_student</th>\n",
       "      <th>job_technician</th>\n",
       "      <th>job_unemployed</th>\n",
       "    </tr>\n",
       "  </thead>\n",
       "  <tbody>\n",
       "    <tr>\n",
       "      <th>33195</th>\n",
       "      <td>False</td>\n",
       "      <td>False</td>\n",
       "      <td>False</td>\n",
       "      <td>False</td>\n",
       "      <td>False</td>\n",
       "      <td>False</td>\n",
       "      <td>False</td>\n",
       "      <td>False</td>\n",
       "      <td>False</td>\n",
       "      <td>True</td>\n",
       "      <td>False</td>\n",
       "    </tr>\n",
       "    <tr>\n",
       "      <th>29780</th>\n",
       "      <td>True</td>\n",
       "      <td>False</td>\n",
       "      <td>False</td>\n",
       "      <td>False</td>\n",
       "      <td>False</td>\n",
       "      <td>False</td>\n",
       "      <td>False</td>\n",
       "      <td>False</td>\n",
       "      <td>False</td>\n",
       "      <td>False</td>\n",
       "      <td>False</td>\n",
       "    </tr>\n",
       "    <tr>\n",
       "      <th>23803</th>\n",
       "      <td>False</td>\n",
       "      <td>False</td>\n",
       "      <td>False</td>\n",
       "      <td>False</td>\n",
       "      <td>False</td>\n",
       "      <td>False</td>\n",
       "      <td>False</td>\n",
       "      <td>True</td>\n",
       "      <td>False</td>\n",
       "      <td>False</td>\n",
       "      <td>False</td>\n",
       "    </tr>\n",
       "    <tr>\n",
       "      <th>33600</th>\n",
       "      <td>True</td>\n",
       "      <td>False</td>\n",
       "      <td>False</td>\n",
       "      <td>False</td>\n",
       "      <td>False</td>\n",
       "      <td>False</td>\n",
       "      <td>False</td>\n",
       "      <td>False</td>\n",
       "      <td>False</td>\n",
       "      <td>False</td>\n",
       "      <td>False</td>\n",
       "    </tr>\n",
       "    <tr>\n",
       "      <th>2136</th>\n",
       "      <td>False</td>\n",
       "      <td>True</td>\n",
       "      <td>False</td>\n",
       "      <td>False</td>\n",
       "      <td>False</td>\n",
       "      <td>False</td>\n",
       "      <td>False</td>\n",
       "      <td>False</td>\n",
       "      <td>False</td>\n",
       "      <td>False</td>\n",
       "      <td>False</td>\n",
       "    </tr>\n",
       "  </tbody>\n",
       "</table>\n",
       "</div>"
      ],
      "text/plain": [
       "       job_admin.  job_blue-collar  job_entrepreneur  job_housemaid  \\\n",
       "33195       False            False             False          False   \n",
       "29780        True            False             False          False   \n",
       "23803       False            False             False          False   \n",
       "33600        True            False             False          False   \n",
       "2136        False             True             False          False   \n",
       "\n",
       "       job_management  job_retired  job_self-employed  job_services  \\\n",
       "33195           False        False              False         False   \n",
       "29780           False        False              False         False   \n",
       "23803           False        False              False          True   \n",
       "33600           False        False              False         False   \n",
       "2136            False        False              False         False   \n",
       "\n",
       "       job_student  job_technician  job_unemployed  \n",
       "33195        False            True           False  \n",
       "29780        False           False           False  \n",
       "23803        False           False           False  \n",
       "33600        False           False           False  \n",
       "2136         False           False           False  "
      ]
     },
     "execution_count": 60,
     "metadata": {},
     "output_type": "execute_result"
    }
   ],
   "source": [
    "job_encoded = pd.get_dummies(bank_clean2['job'], prefix = 'job')\n",
    "job_encoded.sample(n = 5, random_state = 1)"
   ]
  },
  {
   "cell_type": "code",
   "execution_count": 61,
   "metadata": {},
   "outputs": [
    {
     "data": {
      "text/html": [
       "<div>\n",
       "<style scoped>\n",
       "    .dataframe tbody tr th:only-of-type {\n",
       "        vertical-align: middle;\n",
       "    }\n",
       "\n",
       "    .dataframe tbody tr th {\n",
       "        vertical-align: top;\n",
       "    }\n",
       "\n",
       "    .dataframe thead th {\n",
       "        text-align: right;\n",
       "    }\n",
       "</style>\n",
       "<table border=\"1\" class=\"dataframe\">\n",
       "  <thead>\n",
       "    <tr style=\"text-align: right;\">\n",
       "      <th></th>\n",
       "      <th>poutcome_failure</th>\n",
       "      <th>poutcome_nonexistent</th>\n",
       "      <th>poutcome_success</th>\n",
       "    </tr>\n",
       "  </thead>\n",
       "  <tbody>\n",
       "    <tr>\n",
       "      <th>33195</th>\n",
       "      <td>False</td>\n",
       "      <td>True</td>\n",
       "      <td>False</td>\n",
       "    </tr>\n",
       "    <tr>\n",
       "      <th>29780</th>\n",
       "      <td>False</td>\n",
       "      <td>True</td>\n",
       "      <td>False</td>\n",
       "    </tr>\n",
       "    <tr>\n",
       "      <th>23803</th>\n",
       "      <td>False</td>\n",
       "      <td>True</td>\n",
       "      <td>False</td>\n",
       "    </tr>\n",
       "    <tr>\n",
       "      <th>33600</th>\n",
       "      <td>False</td>\n",
       "      <td>True</td>\n",
       "      <td>False</td>\n",
       "    </tr>\n",
       "    <tr>\n",
       "      <th>2136</th>\n",
       "      <td>False</td>\n",
       "      <td>True</td>\n",
       "      <td>False</td>\n",
       "    </tr>\n",
       "  </tbody>\n",
       "</table>\n",
       "</div>"
      ],
      "text/plain": [
       "       poutcome_failure  poutcome_nonexistent  poutcome_success\n",
       "33195             False                  True             False\n",
       "29780             False                  True             False\n",
       "23803             False                  True             False\n",
       "33600             False                  True             False\n",
       "2136              False                  True             False"
      ]
     },
     "execution_count": 61,
     "metadata": {},
     "output_type": "execute_result"
    }
   ],
   "source": [
    "poutcome_encoded = pd.get_dummies(bank_clean2['poutcome'], prefix = 'poutcome')\n",
    "poutcome_encoded.sample(n = 5, random_state = 1)"
   ]
  },
  {
   "cell_type": "markdown",
   "metadata": {},
   "source": [
    "The categorical columns contact, job, and poutcome are nominal categories and one-hot encoded to prepare them for modelling."
   ]
  },
  {
   "cell_type": "code",
   "execution_count": 62,
   "metadata": {},
   "outputs": [
    {
     "data": {
      "text/plain": [
       "Index(['age', 'job', 'marital', 'education', 'housing', 'loan', 'contact',\n",
       "       'month', 'day_of_week', 'campaign', 'pdays', 'previous', 'poutcome',\n",
       "       'emp.var.rate', 'cons.price.idx', 'cons.conf.idx', 'euribor3m',\n",
       "       'nr.employed', 'y', 'contact_cellular', 'contact_telephone',\n",
       "       'job_admin.', 'job_blue-collar', 'job_entrepreneur', 'job_housemaid',\n",
       "       'job_management', 'job_retired', 'job_self-employed', 'job_services',\n",
       "       'job_student', 'job_technician', 'job_unemployed', 'poutcome_failure',\n",
       "       'poutcome_nonexistent', 'poutcome_success'],\n",
       "      dtype='object')"
      ]
     },
     "execution_count": 62,
     "metadata": {},
     "output_type": "execute_result"
    }
   ],
   "source": [
    "bank_model = pd.concat([bank_clean2, contact_encoded, job_encoded, poutcome_encoded], axis=1)\n",
    "bank_model.columns"
   ]
  },
  {
   "cell_type": "markdown",
   "metadata": {},
   "source": [
    "After one-hot encoding, the columns were joined to the main bank dataset."
   ]
  },
  {
   "cell_type": "code",
   "execution_count": 63,
   "metadata": {},
   "outputs": [],
   "source": [
    "bank_model2 = bank_clean2.copy()"
   ]
  },
  {
   "cell_type": "code",
   "execution_count": 64,
   "metadata": {},
   "outputs": [
    {
     "data": {
      "text/plain": [
       "contact\n",
       "1    24441\n",
       "2    13804\n",
       "Name: count, dtype: int64"
      ]
     },
     "execution_count": 64,
     "metadata": {},
     "output_type": "execute_result"
    }
   ],
   "source": [
    "bank_model2['contact'] = bank_clean2['contact'].map({'cellular' : 1, 'telephone' : 2})\n",
    "bank_model2['contact'].value_counts()"
   ]
  },
  {
   "cell_type": "code",
   "execution_count": 65,
   "metadata": {},
   "outputs": [
    {
     "data": {
      "text/plain": [
       "job\n",
       "3     9937\n",
       "4     8560\n",
       "1     6380\n",
       "10    3716\n",
       "7     2728\n",
       "8     1577\n",
       "5     1360\n",
       "9     1349\n",
       "6      987\n",
       "2      963\n",
       "11     688\n",
       "Name: count, dtype: int64"
      ]
     },
     "execution_count": 65,
     "metadata": {},
     "output_type": "execute_result"
    }
   ],
   "source": [
    "bank_model2['job'] = bank_clean2['job'].map({'technician' : 1, 'unemployed' : 2, 'admin.' : 3, 'blue-collar' : 4, 'entrepreneur' : 5, 'housemaid' : 6, \n",
    "                                            'management' : 7, 'retired' : 8, 'self-employed' : 9, 'services' : 10, 'student' : 11})\n",
    "bank_model2['job'].value_counts()"
   ]
  },
  {
   "cell_type": "code",
   "execution_count": 66,
   "metadata": {},
   "outputs": [
    {
     "data": {
      "text/plain": [
       "poutcome\n",
       "3    33066\n",
       "1     3936\n",
       "2     1243\n",
       "Name: count, dtype: int64"
      ]
     },
     "execution_count": 66,
     "metadata": {},
     "output_type": "execute_result"
    }
   ],
   "source": [
    "bank_model2['poutcome'] = bank_clean2['poutcome'].map({'failure' : 1, 'success' : 2, 'nonexistent' : 3})\n",
    "bank_model2['poutcome'].value_counts()"
   ]
  },
  {
   "cell_type": "code",
   "execution_count": 67,
   "metadata": {},
   "outputs": [
    {
     "data": {
      "text/plain": [
       "month\n",
       "5     12794\n",
       "7      6630\n",
       "8      5822\n",
       "6      4846\n",
       "11     3898\n",
       "4      2436\n",
       "10      659\n",
       "9       502\n",
       "3       497\n",
       "12      161\n",
       "Name: count, dtype: int64"
      ]
     },
     "execution_count": 67,
     "metadata": {},
     "output_type": "execute_result"
    }
   ],
   "source": [
    "bank_model['month'] = bank_clean2['month'].map({'mar' : 3, 'apr' : 4, 'may' : 5, 'jun' : 6, 'jul' : 7, 'aug' : 8, 'sep' : 9, 'oct' : 10, 'nov' : 11, 'dec' : 12})\n",
    "bank_model2['month'] = bank_clean2['month'].map({'mar' : 3, 'apr' : 4, 'may' : 5, 'jun' : 6, 'jul' : 7, 'aug' : 8, 'sep' : 9, 'oct' : 10, 'nov' : 11, 'dec' : 12})\n",
    "bank_model['month'].value_counts()"
   ]
  },
  {
   "cell_type": "code",
   "execution_count": 68,
   "metadata": {},
   "outputs": [
    {
     "data": {
      "text/plain": [
       "education\n",
       "7    11821\n",
       "5     9244\n",
       "4     5856\n",
       "6     5100\n",
       "2     4002\n",
       "3     2204\n",
       "1       18\n",
       "Name: count, dtype: int64"
      ]
     },
     "execution_count": 68,
     "metadata": {},
     "output_type": "execute_result"
    }
   ],
   "source": [
    "bank_model['education'] = bank_clean2['education'].map({'illiterate' : 1, 'basic.4y' : 2, 'basic.6y' : 3, 'basic.9y' : 4, 'high.school' : 5, 'professional.course' : 6, 'university.degree' : 7})\n",
    "bank_model2['education'] = bank_clean2['education'].map({'illiterate' : 1, 'basic.4y' : 2, 'basic.6y' : 3, 'basic.9y' : 4, 'high.school' : 5, 'professional.course' : 6, 'university.degree' : 7})\n",
    "bank_model['education'].value_counts()"
   ]
  },
  {
   "cell_type": "markdown",
   "metadata": {},
   "source": [
    "The categorical columns education and month are ordinal categories and ordinal encoded by mapping them to unique integers based on their order."
   ]
  },
  {
   "cell_type": "code",
   "execution_count": 69,
   "metadata": {},
   "outputs": [
    {
     "data": {
      "text/html": [
       "<div>\n",
       "<style scoped>\n",
       "    .dataframe tbody tr th:only-of-type {\n",
       "        vertical-align: middle;\n",
       "    }\n",
       "\n",
       "    .dataframe tbody tr th {\n",
       "        vertical-align: top;\n",
       "    }\n",
       "\n",
       "    .dataframe thead th {\n",
       "        text-align: right;\n",
       "    }\n",
       "</style>\n",
       "<table border=\"1\" class=\"dataframe\">\n",
       "  <thead>\n",
       "    <tr style=\"text-align: right;\">\n",
       "      <th></th>\n",
       "      <th>age</th>\n",
       "      <th>job</th>\n",
       "      <th>marital</th>\n",
       "      <th>education</th>\n",
       "      <th>housing</th>\n",
       "      <th>loan</th>\n",
       "      <th>contact</th>\n",
       "      <th>month</th>\n",
       "      <th>day_of_week</th>\n",
       "      <th>campaign</th>\n",
       "      <th>...</th>\n",
       "      <th>job_management</th>\n",
       "      <th>job_retired</th>\n",
       "      <th>job_self-employed</th>\n",
       "      <th>job_services</th>\n",
       "      <th>job_student</th>\n",
       "      <th>job_technician</th>\n",
       "      <th>job_unemployed</th>\n",
       "      <th>poutcome_failure</th>\n",
       "      <th>poutcome_nonexistent</th>\n",
       "      <th>poutcome_success</th>\n",
       "    </tr>\n",
       "  </thead>\n",
       "  <tbody>\n",
       "    <tr>\n",
       "      <th>33195</th>\n",
       "      <td>33</td>\n",
       "      <td>technician</td>\n",
       "      <td>divorced</td>\n",
       "      <td>6</td>\n",
       "      <td>False</td>\n",
       "      <td>False</td>\n",
       "      <td>cellular</td>\n",
       "      <td>5</td>\n",
       "      <td>mon</td>\n",
       "      <td>1</td>\n",
       "      <td>...</td>\n",
       "      <td>False</td>\n",
       "      <td>False</td>\n",
       "      <td>False</td>\n",
       "      <td>False</td>\n",
       "      <td>False</td>\n",
       "      <td>True</td>\n",
       "      <td>False</td>\n",
       "      <td>False</td>\n",
       "      <td>True</td>\n",
       "      <td>False</td>\n",
       "    </tr>\n",
       "    <tr>\n",
       "      <th>29780</th>\n",
       "      <td>39</td>\n",
       "      <td>admin.</td>\n",
       "      <td>married</td>\n",
       "      <td>3</td>\n",
       "      <td>True</td>\n",
       "      <td>False</td>\n",
       "      <td>telephone</td>\n",
       "      <td>5</td>\n",
       "      <td>thu</td>\n",
       "      <td>3</td>\n",
       "      <td>...</td>\n",
       "      <td>False</td>\n",
       "      <td>False</td>\n",
       "      <td>False</td>\n",
       "      <td>False</td>\n",
       "      <td>False</td>\n",
       "      <td>False</td>\n",
       "      <td>False</td>\n",
       "      <td>False</td>\n",
       "      <td>True</td>\n",
       "      <td>False</td>\n",
       "    </tr>\n",
       "    <tr>\n",
       "      <th>23803</th>\n",
       "      <td>30</td>\n",
       "      <td>services</td>\n",
       "      <td>married</td>\n",
       "      <td>6</td>\n",
       "      <td>False</td>\n",
       "      <td>False</td>\n",
       "      <td>cellular</td>\n",
       "      <td>11</td>\n",
       "      <td>wed</td>\n",
       "      <td>1</td>\n",
       "      <td>...</td>\n",
       "      <td>False</td>\n",
       "      <td>False</td>\n",
       "      <td>False</td>\n",
       "      <td>True</td>\n",
       "      <td>False</td>\n",
       "      <td>False</td>\n",
       "      <td>False</td>\n",
       "      <td>False</td>\n",
       "      <td>True</td>\n",
       "      <td>False</td>\n",
       "    </tr>\n",
       "    <tr>\n",
       "      <th>33600</th>\n",
       "      <td>25</td>\n",
       "      <td>admin.</td>\n",
       "      <td>single</td>\n",
       "      <td>7</td>\n",
       "      <td>True</td>\n",
       "      <td>True</td>\n",
       "      <td>cellular</td>\n",
       "      <td>5</td>\n",
       "      <td>tue</td>\n",
       "      <td>2</td>\n",
       "      <td>...</td>\n",
       "      <td>False</td>\n",
       "      <td>False</td>\n",
       "      <td>False</td>\n",
       "      <td>False</td>\n",
       "      <td>False</td>\n",
       "      <td>False</td>\n",
       "      <td>False</td>\n",
       "      <td>False</td>\n",
       "      <td>True</td>\n",
       "      <td>False</td>\n",
       "    </tr>\n",
       "    <tr>\n",
       "      <th>2136</th>\n",
       "      <td>36</td>\n",
       "      <td>blue-collar</td>\n",
       "      <td>married</td>\n",
       "      <td>4</td>\n",
       "      <td>False</td>\n",
       "      <td>True</td>\n",
       "      <td>telephone</td>\n",
       "      <td>5</td>\n",
       "      <td>tue</td>\n",
       "      <td>1</td>\n",
       "      <td>...</td>\n",
       "      <td>False</td>\n",
       "      <td>False</td>\n",
       "      <td>False</td>\n",
       "      <td>False</td>\n",
       "      <td>False</td>\n",
       "      <td>False</td>\n",
       "      <td>False</td>\n",
       "      <td>False</td>\n",
       "      <td>True</td>\n",
       "      <td>False</td>\n",
       "    </tr>\n",
       "  </tbody>\n",
       "</table>\n",
       "<p>5 rows × 35 columns</p>\n",
       "</div>"
      ],
      "text/plain": [
       "       age          job   marital  education  housing   loan    contact  \\\n",
       "33195   33   technician  divorced          6    False  False   cellular   \n",
       "29780   39       admin.   married          3     True  False  telephone   \n",
       "23803   30     services   married          6    False  False   cellular   \n",
       "33600   25       admin.    single          7     True   True   cellular   \n",
       "2136    36  blue-collar   married          4    False   True  telephone   \n",
       "\n",
       "       month day_of_week  campaign  ...  job_management  job_retired  \\\n",
       "33195      5         mon         1  ...           False        False   \n",
       "29780      5         thu         3  ...           False        False   \n",
       "23803     11         wed         1  ...           False        False   \n",
       "33600      5         tue         2  ...           False        False   \n",
       "2136       5         tue         1  ...           False        False   \n",
       "\n",
       "      job_self-employed  job_services  job_student  job_technician  \\\n",
       "33195             False         False        False            True   \n",
       "29780             False         False        False           False   \n",
       "23803             False          True        False           False   \n",
       "33600             False         False        False           False   \n",
       "2136              False         False        False           False   \n",
       "\n",
       "       job_unemployed  poutcome_failure  poutcome_nonexistent  \\\n",
       "33195           False             False                  True   \n",
       "29780           False             False                  True   \n",
       "23803           False             False                  True   \n",
       "33600           False             False                  True   \n",
       "2136            False             False                  True   \n",
       "\n",
       "       poutcome_success  \n",
       "33195             False  \n",
       "29780             False  \n",
       "23803             False  \n",
       "33600             False  \n",
       "2136              False  \n",
       "\n",
       "[5 rows x 35 columns]"
      ]
     },
     "execution_count": 69,
     "metadata": {},
     "output_type": "execute_result"
    }
   ],
   "source": [
    "bank_model.sample(n = 5, random_state = 1)"
   ]
  },
  {
   "cell_type": "code",
   "execution_count": 70,
   "metadata": {},
   "outputs": [
    {
     "data": {
      "text/html": [
       "<div>\n",
       "<style scoped>\n",
       "    .dataframe tbody tr th:only-of-type {\n",
       "        vertical-align: middle;\n",
       "    }\n",
       "\n",
       "    .dataframe tbody tr th {\n",
       "        vertical-align: top;\n",
       "    }\n",
       "\n",
       "    .dataframe thead th {\n",
       "        text-align: right;\n",
       "    }\n",
       "</style>\n",
       "<table border=\"1\" class=\"dataframe\">\n",
       "  <thead>\n",
       "    <tr style=\"text-align: right;\">\n",
       "      <th></th>\n",
       "      <th>age</th>\n",
       "      <th>job</th>\n",
       "      <th>education</th>\n",
       "      <th>contact</th>\n",
       "      <th>month</th>\n",
       "      <th>campaign</th>\n",
       "      <th>pdays</th>\n",
       "      <th>previous</th>\n",
       "      <th>poutcome</th>\n",
       "      <th>emp.var.rate</th>\n",
       "      <th>nr.employed</th>\n",
       "    </tr>\n",
       "  </thead>\n",
       "  <tbody>\n",
       "    <tr>\n",
       "      <th>0</th>\n",
       "      <td>56</td>\n",
       "      <td>6</td>\n",
       "      <td>2</td>\n",
       "      <td>2</td>\n",
       "      <td>5</td>\n",
       "      <td>1</td>\n",
       "      <td>999</td>\n",
       "      <td>0</td>\n",
       "      <td>3</td>\n",
       "      <td>1.1</td>\n",
       "      <td>5191.0</td>\n",
       "    </tr>\n",
       "    <tr>\n",
       "      <th>1</th>\n",
       "      <td>57</td>\n",
       "      <td>10</td>\n",
       "      <td>5</td>\n",
       "      <td>2</td>\n",
       "      <td>5</td>\n",
       "      <td>1</td>\n",
       "      <td>999</td>\n",
       "      <td>0</td>\n",
       "      <td>3</td>\n",
       "      <td>1.1</td>\n",
       "      <td>5191.0</td>\n",
       "    </tr>\n",
       "    <tr>\n",
       "      <th>2</th>\n",
       "      <td>37</td>\n",
       "      <td>10</td>\n",
       "      <td>5</td>\n",
       "      <td>2</td>\n",
       "      <td>5</td>\n",
       "      <td>1</td>\n",
       "      <td>999</td>\n",
       "      <td>0</td>\n",
       "      <td>3</td>\n",
       "      <td>1.1</td>\n",
       "      <td>5191.0</td>\n",
       "    </tr>\n",
       "    <tr>\n",
       "      <th>3</th>\n",
       "      <td>40</td>\n",
       "      <td>3</td>\n",
       "      <td>3</td>\n",
       "      <td>2</td>\n",
       "      <td>5</td>\n",
       "      <td>1</td>\n",
       "      <td>999</td>\n",
       "      <td>0</td>\n",
       "      <td>3</td>\n",
       "      <td>1.1</td>\n",
       "      <td>5191.0</td>\n",
       "    </tr>\n",
       "    <tr>\n",
       "      <th>4</th>\n",
       "      <td>56</td>\n",
       "      <td>10</td>\n",
       "      <td>5</td>\n",
       "      <td>2</td>\n",
       "      <td>5</td>\n",
       "      <td>1</td>\n",
       "      <td>999</td>\n",
       "      <td>0</td>\n",
       "      <td>3</td>\n",
       "      <td>1.1</td>\n",
       "      <td>5191.0</td>\n",
       "    </tr>\n",
       "    <tr>\n",
       "      <th>...</th>\n",
       "      <td>...</td>\n",
       "      <td>...</td>\n",
       "      <td>...</td>\n",
       "      <td>...</td>\n",
       "      <td>...</td>\n",
       "      <td>...</td>\n",
       "      <td>...</td>\n",
       "      <td>...</td>\n",
       "      <td>...</td>\n",
       "      <td>...</td>\n",
       "      <td>...</td>\n",
       "    </tr>\n",
       "    <tr>\n",
       "      <th>38240</th>\n",
       "      <td>73</td>\n",
       "      <td>8</td>\n",
       "      <td>6</td>\n",
       "      <td>1</td>\n",
       "      <td>11</td>\n",
       "      <td>1</td>\n",
       "      <td>999</td>\n",
       "      <td>0</td>\n",
       "      <td>3</td>\n",
       "      <td>-1.1</td>\n",
       "      <td>4963.6</td>\n",
       "    </tr>\n",
       "    <tr>\n",
       "      <th>38241</th>\n",
       "      <td>46</td>\n",
       "      <td>4</td>\n",
       "      <td>6</td>\n",
       "      <td>1</td>\n",
       "      <td>11</td>\n",
       "      <td>1</td>\n",
       "      <td>999</td>\n",
       "      <td>0</td>\n",
       "      <td>3</td>\n",
       "      <td>-1.1</td>\n",
       "      <td>4963.6</td>\n",
       "    </tr>\n",
       "    <tr>\n",
       "      <th>38242</th>\n",
       "      <td>56</td>\n",
       "      <td>8</td>\n",
       "      <td>7</td>\n",
       "      <td>1</td>\n",
       "      <td>11</td>\n",
       "      <td>2</td>\n",
       "      <td>999</td>\n",
       "      <td>0</td>\n",
       "      <td>3</td>\n",
       "      <td>-1.1</td>\n",
       "      <td>4963.6</td>\n",
       "    </tr>\n",
       "    <tr>\n",
       "      <th>38243</th>\n",
       "      <td>44</td>\n",
       "      <td>1</td>\n",
       "      <td>6</td>\n",
       "      <td>1</td>\n",
       "      <td>11</td>\n",
       "      <td>1</td>\n",
       "      <td>999</td>\n",
       "      <td>0</td>\n",
       "      <td>3</td>\n",
       "      <td>-1.1</td>\n",
       "      <td>4963.6</td>\n",
       "    </tr>\n",
       "    <tr>\n",
       "      <th>38244</th>\n",
       "      <td>74</td>\n",
       "      <td>8</td>\n",
       "      <td>6</td>\n",
       "      <td>1</td>\n",
       "      <td>11</td>\n",
       "      <td>3</td>\n",
       "      <td>999</td>\n",
       "      <td>1</td>\n",
       "      <td>1</td>\n",
       "      <td>-1.1</td>\n",
       "      <td>4963.6</td>\n",
       "    </tr>\n",
       "  </tbody>\n",
       "</table>\n",
       "<p>38245 rows × 11 columns</p>\n",
       "</div>"
      ],
      "text/plain": [
       "       age  job  education  contact  month  campaign  pdays  previous  \\\n",
       "0       56    6          2        2      5         1    999         0   \n",
       "1       57   10          5        2      5         1    999         0   \n",
       "2       37   10          5        2      5         1    999         0   \n",
       "3       40    3          3        2      5         1    999         0   \n",
       "4       56   10          5        2      5         1    999         0   \n",
       "...    ...  ...        ...      ...    ...       ...    ...       ...   \n",
       "38240   73    8          6        1     11         1    999         0   \n",
       "38241   46    4          6        1     11         1    999         0   \n",
       "38242   56    8          7        1     11         2    999         0   \n",
       "38243   44    1          6        1     11         1    999         0   \n",
       "38244   74    8          6        1     11         3    999         1   \n",
       "\n",
       "       poutcome  emp.var.rate  nr.employed  \n",
       "0             3           1.1       5191.0  \n",
       "1             3           1.1       5191.0  \n",
       "2             3           1.1       5191.0  \n",
       "3             3           1.1       5191.0  \n",
       "4             3           1.1       5191.0  \n",
       "...         ...           ...          ...  \n",
       "38240         3          -1.1       4963.6  \n",
       "38241         3          -1.1       4963.6  \n",
       "38242         3          -1.1       4963.6  \n",
       "38243         3          -1.1       4963.6  \n",
       "38244         1          -1.1       4963.6  \n",
       "\n",
       "[38245 rows x 11 columns]"
      ]
     },
     "execution_count": 70,
     "metadata": {},
     "output_type": "execute_result"
    }
   ],
   "source": [
    "# categorical variables were ordinal encoded instead of one-hot encoded for the decision tree classifier\n",
    "X2 = bank_model2.drop(['housing', 'loan', 'marital', 'day_of_week', 'cons.price.idx', 'cons.conf.idx', 'euribor3m', 'y'], axis = 1)\n",
    "X2"
   ]
  },
  {
   "cell_type": "code",
   "execution_count": 71,
   "metadata": {},
   "outputs": [
    {
     "data": {
      "text/html": [
       "<div>\n",
       "<style scoped>\n",
       "    .dataframe tbody tr th:only-of-type {\n",
       "        vertical-align: middle;\n",
       "    }\n",
       "\n",
       "    .dataframe tbody tr th {\n",
       "        vertical-align: top;\n",
       "    }\n",
       "\n",
       "    .dataframe thead th {\n",
       "        text-align: right;\n",
       "    }\n",
       "</style>\n",
       "<table border=\"1\" class=\"dataframe\">\n",
       "  <thead>\n",
       "    <tr style=\"text-align: right;\">\n",
       "      <th></th>\n",
       "      <th>age</th>\n",
       "      <th>education</th>\n",
       "      <th>month</th>\n",
       "      <th>campaign</th>\n",
       "      <th>pdays</th>\n",
       "      <th>previous</th>\n",
       "      <th>emp.var.rate</th>\n",
       "      <th>nr.employed</th>\n",
       "      <th>contact_telephone</th>\n",
       "      <th>job_blue-collar</th>\n",
       "      <th>...</th>\n",
       "      <th>job_housemaid</th>\n",
       "      <th>job_management</th>\n",
       "      <th>job_retired</th>\n",
       "      <th>job_self-employed</th>\n",
       "      <th>job_services</th>\n",
       "      <th>job_student</th>\n",
       "      <th>job_technician</th>\n",
       "      <th>job_unemployed</th>\n",
       "      <th>poutcome_failure</th>\n",
       "      <th>poutcome_success</th>\n",
       "    </tr>\n",
       "  </thead>\n",
       "  <tbody>\n",
       "    <tr>\n",
       "      <th>0</th>\n",
       "      <td>56</td>\n",
       "      <td>2</td>\n",
       "      <td>5</td>\n",
       "      <td>1</td>\n",
       "      <td>999</td>\n",
       "      <td>0</td>\n",
       "      <td>1.1</td>\n",
       "      <td>5191.0</td>\n",
       "      <td>True</td>\n",
       "      <td>False</td>\n",
       "      <td>...</td>\n",
       "      <td>True</td>\n",
       "      <td>False</td>\n",
       "      <td>False</td>\n",
       "      <td>False</td>\n",
       "      <td>False</td>\n",
       "      <td>False</td>\n",
       "      <td>False</td>\n",
       "      <td>False</td>\n",
       "      <td>False</td>\n",
       "      <td>False</td>\n",
       "    </tr>\n",
       "    <tr>\n",
       "      <th>1</th>\n",
       "      <td>57</td>\n",
       "      <td>5</td>\n",
       "      <td>5</td>\n",
       "      <td>1</td>\n",
       "      <td>999</td>\n",
       "      <td>0</td>\n",
       "      <td>1.1</td>\n",
       "      <td>5191.0</td>\n",
       "      <td>True</td>\n",
       "      <td>False</td>\n",
       "      <td>...</td>\n",
       "      <td>False</td>\n",
       "      <td>False</td>\n",
       "      <td>False</td>\n",
       "      <td>False</td>\n",
       "      <td>True</td>\n",
       "      <td>False</td>\n",
       "      <td>False</td>\n",
       "      <td>False</td>\n",
       "      <td>False</td>\n",
       "      <td>False</td>\n",
       "    </tr>\n",
       "    <tr>\n",
       "      <th>2</th>\n",
       "      <td>37</td>\n",
       "      <td>5</td>\n",
       "      <td>5</td>\n",
       "      <td>1</td>\n",
       "      <td>999</td>\n",
       "      <td>0</td>\n",
       "      <td>1.1</td>\n",
       "      <td>5191.0</td>\n",
       "      <td>True</td>\n",
       "      <td>False</td>\n",
       "      <td>...</td>\n",
       "      <td>False</td>\n",
       "      <td>False</td>\n",
       "      <td>False</td>\n",
       "      <td>False</td>\n",
       "      <td>True</td>\n",
       "      <td>False</td>\n",
       "      <td>False</td>\n",
       "      <td>False</td>\n",
       "      <td>False</td>\n",
       "      <td>False</td>\n",
       "    </tr>\n",
       "    <tr>\n",
       "      <th>3</th>\n",
       "      <td>40</td>\n",
       "      <td>3</td>\n",
       "      <td>5</td>\n",
       "      <td>1</td>\n",
       "      <td>999</td>\n",
       "      <td>0</td>\n",
       "      <td>1.1</td>\n",
       "      <td>5191.0</td>\n",
       "      <td>True</td>\n",
       "      <td>False</td>\n",
       "      <td>...</td>\n",
       "      <td>False</td>\n",
       "      <td>False</td>\n",
       "      <td>False</td>\n",
       "      <td>False</td>\n",
       "      <td>False</td>\n",
       "      <td>False</td>\n",
       "      <td>False</td>\n",
       "      <td>False</td>\n",
       "      <td>False</td>\n",
       "      <td>False</td>\n",
       "    </tr>\n",
       "    <tr>\n",
       "      <th>4</th>\n",
       "      <td>56</td>\n",
       "      <td>5</td>\n",
       "      <td>5</td>\n",
       "      <td>1</td>\n",
       "      <td>999</td>\n",
       "      <td>0</td>\n",
       "      <td>1.1</td>\n",
       "      <td>5191.0</td>\n",
       "      <td>True</td>\n",
       "      <td>False</td>\n",
       "      <td>...</td>\n",
       "      <td>False</td>\n",
       "      <td>False</td>\n",
       "      <td>False</td>\n",
       "      <td>False</td>\n",
       "      <td>True</td>\n",
       "      <td>False</td>\n",
       "      <td>False</td>\n",
       "      <td>False</td>\n",
       "      <td>False</td>\n",
       "      <td>False</td>\n",
       "    </tr>\n",
       "    <tr>\n",
       "      <th>...</th>\n",
       "      <td>...</td>\n",
       "      <td>...</td>\n",
       "      <td>...</td>\n",
       "      <td>...</td>\n",
       "      <td>...</td>\n",
       "      <td>...</td>\n",
       "      <td>...</td>\n",
       "      <td>...</td>\n",
       "      <td>...</td>\n",
       "      <td>...</td>\n",
       "      <td>...</td>\n",
       "      <td>...</td>\n",
       "      <td>...</td>\n",
       "      <td>...</td>\n",
       "      <td>...</td>\n",
       "      <td>...</td>\n",
       "      <td>...</td>\n",
       "      <td>...</td>\n",
       "      <td>...</td>\n",
       "      <td>...</td>\n",
       "      <td>...</td>\n",
       "    </tr>\n",
       "    <tr>\n",
       "      <th>38240</th>\n",
       "      <td>73</td>\n",
       "      <td>6</td>\n",
       "      <td>11</td>\n",
       "      <td>1</td>\n",
       "      <td>999</td>\n",
       "      <td>0</td>\n",
       "      <td>-1.1</td>\n",
       "      <td>4963.6</td>\n",
       "      <td>False</td>\n",
       "      <td>False</td>\n",
       "      <td>...</td>\n",
       "      <td>False</td>\n",
       "      <td>False</td>\n",
       "      <td>True</td>\n",
       "      <td>False</td>\n",
       "      <td>False</td>\n",
       "      <td>False</td>\n",
       "      <td>False</td>\n",
       "      <td>False</td>\n",
       "      <td>False</td>\n",
       "      <td>False</td>\n",
       "    </tr>\n",
       "    <tr>\n",
       "      <th>38241</th>\n",
       "      <td>46</td>\n",
       "      <td>6</td>\n",
       "      <td>11</td>\n",
       "      <td>1</td>\n",
       "      <td>999</td>\n",
       "      <td>0</td>\n",
       "      <td>-1.1</td>\n",
       "      <td>4963.6</td>\n",
       "      <td>False</td>\n",
       "      <td>True</td>\n",
       "      <td>...</td>\n",
       "      <td>False</td>\n",
       "      <td>False</td>\n",
       "      <td>False</td>\n",
       "      <td>False</td>\n",
       "      <td>False</td>\n",
       "      <td>False</td>\n",
       "      <td>False</td>\n",
       "      <td>False</td>\n",
       "      <td>False</td>\n",
       "      <td>False</td>\n",
       "    </tr>\n",
       "    <tr>\n",
       "      <th>38242</th>\n",
       "      <td>56</td>\n",
       "      <td>7</td>\n",
       "      <td>11</td>\n",
       "      <td>2</td>\n",
       "      <td>999</td>\n",
       "      <td>0</td>\n",
       "      <td>-1.1</td>\n",
       "      <td>4963.6</td>\n",
       "      <td>False</td>\n",
       "      <td>False</td>\n",
       "      <td>...</td>\n",
       "      <td>False</td>\n",
       "      <td>False</td>\n",
       "      <td>True</td>\n",
       "      <td>False</td>\n",
       "      <td>False</td>\n",
       "      <td>False</td>\n",
       "      <td>False</td>\n",
       "      <td>False</td>\n",
       "      <td>False</td>\n",
       "      <td>False</td>\n",
       "    </tr>\n",
       "    <tr>\n",
       "      <th>38243</th>\n",
       "      <td>44</td>\n",
       "      <td>6</td>\n",
       "      <td>11</td>\n",
       "      <td>1</td>\n",
       "      <td>999</td>\n",
       "      <td>0</td>\n",
       "      <td>-1.1</td>\n",
       "      <td>4963.6</td>\n",
       "      <td>False</td>\n",
       "      <td>False</td>\n",
       "      <td>...</td>\n",
       "      <td>False</td>\n",
       "      <td>False</td>\n",
       "      <td>False</td>\n",
       "      <td>False</td>\n",
       "      <td>False</td>\n",
       "      <td>False</td>\n",
       "      <td>True</td>\n",
       "      <td>False</td>\n",
       "      <td>False</td>\n",
       "      <td>False</td>\n",
       "    </tr>\n",
       "    <tr>\n",
       "      <th>38244</th>\n",
       "      <td>74</td>\n",
       "      <td>6</td>\n",
       "      <td>11</td>\n",
       "      <td>3</td>\n",
       "      <td>999</td>\n",
       "      <td>1</td>\n",
       "      <td>-1.1</td>\n",
       "      <td>4963.6</td>\n",
       "      <td>False</td>\n",
       "      <td>False</td>\n",
       "      <td>...</td>\n",
       "      <td>False</td>\n",
       "      <td>False</td>\n",
       "      <td>True</td>\n",
       "      <td>False</td>\n",
       "      <td>False</td>\n",
       "      <td>False</td>\n",
       "      <td>False</td>\n",
       "      <td>False</td>\n",
       "      <td>True</td>\n",
       "      <td>False</td>\n",
       "    </tr>\n",
       "  </tbody>\n",
       "</table>\n",
       "<p>38245 rows × 21 columns</p>\n",
       "</div>"
      ],
      "text/plain": [
       "       age  education  month  campaign  pdays  previous  emp.var.rate  \\\n",
       "0       56          2      5         1    999         0           1.1   \n",
       "1       57          5      5         1    999         0           1.1   \n",
       "2       37          5      5         1    999         0           1.1   \n",
       "3       40          3      5         1    999         0           1.1   \n",
       "4       56          5      5         1    999         0           1.1   \n",
       "...    ...        ...    ...       ...    ...       ...           ...   \n",
       "38240   73          6     11         1    999         0          -1.1   \n",
       "38241   46          6     11         1    999         0          -1.1   \n",
       "38242   56          7     11         2    999         0          -1.1   \n",
       "38243   44          6     11         1    999         0          -1.1   \n",
       "38244   74          6     11         3    999         1          -1.1   \n",
       "\n",
       "       nr.employed  contact_telephone  job_blue-collar  ...  job_housemaid  \\\n",
       "0           5191.0               True            False  ...           True   \n",
       "1           5191.0               True            False  ...          False   \n",
       "2           5191.0               True            False  ...          False   \n",
       "3           5191.0               True            False  ...          False   \n",
       "4           5191.0               True            False  ...          False   \n",
       "...            ...                ...              ...  ...            ...   \n",
       "38240       4963.6              False            False  ...          False   \n",
       "38241       4963.6              False             True  ...          False   \n",
       "38242       4963.6              False            False  ...          False   \n",
       "38243       4963.6              False            False  ...          False   \n",
       "38244       4963.6              False            False  ...          False   \n",
       "\n",
       "       job_management  job_retired  job_self-employed  job_services  \\\n",
       "0               False        False              False         False   \n",
       "1               False        False              False          True   \n",
       "2               False        False              False          True   \n",
       "3               False        False              False         False   \n",
       "4               False        False              False          True   \n",
       "...               ...          ...                ...           ...   \n",
       "38240           False         True              False         False   \n",
       "38241           False        False              False         False   \n",
       "38242           False         True              False         False   \n",
       "38243           False        False              False         False   \n",
       "38244           False         True              False         False   \n",
       "\n",
       "       job_student  job_technician  job_unemployed  poutcome_failure  \\\n",
       "0            False           False           False             False   \n",
       "1            False           False           False             False   \n",
       "2            False           False           False             False   \n",
       "3            False           False           False             False   \n",
       "4            False           False           False             False   \n",
       "...            ...             ...             ...               ...   \n",
       "38240        False           False           False             False   \n",
       "38241        False           False           False             False   \n",
       "38242        False           False           False             False   \n",
       "38243        False            True           False             False   \n",
       "38244        False           False           False              True   \n",
       "\n",
       "       poutcome_success  \n",
       "0                 False  \n",
       "1                 False  \n",
       "2                 False  \n",
       "3                 False  \n",
       "4                 False  \n",
       "...                 ...  \n",
       "38240             False  \n",
       "38241             False  \n",
       "38242             False  \n",
       "38243             False  \n",
       "38244             False  \n",
       "\n",
       "[38245 rows x 21 columns]"
      ]
     },
     "execution_count": 71,
     "metadata": {},
     "output_type": "execute_result"
    }
   ],
   "source": [
    "X = bank_model.drop(['job', 'contact', 'poutcome', 'housing', 'loan', 'marital', 'day_of_week', 'cons.price.idx', 'cons.conf.idx', 'euribor3m', 'job_admin.', 'contact_cellular', 'poutcome_nonexistent', 'y'], axis = 1)\n",
    "X"
   ]
  },
  {
   "cell_type": "markdown",
   "metadata": {},
   "source": [
    "The X variable was assigned with the columns that are going to be used as input variables for predictive modelling. <br>\n",
    "\n",
    "Any unnecessary columns were dropped, including the reference columns, job_admin., contact_cellular, and poutcome-nonexistent, for each categorical feature that was one-hot encoded."
   ]
  },
  {
   "cell_type": "code",
   "execution_count": 72,
   "metadata": {},
   "outputs": [
    {
     "data": {
      "text/plain": [
       "0        False\n",
       "1        False\n",
       "2        False\n",
       "3        False\n",
       "4        False\n",
       "         ...  \n",
       "38240     True\n",
       "38241    False\n",
       "38242    False\n",
       "38243     True\n",
       "38244    False\n",
       "Name: y, Length: 38245, dtype: bool"
      ]
     },
     "execution_count": 72,
     "metadata": {},
     "output_type": "execute_result"
    }
   ],
   "source": [
    "y = bank_model['y']\n",
    "y"
   ]
  },
  {
   "cell_type": "markdown",
   "metadata": {},
   "source": [
    "The Y variable was assigned with the column y, which is the output variable our model will be predicting. "
   ]
  },
  {
   "cell_type": "code",
   "execution_count": 73,
   "metadata": {},
   "outputs": [],
   "source": [
    "from sklearn.neighbors import KNeighborsClassifier\n",
    "from sklearn.model_selection import train_test_split\n",
    "from sklearn.preprocessing import StandardScaler\n",
    "from sklearn import metrics"
   ]
  },
  {
   "cell_type": "code",
   "execution_count": 74,
   "metadata": {},
   "outputs": [],
   "source": [
    "X_train, X_test, y_train, y_test = train_test_split(X, y, random_state = 99, stratify = y) "
   ]
  },
  {
   "cell_type": "markdown",
   "metadata": {},
   "source": [
    "Created the necessary `X_train`, `X_test`, `y_train` and `y_test` variables using the chosen features."
   ]
  },
  {
   "cell_type": "code",
   "execution_count": 75,
   "metadata": {},
   "outputs": [],
   "source": [
    "scaler = StandardScaler()\n",
    "X_train = scaler.fit_transform(X_train) \n",
    "X_test = scaler.transform(X_test)"
   ]
  },
  {
   "cell_type": "markdown",
   "metadata": {},
   "source": [
    "The bank dataset is first split into training and testing datasets in a 3:1 ratio and stratified to make sure they have the same proportion of classes (true or false) as the original dataset. <br>\n",
    "\n",
    "The X_train and X_test datasets were standardized across all features by removing the mean and scaling to unit variance."
   ]
  },
  {
   "cell_type": "markdown",
   "metadata": {},
   "source": [
    "### 2. Training of KNN classifier"
   ]
  },
  {
   "cell_type": "code",
   "execution_count": 76,
   "metadata": {},
   "outputs": [],
   "source": [
    "# Calculate training and testing errors for K=1 through 100\n",
    "k_range = list(range(1, 101))\n",
    "training_error_a = []\n",
    "testing_error_a = []\n",
    "training_error_p = []\n",
    "testing_error_p = []\n",
    "training_error_r = []\n",
    "testing_error_r = []\n",
    "\n",
    "for k in k_range:\n",
    "    # Instantiate the model with the current K value \n",
    "    knn = KNeighborsClassifier(n_neighbors = k, n_jobs = -1)\n",
    "    knn.fit(X_train, y_train)\n",
    "    \n",
    "    # Calculate training error\n",
    "    y_prediction = knn.predict(X_train)\n",
    "    training_accuracy = metrics.accuracy_score(y_train, y_prediction)\n",
    "    training_precision = metrics.precision_score(y_train, y_prediction)\n",
    "    training_recall = metrics.recall_score(y_train, y_prediction)\n",
    "    training_error_a.append(1 - training_accuracy) \n",
    "    training_error_p.append(1 - training_precision)\n",
    "    training_error_r.append(1 - training_recall)\n",
    "    \n",
    "    # Calculate testing error\n",
    "    y_prediction = knn.predict(X_test)\n",
    "    testing_accuracy = metrics.accuracy_score(y_test, y_prediction)\n",
    "    testing_precision = metrics.precision_score(y_test, y_prediction)\n",
    "    testing_recall = metrics.recall_score(y_test, y_prediction)\n",
    "    testing_error_a.append(1 - testing_accuracy)\n",
    "    testing_error_p.append(1 - testing_precision)\n",
    "    testing_error_r.append(1 - testing_recall)"
   ]
  },
  {
   "cell_type": "markdown",
   "metadata": {},
   "source": [
    "A loop was applied to find the optimal K value for our KNN classifier."
   ]
  },
  {
   "cell_type": "code",
   "execution_count": 77,
   "metadata": {},
   "outputs": [
    {
     "data": {
      "application/vnd.plotly.v1+json": {
       "config": {
        "plotlyServerURL": "https://plot.ly"
       },
       "data": [
        {
         "hovertemplate": "No. of K: %{x}<br>testing_error_a: %{y:.3f} <extra></extra>",
         "line": {
          "color": "blue"
         },
         "mode": "lines",
         "showlegend": false,
         "type": "scatter",
         "x": [
          1,
          2,
          3,
          4,
          5,
          6,
          7,
          8,
          9,
          10,
          11,
          12,
          13,
          14,
          15,
          16,
          17,
          18,
          19,
          20,
          21,
          22,
          23,
          24,
          25,
          26,
          27,
          28,
          29,
          30,
          31,
          32,
          33,
          34,
          35,
          36,
          37,
          38,
          39,
          40,
          41,
          42,
          43,
          44,
          45,
          46,
          47,
          48,
          49,
          50,
          51,
          52,
          53,
          54,
          55,
          56,
          57,
          58,
          59,
          60,
          61,
          62,
          63,
          64,
          65,
          66,
          67,
          68,
          69,
          70,
          71,
          72,
          73,
          74,
          75,
          76,
          77,
          78,
          79,
          80,
          81,
          82,
          83,
          84,
          85,
          86,
          87,
          88,
          89,
          90,
          91,
          92,
          93,
          94,
          95,
          96,
          97,
          98,
          99,
          100
         ],
         "xaxis": "x",
         "y": [
          0.15791675381719306,
          0.11252875967370846,
          0.11817611378372728,
          0.10876385693369583,
          0.10980966325036601,
          0.10562643798368543,
          0.10740430872202467,
          0.10552185735201836,
          0.10531269608868432,
          0.10395314787701315,
          0.10426688977201426,
          0.10363940598201216,
          0.10458063166701526,
          0.10363940598201216,
          0.10426688977201426,
          0.10332566408701105,
          0.10384856724534619,
          0.10343024471867812,
          0.10478979293034929,
          0.10332566408701105,
          0.10458063166701526,
          0.10290734156034298,
          0.10384856724534619,
          0.10248901903367491,
          0.10332566408701105,
          0.10196611587533988,
          0.10343024471867812,
          0.10227985777034099,
          0.10259359966534198,
          0.10186153524367292,
          0.10259359966534198,
          0.10133863208533778,
          0.10186153524367292,
          0.10217527713867391,
          0.10186153524367292,
          0.10175695461200585,
          0.10175695461200585,
          0.10207069650700695,
          0.10238443840200795,
          0.10207069650700695,
          0.10227985777034099,
          0.10217527713867391,
          0.10248901903367491,
          0.10280276092867602,
          0.10269818029700895,
          0.10259359966534198,
          0.10248901903367491,
          0.10322108345534409,
          0.10322108345534409,
          0.10269818029700895,
          0.10280276092867602,
          0.10259359966534198,
          0.10238443840200795,
          0.10207069650700695,
          0.10248901903367491,
          0.10207069650700695,
          0.10207069650700695,
          0.10217527713867391,
          0.10238443840200795,
          0.10259359966534198,
          0.10238443840200795,
          0.10269818029700895,
          0.10280276092867602,
          0.10290734156034298,
          0.10301192219201005,
          0.10280276092867602,
          0.10311650282367701,
          0.10269818029700895,
          0.10280276092867602,
          0.10238443840200795,
          0.10269818029700895,
          0.10290734156034298,
          0.10259359966534198,
          0.10280276092867602,
          0.10290734156034298,
          0.10301192219201005,
          0.10259359966534198,
          0.10259359966534198,
          0.10259359966534198,
          0.10259359966534198,
          0.10238443840200795,
          0.10311650282367701,
          0.10301192219201005,
          0.10301192219201005,
          0.10301192219201005,
          0.10290734156034298,
          0.10301192219201005,
          0.10332566408701105,
          0.10353482535034508,
          0.10343024471867812,
          0.10343024471867812,
          0.10363940598201216,
          0.10332566408701105,
          0.10332566408701105,
          0.10343024471867812,
          0.10332566408701105,
          0.10311650282367701,
          0.10290734156034298,
          0.10301192219201005,
          0.10322108345534409
         ],
         "yaxis": "y"
        },
        {
         "hovertemplate": "No. of K: %{x}<br>training_error_a: %{y:.3f} <extra></extra>",
         "line": {
          "color": "red"
         },
         "mode": "lines",
         "showlegend": false,
         "type": "scatter",
         "x": [
          1,
          2,
          3,
          4,
          5,
          6,
          7,
          8,
          9,
          10,
          11,
          12,
          13,
          14,
          15,
          16,
          17,
          18,
          19,
          20,
          21,
          22,
          23,
          24,
          25,
          26,
          27,
          28,
          29,
          30,
          31,
          32,
          33,
          34,
          35,
          36,
          37,
          38,
          39,
          40,
          41,
          42,
          43,
          44,
          45,
          46,
          47,
          48,
          49,
          50,
          51,
          52,
          53,
          54,
          55,
          56,
          57,
          58,
          59,
          60,
          61,
          62,
          63,
          64,
          65,
          66,
          67,
          68,
          69,
          70,
          71,
          72,
          73,
          74,
          75,
          76,
          77,
          78,
          79,
          80,
          81,
          82,
          83,
          84,
          85,
          86,
          87,
          88,
          89,
          90,
          91,
          92,
          93,
          94,
          95,
          96,
          97,
          98,
          99,
          100
         ],
         "xaxis": "x",
         "y": [
          0.04378900393961582,
          0.07771153645016216,
          0.07844367743959835,
          0.08656695603667675,
          0.08722936931283343,
          0.09054143569361639,
          0.09078548269009523,
          0.09305163337168354,
          0.09340027193808176,
          0.09413241292751806,
          0.09444618763727641,
          0.09531778405327196,
          0.09538751176655158,
          0.09615451661262764,
          0.09629397203918699,
          0.09730502388174178,
          0.09699124917198343,
          0.09768852630477987,
          0.09744447930830114,
          0.09807202872781784,
          0.09775825401805949,
          0.09803716487117808,
          0.09751420702158076,
          0.0983858034375763,
          0.0979325733012586,
          0.09789770944461873,
          0.09782798173133911,
          0.09772339016141962,
          0.0981068925844577,
          0.09814175644109746,
          0.09856012272077541,
          0.09845553115085592,
          0.09831607572429657,
          0.09849039500749568,
          0.09873444200397452,
          0.09856012272077541,
          0.09897848900045325,
          0.09908308057037274,
          0.099013352857093,
          0.0991179444270125,
          0.09946658299341071,
          0.09946658299341071,
          0.09908308057037274,
          0.09946658299341071,
          0.0992922637102116,
          0.09971062998988944,
          0.09960603841997007,
          0.09943171913677096,
          0.09991981312972842,
          0.09964090227660982,
          0.09971062998988944,
          0.09950144685005058,
          0.09932712756685147,
          0.09960603841997007,
          0.09950144685005058,
          0.09995467698636828,
          0.09981522155980893,
          0.10037304326604612,
          0.10009413241292753,
          0.10033817940940626,
          0.10019872398284702,
          0.1004776348359655,
          0.10037304326604612,
          0.10033817940940626,
          0.10019872398284702,
          0.10019872398284702,
          0.10026845169612664,
          0.10033817940940626,
          0.10030331555276639,
          0.10051249869260537,
          0.10040790712268588,
          0.10061709026252486,
          0.10044277097932575,
          0.10040790712268588,
          0.1004776348359655,
          0.10061709026252486,
          0.10026845169612664,
          0.10058222640588499,
          0.10040790712268588,
          0.10058222640588499,
          0.10033817940940626,
          0.1004776348359655,
          0.10023358783948677,
          0.10044277097932575,
          0.10040790712268588,
          0.10026845169612664,
          0.10030331555276639,
          0.10054736254924523,
          0.10051249869260537,
          0.10068681797580448,
          0.1004776348359655,
          0.10072168183244434,
          0.10065195411916461,
          0.10072168183244434,
          0.10058222640588499,
          0.10061709026252486,
          0.10058222640588499,
          0.1007565456890841,
          0.10068681797580448,
          0.10072168183244434
         ],
         "yaxis": "y"
        },
        {
         "hovertemplate": "No. of K: %{x}<br>testing_error_p: %{y:.3f} <extra></extra>",
         "line": {
          "color": "blue"
         },
         "mode": "lines",
         "name": "Testing Error",
         "type": "scatter",
         "x": [
          1,
          2,
          3,
          4,
          5,
          6,
          7,
          8,
          9,
          10,
          11,
          12,
          13,
          14,
          15,
          16,
          17,
          18,
          19,
          20,
          21,
          22,
          23,
          24,
          25,
          26,
          27,
          28,
          29,
          30,
          31,
          32,
          33,
          34,
          35,
          36,
          37,
          38,
          39,
          40,
          41,
          42,
          43,
          44,
          45,
          46,
          47,
          48,
          49,
          50,
          51,
          52,
          53,
          54,
          55,
          56,
          57,
          58,
          59,
          60,
          61,
          62,
          63,
          64,
          65,
          66,
          67,
          68,
          69,
          70,
          71,
          72,
          73,
          74,
          75,
          76,
          77,
          78,
          79,
          80,
          81,
          82,
          83,
          84,
          85,
          86,
          87,
          88,
          89,
          90,
          91,
          92,
          93,
          94,
          95,
          96,
          97,
          98,
          99,
          100
         ],
         "xaxis": "x2",
         "y": [
          0.7058279370952821,
          0.5159420289855072,
          0.5499231950844854,
          0.46648793565683644,
          0.4861367837338263,
          0.42894056847545214,
          0.4637404580152672,
          0.43069306930693074,
          0.44357976653696496,
          0.41445783132530123,
          0.4291666666666667,
          0.40796019900497515,
          0.43243243243243246,
          0.4123222748815166,
          0.4260869565217391,
          0.40203562340966925,
          0.418552036199095,
          0.4025641025641026,
          0.42657342657342656,
          0.40051679586563305,
          0.4238875878220141,
          0.3942558746736292,
          0.4138755980861244,
          0.38845144356955386,
          0.4058679706601467,
          0.3828125,
          0.40909090909090906,
          0.3858267716535433,
          0.395,
          0.37735849056603776,
          0.3944723618090452,
          0.3688524590163934,
          0.38539042821158687,
          0.3829787234042553,
          0.38596491228070173,
          0.37765957446808507,
          0.383248730964467,
          0.3800539083557951,
          0.3897435897435897,
          0.3800539083557951,
          0.3881748071979434,
          0.38421052631578945,
          0.3940149625935162,
          0.39095744680851063,
          0.39331619537275064,
          0.38648648648648654,
          0.38961038961038963,
          0.3928571428571429,
          0.3984375,
          0.3850415512465374,
          0.39095744680851063,
          0.3820224719101124,
          0.38378378378378375,
          0.3746478873239436,
          0.38482384823848237,
          0.3739376770538244,
          0.3767313019390581,
          0.375,
          0.38055555555555554,
          0.3793103448275862,
          0.3798882681564246,
          0.37900874635568516,
          0.3835227272727273,
          0.38053097345132747,
          0.3830409356725146,
          0.37797619047619047,
          0.3848396501457726,
          0.3768545994065282,
          0.38150289017341044,
          0.3742690058479532,
          0.3817663817663818,
          0.38053097345132747,
          0.3793103448275862,
          0.37869822485207105,
          0.3826086956521739,
          0.38165680473372776,
          0.3786127167630058,
          0.3764705882352941,
          0.3786127167630058,
          0.3764705882352941,
          0.37572254335260113,
          0.3820895522388059,
          0.38372093023255816,
          0.38235294117647056,
          0.3830409356725146,
          0.38053097345132747,
          0.3830409356725146,
          0.3850746268656716,
          0.3887240356083086,
          0.38622754491017963,
          0.388235294117647,
          0.3905325443786982,
          0.3870967741935484,
          0.3850746268656716,
          0.3875739644970414,
          0.38368580060422963,
          0.3820895522388059,
          0.377643504531722,
          0.3802395209580839,
          0.38181818181818183
         ],
         "yaxis": "y2"
        },
        {
         "hovertemplate": "No. of K: %{x}<br>training_error_p: %{y:.3f} <extra></extra>",
         "line": {
          "color": "red"
         },
         "mode": "lines",
         "name": "Training Error",
         "type": "scatter",
         "x": [
          1,
          2,
          3,
          4,
          5,
          6,
          7,
          8,
          9,
          10,
          11,
          12,
          13,
          14,
          15,
          16,
          17,
          18,
          19,
          20,
          21,
          22,
          23,
          24,
          25,
          26,
          27,
          28,
          29,
          30,
          31,
          32,
          33,
          34,
          35,
          36,
          37,
          38,
          39,
          40,
          41,
          42,
          43,
          44,
          45,
          46,
          47,
          48,
          49,
          50,
          51,
          52,
          53,
          54,
          55,
          56,
          57,
          58,
          59,
          60,
          61,
          62,
          63,
          64,
          65,
          66,
          67,
          68,
          69,
          70,
          71,
          72,
          73,
          74,
          75,
          76,
          77,
          78,
          79,
          80,
          81,
          82,
          83,
          84,
          85,
          86,
          87,
          88,
          89,
          90,
          91,
          92,
          93,
          94,
          95,
          96,
          97,
          98,
          99,
          100
         ],
         "xaxis": "x2",
         "y": [
          0.19800436545057687,
          0.032945736434108475,
          0.26246851385390424,
          0.18075539568345322,
          0.29568302779420463,
          0.23628318584070795,
          0.3058668424522083,
          0.2677304964539007,
          0.32300275482093666,
          0.2832014072119613,
          0.32361516034985427,
          0.28769657724329323,
          0.3227307990690458,
          0.30387736699729484,
          0.33177205308352853,
          0.313543599257885,
          0.3297431648715824,
          0.31504257332071905,
          0.32962328767123283,
          0.3151750972762646,
          0.3292361720807726,
          0.3170028818443804,
          0.32692307692307687,
          0.3214629451395573,
          0.3312829525483304,
          0.31924882629107976,
          0.32981530343007914,
          0.3160377358490566,
          0.3350739773716275,
          0.3179190751445087,
          0.3360215053763441,
          0.32208293153326906,
          0.3348095659875997,
          0.325426944971537,
          0.3398402839396628,
          0.3289719626168224,
          0.3452797202797203,
          0.33613445378151263,
          0.3455818022747157,
          0.3379629629629629,
          0.3524305555555556,
          0.34403669724770647,
          0.348314606741573,
          0.34141791044776115,
          0.3480176211453745,
          0.34247871333964053,
          0.34864864864864864,
          0.33684210526315794,
          0.3523035230352304,
          0.3375363724539282,
          0.34540389972144847,
          0.33134328358208953,
          0.33619047619047615,
          0.33098591549295775,
          0.33527696793002915,
          0.33434959349593496,
          0.3379174852652259,
          0.3388090349075975,
          0.3402777777777778,
          0.3381294964028777,
          0.34065934065934067,
          0.3385254413291796,
          0.342685370741483,
          0.33644859813084116,
          0.3383991894630193,
          0.3322818086225027,
          0.33676622039134907,
          0.33297985153764587,
          0.33507306889352817,
          0.33545647558386416,
          0.33714880332986474,
          0.33722163308589603,
          0.3375,
          0.3322615219721329,
          0.3361433087460485,
          0.33547695605573424,
          0.3343782654127482,
          0.3351177730192719,
          0.33474128827877503,
          0.3354700854700855,
          0.33403582718651215,
          0.33189189189189194,
          0.3301282051282052,
          0.33006535947712423,
          0.33117583603020495,
          0.326775956284153,
          0.32900432900432897,
          0.3296582138919515,
          0.33225108225108224,
          0.3322332233223322,
          0.3304252998909487,
          0.3325991189427313,
          0.33296943231441045,
          0.3314855875831486,
          0.3307692307692308,
          0.3296337402885683,
          0.33002207505518766,
          0.3314794215795328,
          0.33149171270718236,
          0.33111111111111113
         ],
         "yaxis": "y2"
        },
        {
         "hovertemplate": "No. of K: %{x}<br>testing_error_r: %{y:.3f} <extra></extra>",
         "line": {
          "color": "blue"
         },
         "mode": "lines",
         "showlegend": false,
         "type": "scatter",
         "x": [
          1,
          2,
          3,
          4,
          5,
          6,
          7,
          8,
          9,
          10,
          11,
          12,
          13,
          14,
          15,
          16,
          17,
          18,
          19,
          20,
          21,
          22,
          23,
          24,
          25,
          26,
          27,
          28,
          29,
          30,
          31,
          32,
          33,
          34,
          35,
          36,
          37,
          38,
          39,
          40,
          41,
          42,
          43,
          44,
          45,
          46,
          47,
          48,
          49,
          50,
          51,
          52,
          53,
          54,
          55,
          56,
          57,
          58,
          59,
          60,
          61,
          62,
          63,
          64,
          65,
          66,
          67,
          68,
          69,
          70,
          71,
          72,
          73,
          74,
          75,
          76,
          77,
          78,
          79,
          80,
          81,
          82,
          83,
          84,
          85,
          86,
          87,
          88,
          89,
          90,
          91,
          92,
          93,
          94,
          95,
          96,
          97,
          98,
          99,
          100
         ],
         "xaxis": "x3",
         "y": [
          0.7014084507042253,
          0.8431924882629108,
          0.7248826291079813,
          0.8131455399061033,
          0.7389671361502348,
          0.7924882629107981,
          0.7361502347417841,
          0.784037558685446,
          0.7314553990610329,
          0.7718309859154929,
          0.7427230046948357,
          0.7765258215962442,
          0.7436619718309859,
          0.7671361502347418,
          0.752112676056338,
          0.7793427230046949,
          0.7586854460093897,
          0.7812206572769953,
          0.7690140845070422,
          0.7821596244131456,
          0.7690140845070422,
          0.7821596244131456,
          0.7699530516431925,
          0.7812206572769953,
          0.7718309859154929,
          0.7774647887323943,
          0.768075117370892,
          0.780281690140845,
          0.7727699530516432,
          0.7830985915492958,
          0.7737089201877934,
          0.7830985915492958,
          0.7708920187793427,
          0.7821596244131456,
          0.7699530516431925,
          0.780281690140845,
          0.7718309859154929,
          0.784037558685446,
          0.7765258215962442,
          0.784037558685446,
          0.7765258215962442,
          0.780281690140845,
          0.7718309859154929,
          0.7849765258215963,
          0.7784037558685446,
          0.7868544600938967,
          0.7793427230046949,
          0.7924882629107981,
          0.7830985915492958,
          0.7915492957746479,
          0.7849765258215963,
          0.7934272300469484,
          0.7859154929577465,
          0.7915492957746479,
          0.7868544600938967,
          0.7924882629107981,
          0.7887323943661972,
          0.7934272300469484,
          0.7906103286384977,
          0.7971830985915493,
          0.7915492957746479,
          0.8,
          0.7962441314553991,
          0.8028169014084507,
          0.8018779342723005,
          0.8037558685446009,
          0.8018779342723005,
          0.8028169014084507,
          0.7990610328638498,
          0.7990610328638498,
          0.7962441314553991,
          0.8028169014084507,
          0.7971830985915493,
          0.8028169014084507,
          0.8,
          0.8037558685446009,
          0.7981220657276995,
          0.8009389671361502,
          0.7981220657276995,
          0.8009389671361502,
          0.7971830985915493,
          0.8056338028169014,
          0.8009389671361502,
          0.8028169014084507,
          0.8018779342723005,
          0.8028169014084507,
          0.8018779342723005,
          0.8065727699530516,
          0.8065727699530516,
          0.8075117370892019,
          0.8046948356807512,
          0.8065727699530516,
          0.8037558685446009,
          0.8065727699530516,
          0.8056338028169014,
          0.8084507042253521,
          0.8056338028169014,
          0.8065727699530516,
          0.8056338028169014,
          0.8084507042253521
         ],
         "yaxis": "y3"
        },
        {
         "hovertemplate": "No. of K: %{x}<br>training_error_r: %{y:.3f} <extra></extra>",
         "line": {
          "color": "red"
         },
         "mode": "lines",
         "showlegend": false,
         "type": "scatter",
         "x": [
          1,
          2,
          3,
          4,
          5,
          6,
          7,
          8,
          9,
          10,
          11,
          12,
          13,
          14,
          15,
          16,
          17,
          18,
          19,
          20,
          21,
          22,
          23,
          24,
          25,
          26,
          27,
          28,
          29,
          30,
          31,
          32,
          33,
          34,
          35,
          36,
          37,
          38,
          39,
          40,
          41,
          42,
          43,
          44,
          45,
          46,
          47,
          48,
          49,
          50,
          51,
          52,
          53,
          54,
          55,
          56,
          57,
          58,
          59,
          60,
          61,
          62,
          63,
          64,
          65,
          66,
          67,
          68,
          69,
          70,
          71,
          72,
          73,
          74,
          75,
          76,
          77,
          78,
          79,
          80,
          81,
          82,
          83,
          84,
          85,
          86,
          87,
          88,
          89,
          90,
          91,
          92,
          93,
          94,
          95,
          96,
          97,
          98,
          99,
          100
         ],
         "xaxis": "x3",
         "y": [
          0.19448794237394296,
          0.6874412777951769,
          0.5414970247416223,
          0.7146883808330724,
          0.6269965549639838,
          0.7297212652677733,
          0.6702160977137488,
          0.7413091136861885,
          0.6921390541810211,
          0.7447541497024741,
          0.7093642342624491,
          0.7588474788600063,
          0.7265894143438772,
          0.7582211086752271,
          0.7319135609145004,
          0.7682430316316944,
          0.7466332602568118,
          0.7732539931099279,
          0.7547760726589414,
          0.77951769495772,
          0.7607265894143439,
          0.7773253993109928,
          0.7588474788600063,
          0.7792045098653304,
          0.7616661446915127,
          0.7729408080175384,
          0.7613529595991231,
          0.7729408080175384,
          0.7607265894143439,
          0.7782649545881616,
          0.7679298465393047,
          0.7798308800501096,
          0.7647979956154087,
          0.7773253993109928,
          0.7669902912621359,
          0.7751331036642656,
          0.7654243658001879,
          0.7773253993109928,
          0.7657375508925774,
          0.7760726589414344,
          0.7663639210773567,
          0.7760726589414344,
          0.7638584403382399,
          0.7788913247729408,
          0.7682430316316944,
          0.7823363607892264,
          0.7735671782023176,
          0.7829627309740057,
          0.7754462887566552,
          0.7860945818979017,
          0.7792045098653304,
          0.7895396179141873,
          0.7817099906044472,
          0.7917319135609144,
          0.7857813968055121,
          0.7948637644848106,
          0.7889132477294081,
          0.7983088005010961,
          0.7917319135609144,
          0.7983088005010961,
          0.7932978390228625,
          0.8005010961478234,
          0.7945505793924209,
          0.7998747259630441,
          0.7954901346695897,
          0.8011274663326026,
          0.7983088005010961,
          0.8030065768869402,
          0.8005010961478234,
          0.803946132164109,
          0.8005010961478234,
          0.8042593172564986,
          0.800814281240213,
          0.8048856874412778,
          0.8026933917945506,
          0.8058252427184466,
          0.8005010961478234,
          0.805512057626057,
          0.8026933917945506,
          0.8051988725336674,
          0.8020670216097714,
          0.8064516129032258,
          0.8036329470717194,
          0.8073911681803946,
          0.8058252427184466,
          0.807077983088005,
          0.8058252427184466,
          0.8095834638271218,
          0.8067647979956154,
          0.8098966489195114,
          0.8077043532727842,
          0.810209834011901,
          0.808643908549953,
          0.8111493892890699,
          0.8092702787347322,
          0.8108362041966802,
          0.8098966489195114,
          0.8117757594738491,
          0.8105230191042907,
          0.8114625743814594
         ],
         "yaxis": "y3"
        }
       ],
       "layout": {
        "annotations": [
         {
          "font": {
           "size": 16
          },
          "showarrow": false,
          "text": "Accuracy",
          "x": 0.15666666666666665,
          "xanchor": "center",
          "xref": "paper",
          "y": 1,
          "yanchor": "bottom",
          "yref": "paper"
         },
         {
          "font": {
           "size": 16
          },
          "showarrow": false,
          "text": "Precision",
          "x": 0.4999999999999999,
          "xanchor": "center",
          "xref": "paper",
          "y": 1,
          "yanchor": "bottom",
          "yref": "paper"
         },
         {
          "font": {
           "size": 16
          },
          "showarrow": false,
          "text": "Recall",
          "x": 0.8433333333333332,
          "xanchor": "center",
          "xref": "paper",
          "y": 1,
          "yanchor": "bottom",
          "yref": "paper"
         },
         {
          "font": {
           "size": 20
          },
          "showarrow": false,
          "text": "Testing / Training Errors",
          "textangle": -90,
          "x": -0.045,
          "xref": "paper",
          "y": 0.5,
          "yref": "paper"
         },
         {
          "font": {
           "size": 20
          },
          "showarrow": false,
          "text": "No. of K for KNN",
          "x": 0.5,
          "xref": "paper",
          "y": -0.2,
          "yref": "paper"
         }
        ],
        "hovermode": "x",
        "legend": {
         "bgcolor": "rgba(255, 255, 255, 0.5)",
         "x": 0.47,
         "xanchor": "left",
         "y": 0.25,
         "yanchor": "top"
        },
        "margin": {
         "b": 70,
         "l": 80,
         "r": 40,
         "t": 80
        },
        "template": {
         "data": {
          "bar": [
           {
            "error_x": {
             "color": "#2a3f5f"
            },
            "error_y": {
             "color": "#2a3f5f"
            },
            "marker": {
             "line": {
              "color": "#E5ECF6",
              "width": 0.5
             },
             "pattern": {
              "fillmode": "overlay",
              "size": 10,
              "solidity": 0.2
             }
            },
            "type": "bar"
           }
          ],
          "barpolar": [
           {
            "marker": {
             "line": {
              "color": "#E5ECF6",
              "width": 0.5
             },
             "pattern": {
              "fillmode": "overlay",
              "size": 10,
              "solidity": 0.2
             }
            },
            "type": "barpolar"
           }
          ],
          "carpet": [
           {
            "aaxis": {
             "endlinecolor": "#2a3f5f",
             "gridcolor": "white",
             "linecolor": "white",
             "minorgridcolor": "white",
             "startlinecolor": "#2a3f5f"
            },
            "baxis": {
             "endlinecolor": "#2a3f5f",
             "gridcolor": "white",
             "linecolor": "white",
             "minorgridcolor": "white",
             "startlinecolor": "#2a3f5f"
            },
            "type": "carpet"
           }
          ],
          "choropleth": [
           {
            "colorbar": {
             "outlinewidth": 0,
             "ticks": ""
            },
            "type": "choropleth"
           }
          ],
          "contour": [
           {
            "colorbar": {
             "outlinewidth": 0,
             "ticks": ""
            },
            "colorscale": [
             [
              0,
              "#0d0887"
             ],
             [
              0.1111111111111111,
              "#46039f"
             ],
             [
              0.2222222222222222,
              "#7201a8"
             ],
             [
              0.3333333333333333,
              "#9c179e"
             ],
             [
              0.4444444444444444,
              "#bd3786"
             ],
             [
              0.5555555555555556,
              "#d8576b"
             ],
             [
              0.6666666666666666,
              "#ed7953"
             ],
             [
              0.7777777777777778,
              "#fb9f3a"
             ],
             [
              0.8888888888888888,
              "#fdca26"
             ],
             [
              1,
              "#f0f921"
             ]
            ],
            "type": "contour"
           }
          ],
          "contourcarpet": [
           {
            "colorbar": {
             "outlinewidth": 0,
             "ticks": ""
            },
            "type": "contourcarpet"
           }
          ],
          "heatmap": [
           {
            "colorbar": {
             "outlinewidth": 0,
             "ticks": ""
            },
            "colorscale": [
             [
              0,
              "#0d0887"
             ],
             [
              0.1111111111111111,
              "#46039f"
             ],
             [
              0.2222222222222222,
              "#7201a8"
             ],
             [
              0.3333333333333333,
              "#9c179e"
             ],
             [
              0.4444444444444444,
              "#bd3786"
             ],
             [
              0.5555555555555556,
              "#d8576b"
             ],
             [
              0.6666666666666666,
              "#ed7953"
             ],
             [
              0.7777777777777778,
              "#fb9f3a"
             ],
             [
              0.8888888888888888,
              "#fdca26"
             ],
             [
              1,
              "#f0f921"
             ]
            ],
            "type": "heatmap"
           }
          ],
          "heatmapgl": [
           {
            "colorbar": {
             "outlinewidth": 0,
             "ticks": ""
            },
            "colorscale": [
             [
              0,
              "#0d0887"
             ],
             [
              0.1111111111111111,
              "#46039f"
             ],
             [
              0.2222222222222222,
              "#7201a8"
             ],
             [
              0.3333333333333333,
              "#9c179e"
             ],
             [
              0.4444444444444444,
              "#bd3786"
             ],
             [
              0.5555555555555556,
              "#d8576b"
             ],
             [
              0.6666666666666666,
              "#ed7953"
             ],
             [
              0.7777777777777778,
              "#fb9f3a"
             ],
             [
              0.8888888888888888,
              "#fdca26"
             ],
             [
              1,
              "#f0f921"
             ]
            ],
            "type": "heatmapgl"
           }
          ],
          "histogram": [
           {
            "marker": {
             "pattern": {
              "fillmode": "overlay",
              "size": 10,
              "solidity": 0.2
             }
            },
            "type": "histogram"
           }
          ],
          "histogram2d": [
           {
            "colorbar": {
             "outlinewidth": 0,
             "ticks": ""
            },
            "colorscale": [
             [
              0,
              "#0d0887"
             ],
             [
              0.1111111111111111,
              "#46039f"
             ],
             [
              0.2222222222222222,
              "#7201a8"
             ],
             [
              0.3333333333333333,
              "#9c179e"
             ],
             [
              0.4444444444444444,
              "#bd3786"
             ],
             [
              0.5555555555555556,
              "#d8576b"
             ],
             [
              0.6666666666666666,
              "#ed7953"
             ],
             [
              0.7777777777777778,
              "#fb9f3a"
             ],
             [
              0.8888888888888888,
              "#fdca26"
             ],
             [
              1,
              "#f0f921"
             ]
            ],
            "type": "histogram2d"
           }
          ],
          "histogram2dcontour": [
           {
            "colorbar": {
             "outlinewidth": 0,
             "ticks": ""
            },
            "colorscale": [
             [
              0,
              "#0d0887"
             ],
             [
              0.1111111111111111,
              "#46039f"
             ],
             [
              0.2222222222222222,
              "#7201a8"
             ],
             [
              0.3333333333333333,
              "#9c179e"
             ],
             [
              0.4444444444444444,
              "#bd3786"
             ],
             [
              0.5555555555555556,
              "#d8576b"
             ],
             [
              0.6666666666666666,
              "#ed7953"
             ],
             [
              0.7777777777777778,
              "#fb9f3a"
             ],
             [
              0.8888888888888888,
              "#fdca26"
             ],
             [
              1,
              "#f0f921"
             ]
            ],
            "type": "histogram2dcontour"
           }
          ],
          "mesh3d": [
           {
            "colorbar": {
             "outlinewidth": 0,
             "ticks": ""
            },
            "type": "mesh3d"
           }
          ],
          "parcoords": [
           {
            "line": {
             "colorbar": {
              "outlinewidth": 0,
              "ticks": ""
             }
            },
            "type": "parcoords"
           }
          ],
          "pie": [
           {
            "automargin": true,
            "type": "pie"
           }
          ],
          "scatter": [
           {
            "fillpattern": {
             "fillmode": "overlay",
             "size": 10,
             "solidity": 0.2
            },
            "type": "scatter"
           }
          ],
          "scatter3d": [
           {
            "line": {
             "colorbar": {
              "outlinewidth": 0,
              "ticks": ""
             }
            },
            "marker": {
             "colorbar": {
              "outlinewidth": 0,
              "ticks": ""
             }
            },
            "type": "scatter3d"
           }
          ],
          "scattercarpet": [
           {
            "marker": {
             "colorbar": {
              "outlinewidth": 0,
              "ticks": ""
             }
            },
            "type": "scattercarpet"
           }
          ],
          "scattergeo": [
           {
            "marker": {
             "colorbar": {
              "outlinewidth": 0,
              "ticks": ""
             }
            },
            "type": "scattergeo"
           }
          ],
          "scattergl": [
           {
            "marker": {
             "colorbar": {
              "outlinewidth": 0,
              "ticks": ""
             }
            },
            "type": "scattergl"
           }
          ],
          "scattermapbox": [
           {
            "marker": {
             "colorbar": {
              "outlinewidth": 0,
              "ticks": ""
             }
            },
            "type": "scattermapbox"
           }
          ],
          "scatterpolar": [
           {
            "marker": {
             "colorbar": {
              "outlinewidth": 0,
              "ticks": ""
             }
            },
            "type": "scatterpolar"
           }
          ],
          "scatterpolargl": [
           {
            "marker": {
             "colorbar": {
              "outlinewidth": 0,
              "ticks": ""
             }
            },
            "type": "scatterpolargl"
           }
          ],
          "scatterternary": [
           {
            "marker": {
             "colorbar": {
              "outlinewidth": 0,
              "ticks": ""
             }
            },
            "type": "scatterternary"
           }
          ],
          "surface": [
           {
            "colorbar": {
             "outlinewidth": 0,
             "ticks": ""
            },
            "colorscale": [
             [
              0,
              "#0d0887"
             ],
             [
              0.1111111111111111,
              "#46039f"
             ],
             [
              0.2222222222222222,
              "#7201a8"
             ],
             [
              0.3333333333333333,
              "#9c179e"
             ],
             [
              0.4444444444444444,
              "#bd3786"
             ],
             [
              0.5555555555555556,
              "#d8576b"
             ],
             [
              0.6666666666666666,
              "#ed7953"
             ],
             [
              0.7777777777777778,
              "#fb9f3a"
             ],
             [
              0.8888888888888888,
              "#fdca26"
             ],
             [
              1,
              "#f0f921"
             ]
            ],
            "type": "surface"
           }
          ],
          "table": [
           {
            "cells": {
             "fill": {
              "color": "#EBF0F8"
             },
             "line": {
              "color": "white"
             }
            },
            "header": {
             "fill": {
              "color": "#C8D4E3"
             },
             "line": {
              "color": "white"
             }
            },
            "type": "table"
           }
          ]
         },
         "layout": {
          "annotationdefaults": {
           "arrowcolor": "#2a3f5f",
           "arrowhead": 0,
           "arrowwidth": 1
          },
          "autotypenumbers": "strict",
          "coloraxis": {
           "colorbar": {
            "outlinewidth": 0,
            "ticks": ""
           }
          },
          "colorscale": {
           "diverging": [
            [
             0,
             "#8e0152"
            ],
            [
             0.1,
             "#c51b7d"
            ],
            [
             0.2,
             "#de77ae"
            ],
            [
             0.3,
             "#f1b6da"
            ],
            [
             0.4,
             "#fde0ef"
            ],
            [
             0.5,
             "#f7f7f7"
            ],
            [
             0.6,
             "#e6f5d0"
            ],
            [
             0.7,
             "#b8e186"
            ],
            [
             0.8,
             "#7fbc41"
            ],
            [
             0.9,
             "#4d9221"
            ],
            [
             1,
             "#276419"
            ]
           ],
           "sequential": [
            [
             0,
             "#0d0887"
            ],
            [
             0.1111111111111111,
             "#46039f"
            ],
            [
             0.2222222222222222,
             "#7201a8"
            ],
            [
             0.3333333333333333,
             "#9c179e"
            ],
            [
             0.4444444444444444,
             "#bd3786"
            ],
            [
             0.5555555555555556,
             "#d8576b"
            ],
            [
             0.6666666666666666,
             "#ed7953"
            ],
            [
             0.7777777777777778,
             "#fb9f3a"
            ],
            [
             0.8888888888888888,
             "#fdca26"
            ],
            [
             1,
             "#f0f921"
            ]
           ],
           "sequentialminus": [
            [
             0,
             "#0d0887"
            ],
            [
             0.1111111111111111,
             "#46039f"
            ],
            [
             0.2222222222222222,
             "#7201a8"
            ],
            [
             0.3333333333333333,
             "#9c179e"
            ],
            [
             0.4444444444444444,
             "#bd3786"
            ],
            [
             0.5555555555555556,
             "#d8576b"
            ],
            [
             0.6666666666666666,
             "#ed7953"
            ],
            [
             0.7777777777777778,
             "#fb9f3a"
            ],
            [
             0.8888888888888888,
             "#fdca26"
            ],
            [
             1,
             "#f0f921"
            ]
           ]
          },
          "colorway": [
           "#636efa",
           "#EF553B",
           "#00cc96",
           "#ab63fa",
           "#FFA15A",
           "#19d3f3",
           "#FF6692",
           "#B6E880",
           "#FF97FF",
           "#FECB52"
          ],
          "font": {
           "color": "#2a3f5f"
          },
          "geo": {
           "bgcolor": "white",
           "lakecolor": "white",
           "landcolor": "#E5ECF6",
           "showlakes": true,
           "showland": true,
           "subunitcolor": "white"
          },
          "hoverlabel": {
           "align": "left"
          },
          "hovermode": "closest",
          "mapbox": {
           "style": "light"
          },
          "paper_bgcolor": "white",
          "plot_bgcolor": "#E5ECF6",
          "polar": {
           "angularaxis": {
            "gridcolor": "white",
            "linecolor": "white",
            "ticks": ""
           },
           "bgcolor": "#E5ECF6",
           "radialaxis": {
            "gridcolor": "white",
            "linecolor": "white",
            "ticks": ""
           }
          },
          "scene": {
           "xaxis": {
            "backgroundcolor": "#E5ECF6",
            "gridcolor": "white",
            "gridwidth": 2,
            "linecolor": "white",
            "showbackground": true,
            "ticks": "",
            "zerolinecolor": "white"
           },
           "yaxis": {
            "backgroundcolor": "#E5ECF6",
            "gridcolor": "white",
            "gridwidth": 2,
            "linecolor": "white",
            "showbackground": true,
            "ticks": "",
            "zerolinecolor": "white"
           },
           "zaxis": {
            "backgroundcolor": "#E5ECF6",
            "gridcolor": "white",
            "gridwidth": 2,
            "linecolor": "white",
            "showbackground": true,
            "ticks": "",
            "zerolinecolor": "white"
           }
          },
          "shapedefaults": {
           "line": {
            "color": "#2a3f5f"
           }
          },
          "ternary": {
           "aaxis": {
            "gridcolor": "white",
            "linecolor": "white",
            "ticks": ""
           },
           "baxis": {
            "gridcolor": "white",
            "linecolor": "white",
            "ticks": ""
           },
           "bgcolor": "#E5ECF6",
           "caxis": {
            "gridcolor": "white",
            "linecolor": "white",
            "ticks": ""
           }
          },
          "title": {
           "x": 0.05
          },
          "xaxis": {
           "automargin": true,
           "gridcolor": "white",
           "linecolor": "white",
           "ticks": "",
           "title": {
            "standoff": 15
           },
           "zerolinecolor": "white",
           "zerolinewidth": 2
          },
          "yaxis": {
           "automargin": true,
           "gridcolor": "white",
           "linecolor": "white",
           "ticks": "",
           "title": {
            "standoff": 15
           },
           "zerolinecolor": "white",
           "zerolinewidth": 2
          }
         }
        },
        "title": {
         "font": {
          "size": 24
         },
         "text": "Testing VS Training Errors for Different Success Metrics",
         "x": 0.5,
         "xanchor": "center",
         "y": 0.97,
         "yanchor": "top"
        },
        "xaxis": {
         "anchor": "y",
         "domain": [
          0,
          0.3133333333333333
         ]
        },
        "xaxis2": {
         "anchor": "y2",
         "domain": [
          0.34333333333333327,
          0.6566666666666665
         ]
        },
        "xaxis3": {
         "anchor": "y3",
         "domain": [
          0.6866666666666665,
          0.9999999999999998
         ]
        },
        "yaxis": {
         "anchor": "x",
         "domain": [
          0,
          1
         ]
        },
        "yaxis2": {
         "anchor": "x2",
         "domain": [
          0,
          1
         ]
        },
        "yaxis3": {
         "anchor": "x3",
         "domain": [
          0,
          1
         ]
        }
       }
      }
     },
     "metadata": {},
     "output_type": "display_data"
    }
   ],
   "source": [
    "# Plot the relationship between K and both training and testing errors for 3 different metrics.\n",
    "fig6 = make_subplots(rows=1, cols=3, shared_xaxes = True, subplot_titles=('Accuracy', 'Precision', 'Recall'), horizontal_spacing = 0.03)\n",
    "\n",
    "fig6.add_trace(go.Scatter(x = k_range, y = testing_error_a, mode = 'lines', hovertemplate = 'No. of K: %{x}<br>testing_error_a: %{y:.3f} <extra></extra>', line = dict(color = 'blue'), showlegend = False), row = 1, col = 1)\n",
    "fig6.add_trace(go.Scatter(x = k_range, y = training_error_a, mode = 'lines', hovertemplate = 'No. of K: %{x}<br>training_error_a: %{y:.3f} <extra></extra>', line = dict(color = 'red'), showlegend = False), row = 1, col = 1)\n",
    "fig6.add_trace(go.Scatter(x = k_range, y = testing_error_p, mode = 'lines', hovertemplate = 'No. of K: %{x}<br>testing_error_p: %{y:.3f} <extra></extra>',  line = dict(color = 'blue'), name = 'Testing Error'), row = 1, col = 2)\n",
    "fig6.add_trace(go.Scatter(x = k_range, y = training_error_p, mode = 'lines', hovertemplate = 'No. of K: %{x}<br>training_error_p: %{y:.3f} <extra></extra>', line = dict(color = 'red'), name = 'Training Error'), row = 1, col = 2)\n",
    "fig6.add_trace(go.Scatter(x = k_range, y = testing_error_r, mode = 'lines', hovertemplate = 'No. of K: %{x}<br>testing_error_r: %{y:.3f} <extra></extra>', line = dict(color = 'blue'), showlegend = False), row = 1, col = 3)\n",
    "fig6.add_trace(go.Scatter(x = k_range, y = training_error_r, mode = 'lines', hovertemplate = 'No. of K: %{x}<br>training_error_r: %{y:.3f} <extra></extra>', line = dict(color = 'red'), showlegend = False), row = 1, col = 3)\n",
    "\n",
    "fig6.add_annotation(text = 'Testing / Training Errors', xref = 'paper', yref = 'paper', x = -0.045, y = 0.5, showarrow = False, textangle = -90, font = dict(size = 20))  \n",
    "fig6.add_annotation(text = 'No. of K for KNN', xref = 'paper', yref = 'paper', x = 0.5, y = -0.2, showarrow = False, font = dict(size = 20))  \n",
    "fig6.update_layout(title = {'text' : 'Testing VS Training Errors for Different Success Metrics', 'y' : 0.97, 'x' : 0.5, 'xanchor' : 'center', 'yanchor' : 'top', 'font' : {'size' : 24}},\n",
    "                   margin = dict(l = 80, r = 40, t = 80, b = 70), hovermode = \"x\", legend = dict(x = 0.47, y = 0.25, xanchor = 'left', yanchor = 'top', bgcolor = 'rgba(255, 255, 255, 0.5)'))\n",
    "fig6.show()"
   ]
  },
  {
   "cell_type": "code",
   "execution_count": 78,
   "metadata": {},
   "outputs": [
    {
     "data": {
      "text/html": [
       "<div>\n",
       "<style scoped>\n",
       "    .dataframe tbody tr th:only-of-type {\n",
       "        vertical-align: middle;\n",
       "    }\n",
       "\n",
       "    .dataframe tbody tr th {\n",
       "        vertical-align: top;\n",
       "    }\n",
       "\n",
       "    .dataframe thead th {\n",
       "        text-align: right;\n",
       "    }\n",
       "</style>\n",
       "<table border=\"1\" class=\"dataframe\">\n",
       "  <thead>\n",
       "    <tr style=\"text-align: right;\">\n",
       "      <th></th>\n",
       "      <th>testing_error_a</th>\n",
       "      <th>testing_error_p</th>\n",
       "      <th>testing_error_r</th>\n",
       "    </tr>\n",
       "    <tr>\n",
       "      <th>K</th>\n",
       "      <th></th>\n",
       "      <th></th>\n",
       "      <th></th>\n",
       "    </tr>\n",
       "  </thead>\n",
       "  <tbody>\n",
       "    <tr>\n",
       "      <th>32</th>\n",
       "      <td>0.101</td>\n",
       "      <td>0.369</td>\n",
       "      <td>0.783</td>\n",
       "    </tr>\n",
       "    <tr>\n",
       "      <th>56</th>\n",
       "      <td>0.102</td>\n",
       "      <td>0.374</td>\n",
       "      <td>0.792</td>\n",
       "    </tr>\n",
       "    <tr>\n",
       "      <th>70</th>\n",
       "      <td>0.102</td>\n",
       "      <td>0.374</td>\n",
       "      <td>0.799</td>\n",
       "    </tr>\n",
       "    <tr>\n",
       "      <th>54</th>\n",
       "      <td>0.102</td>\n",
       "      <td>0.375</td>\n",
       "      <td>0.792</td>\n",
       "    </tr>\n",
       "    <tr>\n",
       "      <th>58</th>\n",
       "      <td>0.102</td>\n",
       "      <td>0.375</td>\n",
       "      <td>0.793</td>\n",
       "    </tr>\n",
       "    <tr>\n",
       "      <th>81</th>\n",
       "      <td>0.102</td>\n",
       "      <td>0.376</td>\n",
       "      <td>0.797</td>\n",
       "    </tr>\n",
       "    <tr>\n",
       "      <th>78</th>\n",
       "      <td>0.103</td>\n",
       "      <td>0.376</td>\n",
       "      <td>0.801</td>\n",
       "    </tr>\n",
       "    <tr>\n",
       "      <th>80</th>\n",
       "      <td>0.103</td>\n",
       "      <td>0.376</td>\n",
       "      <td>0.801</td>\n",
       "    </tr>\n",
       "    <tr>\n",
       "      <th>30</th>\n",
       "      <td>0.102</td>\n",
       "      <td>0.377</td>\n",
       "      <td>0.783</td>\n",
       "    </tr>\n",
       "    <tr>\n",
       "      <th>57</th>\n",
       "      <td>0.102</td>\n",
       "      <td>0.377</td>\n",
       "      <td>0.789</td>\n",
       "    </tr>\n",
       "  </tbody>\n",
       "</table>\n",
       "</div>"
      ],
      "text/plain": [
       "    testing_error_a  testing_error_p  testing_error_r\n",
       "K                                                    \n",
       "32            0.101            0.369            0.783\n",
       "56            0.102            0.374            0.792\n",
       "70            0.102            0.374            0.799\n",
       "54            0.102            0.375            0.792\n",
       "58            0.102            0.375            0.793\n",
       "81            0.102            0.376            0.797\n",
       "78            0.103            0.376            0.801\n",
       "80            0.103            0.376            0.801\n",
       "30            0.102            0.377            0.783\n",
       "57            0.102            0.377            0.789"
      ]
     },
     "execution_count": 78,
     "metadata": {},
     "output_type": "execute_result"
    }
   ],
   "source": [
    "# Create a dataframe of all testing error data from the accuracy, precision, and recall metrics for K values 1 through 100.\n",
    "testing_error_data = pd.DataFrame({'K' : k_range, 'testing_error_a' : testing_error_a, 'testing_error_p' : testing_error_p, 'testing_error_r' : testing_error_r}).set_index('K').round(3)\n",
    "testing_error_data.sort_values(['testing_error_p', 'testing_error_a', 'testing_error_r']).head(10)"
   ]
  },
  {
   "cell_type": "markdown",
   "metadata": {},
   "source": [
    "By comparing the training and testing errors for the accuracy, precision and recall metrics, a K value of 32 was determined to be optimal because it achieved the lowest testing errors for both accuracy and precision."
   ]
  },
  {
   "cell_type": "markdown",
   "metadata": {},
   "source": [
    "### 3. Evaluation of KNN Classifier"
   ]
  },
  {
   "cell_type": "code",
   "execution_count": 79,
   "metadata": {},
   "outputs": [
    {
     "data": {
      "text/html": [
       "<style>#sk-container-id-4 {\n",
       "  /* Definition of color scheme common for light and dark mode */\n",
       "  --sklearn-color-text: black;\n",
       "  --sklearn-color-line: gray;\n",
       "  /* Definition of color scheme for unfitted estimators */\n",
       "  --sklearn-color-unfitted-level-0: #fff5e6;\n",
       "  --sklearn-color-unfitted-level-1: #f6e4d2;\n",
       "  --sklearn-color-unfitted-level-2: #ffe0b3;\n",
       "  --sklearn-color-unfitted-level-3: chocolate;\n",
       "  /* Definition of color scheme for fitted estimators */\n",
       "  --sklearn-color-fitted-level-0: #f0f8ff;\n",
       "  --sklearn-color-fitted-level-1: #d4ebff;\n",
       "  --sklearn-color-fitted-level-2: #b3dbfd;\n",
       "  --sklearn-color-fitted-level-3: cornflowerblue;\n",
       "\n",
       "  /* Specific color for light theme */\n",
       "  --sklearn-color-text-on-default-background: var(--sg-text-color, var(--theme-code-foreground, var(--jp-content-font-color1, black)));\n",
       "  --sklearn-color-background: var(--sg-background-color, var(--theme-background, var(--jp-layout-color0, white)));\n",
       "  --sklearn-color-border-box: var(--sg-text-color, var(--theme-code-foreground, var(--jp-content-font-color1, black)));\n",
       "  --sklearn-color-icon: #696969;\n",
       "\n",
       "  @media (prefers-color-scheme: dark) {\n",
       "    /* Redefinition of color scheme for dark theme */\n",
       "    --sklearn-color-text-on-default-background: var(--sg-text-color, var(--theme-code-foreground, var(--jp-content-font-color1, white)));\n",
       "    --sklearn-color-background: var(--sg-background-color, var(--theme-background, var(--jp-layout-color0, #111)));\n",
       "    --sklearn-color-border-box: var(--sg-text-color, var(--theme-code-foreground, var(--jp-content-font-color1, white)));\n",
       "    --sklearn-color-icon: #878787;\n",
       "  }\n",
       "}\n",
       "\n",
       "#sk-container-id-4 {\n",
       "  color: var(--sklearn-color-text);\n",
       "}\n",
       "\n",
       "#sk-container-id-4 pre {\n",
       "  padding: 0;\n",
       "}\n",
       "\n",
       "#sk-container-id-4 input.sk-hidden--visually {\n",
       "  border: 0;\n",
       "  clip: rect(1px 1px 1px 1px);\n",
       "  clip: rect(1px, 1px, 1px, 1px);\n",
       "  height: 1px;\n",
       "  margin: -1px;\n",
       "  overflow: hidden;\n",
       "  padding: 0;\n",
       "  position: absolute;\n",
       "  width: 1px;\n",
       "}\n",
       "\n",
       "#sk-container-id-4 div.sk-dashed-wrapped {\n",
       "  border: 1px dashed var(--sklearn-color-line);\n",
       "  margin: 0 0.4em 0.5em 0.4em;\n",
       "  box-sizing: border-box;\n",
       "  padding-bottom: 0.4em;\n",
       "  background-color: var(--sklearn-color-background);\n",
       "}\n",
       "\n",
       "#sk-container-id-4 div.sk-container {\n",
       "  /* jupyter's `normalize.less` sets `[hidden] { display: none; }`\n",
       "     but bootstrap.min.css set `[hidden] { display: none !important; }`\n",
       "     so we also need the `!important` here to be able to override the\n",
       "     default hidden behavior on the sphinx rendered scikit-learn.org.\n",
       "     See: https://github.com/scikit-learn/scikit-learn/issues/21755 */\n",
       "  display: inline-block !important;\n",
       "  position: relative;\n",
       "}\n",
       "\n",
       "#sk-container-id-4 div.sk-text-repr-fallback {\n",
       "  display: none;\n",
       "}\n",
       "\n",
       "div.sk-parallel-item,\n",
       "div.sk-serial,\n",
       "div.sk-item {\n",
       "  /* draw centered vertical line to link estimators */\n",
       "  background-image: linear-gradient(var(--sklearn-color-text-on-default-background), var(--sklearn-color-text-on-default-background));\n",
       "  background-size: 2px 100%;\n",
       "  background-repeat: no-repeat;\n",
       "  background-position: center center;\n",
       "}\n",
       "\n",
       "/* Parallel-specific style estimator block */\n",
       "\n",
       "#sk-container-id-4 div.sk-parallel-item::after {\n",
       "  content: \"\";\n",
       "  width: 100%;\n",
       "  border-bottom: 2px solid var(--sklearn-color-text-on-default-background);\n",
       "  flex-grow: 1;\n",
       "}\n",
       "\n",
       "#sk-container-id-4 div.sk-parallel {\n",
       "  display: flex;\n",
       "  align-items: stretch;\n",
       "  justify-content: center;\n",
       "  background-color: var(--sklearn-color-background);\n",
       "  position: relative;\n",
       "}\n",
       "\n",
       "#sk-container-id-4 div.sk-parallel-item {\n",
       "  display: flex;\n",
       "  flex-direction: column;\n",
       "}\n",
       "\n",
       "#sk-container-id-4 div.sk-parallel-item:first-child::after {\n",
       "  align-self: flex-end;\n",
       "  width: 50%;\n",
       "}\n",
       "\n",
       "#sk-container-id-4 div.sk-parallel-item:last-child::after {\n",
       "  align-self: flex-start;\n",
       "  width: 50%;\n",
       "}\n",
       "\n",
       "#sk-container-id-4 div.sk-parallel-item:only-child::after {\n",
       "  width: 0;\n",
       "}\n",
       "\n",
       "/* Serial-specific style estimator block */\n",
       "\n",
       "#sk-container-id-4 div.sk-serial {\n",
       "  display: flex;\n",
       "  flex-direction: column;\n",
       "  align-items: center;\n",
       "  background-color: var(--sklearn-color-background);\n",
       "  padding-right: 1em;\n",
       "  padding-left: 1em;\n",
       "}\n",
       "\n",
       "\n",
       "/* Toggleable style: style used for estimator/Pipeline/ColumnTransformer box that is\n",
       "clickable and can be expanded/collapsed.\n",
       "- Pipeline and ColumnTransformer use this feature and define the default style\n",
       "- Estimators will overwrite some part of the style using the `sk-estimator` class\n",
       "*/\n",
       "\n",
       "/* Pipeline and ColumnTransformer style (default) */\n",
       "\n",
       "#sk-container-id-4 div.sk-toggleable {\n",
       "  /* Default theme specific background. It is overwritten whether we have a\n",
       "  specific estimator or a Pipeline/ColumnTransformer */\n",
       "  background-color: var(--sklearn-color-background);\n",
       "}\n",
       "\n",
       "/* Toggleable label */\n",
       "#sk-container-id-4 label.sk-toggleable__label {\n",
       "  cursor: pointer;\n",
       "  display: block;\n",
       "  width: 100%;\n",
       "  margin-bottom: 0;\n",
       "  padding: 0.5em;\n",
       "  box-sizing: border-box;\n",
       "  text-align: center;\n",
       "}\n",
       "\n",
       "#sk-container-id-4 label.sk-toggleable__label-arrow:before {\n",
       "  /* Arrow on the left of the label */\n",
       "  content: \"▸\";\n",
       "  float: left;\n",
       "  margin-right: 0.25em;\n",
       "  color: var(--sklearn-color-icon);\n",
       "}\n",
       "\n",
       "#sk-container-id-4 label.sk-toggleable__label-arrow:hover:before {\n",
       "  color: var(--sklearn-color-text);\n",
       "}\n",
       "\n",
       "/* Toggleable content - dropdown */\n",
       "\n",
       "#sk-container-id-4 div.sk-toggleable__content {\n",
       "  max-height: 0;\n",
       "  max-width: 0;\n",
       "  overflow: hidden;\n",
       "  text-align: left;\n",
       "  /* unfitted */\n",
       "  background-color: var(--sklearn-color-unfitted-level-0);\n",
       "}\n",
       "\n",
       "#sk-container-id-4 div.sk-toggleable__content.fitted {\n",
       "  /* fitted */\n",
       "  background-color: var(--sklearn-color-fitted-level-0);\n",
       "}\n",
       "\n",
       "#sk-container-id-4 div.sk-toggleable__content pre {\n",
       "  margin: 0.2em;\n",
       "  border-radius: 0.25em;\n",
       "  color: var(--sklearn-color-text);\n",
       "  /* unfitted */\n",
       "  background-color: var(--sklearn-color-unfitted-level-0);\n",
       "}\n",
       "\n",
       "#sk-container-id-4 div.sk-toggleable__content.fitted pre {\n",
       "  /* unfitted */\n",
       "  background-color: var(--sklearn-color-fitted-level-0);\n",
       "}\n",
       "\n",
       "#sk-container-id-4 input.sk-toggleable__control:checked~div.sk-toggleable__content {\n",
       "  /* Expand drop-down */\n",
       "  max-height: 200px;\n",
       "  max-width: 100%;\n",
       "  overflow: auto;\n",
       "}\n",
       "\n",
       "#sk-container-id-4 input.sk-toggleable__control:checked~label.sk-toggleable__label-arrow:before {\n",
       "  content: \"▾\";\n",
       "}\n",
       "\n",
       "/* Pipeline/ColumnTransformer-specific style */\n",
       "\n",
       "#sk-container-id-4 div.sk-label input.sk-toggleable__control:checked~label.sk-toggleable__label {\n",
       "  color: var(--sklearn-color-text);\n",
       "  background-color: var(--sklearn-color-unfitted-level-2);\n",
       "}\n",
       "\n",
       "#sk-container-id-4 div.sk-label.fitted input.sk-toggleable__control:checked~label.sk-toggleable__label {\n",
       "  background-color: var(--sklearn-color-fitted-level-2);\n",
       "}\n",
       "\n",
       "/* Estimator-specific style */\n",
       "\n",
       "/* Colorize estimator box */\n",
       "#sk-container-id-4 div.sk-estimator input.sk-toggleable__control:checked~label.sk-toggleable__label {\n",
       "  /* unfitted */\n",
       "  background-color: var(--sklearn-color-unfitted-level-2);\n",
       "}\n",
       "\n",
       "#sk-container-id-4 div.sk-estimator.fitted input.sk-toggleable__control:checked~label.sk-toggleable__label {\n",
       "  /* fitted */\n",
       "  background-color: var(--sklearn-color-fitted-level-2);\n",
       "}\n",
       "\n",
       "#sk-container-id-4 div.sk-label label.sk-toggleable__label,\n",
       "#sk-container-id-4 div.sk-label label {\n",
       "  /* The background is the default theme color */\n",
       "  color: var(--sklearn-color-text-on-default-background);\n",
       "}\n",
       "\n",
       "/* On hover, darken the color of the background */\n",
       "#sk-container-id-4 div.sk-label:hover label.sk-toggleable__label {\n",
       "  color: var(--sklearn-color-text);\n",
       "  background-color: var(--sklearn-color-unfitted-level-2);\n",
       "}\n",
       "\n",
       "/* Label box, darken color on hover, fitted */\n",
       "#sk-container-id-4 div.sk-label.fitted:hover label.sk-toggleable__label.fitted {\n",
       "  color: var(--sklearn-color-text);\n",
       "  background-color: var(--sklearn-color-fitted-level-2);\n",
       "}\n",
       "\n",
       "/* Estimator label */\n",
       "\n",
       "#sk-container-id-4 div.sk-label label {\n",
       "  font-family: monospace;\n",
       "  font-weight: bold;\n",
       "  display: inline-block;\n",
       "  line-height: 1.2em;\n",
       "}\n",
       "\n",
       "#sk-container-id-4 div.sk-label-container {\n",
       "  text-align: center;\n",
       "}\n",
       "\n",
       "/* Estimator-specific */\n",
       "#sk-container-id-4 div.sk-estimator {\n",
       "  font-family: monospace;\n",
       "  border: 1px dotted var(--sklearn-color-border-box);\n",
       "  border-radius: 0.25em;\n",
       "  box-sizing: border-box;\n",
       "  margin-bottom: 0.5em;\n",
       "  /* unfitted */\n",
       "  background-color: var(--sklearn-color-unfitted-level-0);\n",
       "}\n",
       "\n",
       "#sk-container-id-4 div.sk-estimator.fitted {\n",
       "  /* fitted */\n",
       "  background-color: var(--sklearn-color-fitted-level-0);\n",
       "}\n",
       "\n",
       "/* on hover */\n",
       "#sk-container-id-4 div.sk-estimator:hover {\n",
       "  /* unfitted */\n",
       "  background-color: var(--sklearn-color-unfitted-level-2);\n",
       "}\n",
       "\n",
       "#sk-container-id-4 div.sk-estimator.fitted:hover {\n",
       "  /* fitted */\n",
       "  background-color: var(--sklearn-color-fitted-level-2);\n",
       "}\n",
       "\n",
       "/* Specification for estimator info (e.g. \"i\" and \"?\") */\n",
       "\n",
       "/* Common style for \"i\" and \"?\" */\n",
       "\n",
       ".sk-estimator-doc-link,\n",
       "a:link.sk-estimator-doc-link,\n",
       "a:visited.sk-estimator-doc-link {\n",
       "  float: right;\n",
       "  font-size: smaller;\n",
       "  line-height: 1em;\n",
       "  font-family: monospace;\n",
       "  background-color: var(--sklearn-color-background);\n",
       "  border-radius: 1em;\n",
       "  height: 1em;\n",
       "  width: 1em;\n",
       "  text-decoration: none !important;\n",
       "  margin-left: 1ex;\n",
       "  /* unfitted */\n",
       "  border: var(--sklearn-color-unfitted-level-1) 1pt solid;\n",
       "  color: var(--sklearn-color-unfitted-level-1);\n",
       "}\n",
       "\n",
       ".sk-estimator-doc-link.fitted,\n",
       "a:link.sk-estimator-doc-link.fitted,\n",
       "a:visited.sk-estimator-doc-link.fitted {\n",
       "  /* fitted */\n",
       "  border: var(--sklearn-color-fitted-level-1) 1pt solid;\n",
       "  color: var(--sklearn-color-fitted-level-1);\n",
       "}\n",
       "\n",
       "/* On hover */\n",
       "div.sk-estimator:hover .sk-estimator-doc-link:hover,\n",
       ".sk-estimator-doc-link:hover,\n",
       "div.sk-label-container:hover .sk-estimator-doc-link:hover,\n",
       ".sk-estimator-doc-link:hover {\n",
       "  /* unfitted */\n",
       "  background-color: var(--sklearn-color-unfitted-level-3);\n",
       "  color: var(--sklearn-color-background);\n",
       "  text-decoration: none;\n",
       "}\n",
       "\n",
       "div.sk-estimator.fitted:hover .sk-estimator-doc-link.fitted:hover,\n",
       ".sk-estimator-doc-link.fitted:hover,\n",
       "div.sk-label-container:hover .sk-estimator-doc-link.fitted:hover,\n",
       ".sk-estimator-doc-link.fitted:hover {\n",
       "  /* fitted */\n",
       "  background-color: var(--sklearn-color-fitted-level-3);\n",
       "  color: var(--sklearn-color-background);\n",
       "  text-decoration: none;\n",
       "}\n",
       "\n",
       "/* Span, style for the box shown on hovering the info icon */\n",
       ".sk-estimator-doc-link span {\n",
       "  display: none;\n",
       "  z-index: 9999;\n",
       "  position: relative;\n",
       "  font-weight: normal;\n",
       "  right: .2ex;\n",
       "  padding: .5ex;\n",
       "  margin: .5ex;\n",
       "  width: min-content;\n",
       "  min-width: 20ex;\n",
       "  max-width: 50ex;\n",
       "  color: var(--sklearn-color-text);\n",
       "  box-shadow: 2pt 2pt 4pt #999;\n",
       "  /* unfitted */\n",
       "  background: var(--sklearn-color-unfitted-level-0);\n",
       "  border: .5pt solid var(--sklearn-color-unfitted-level-3);\n",
       "}\n",
       "\n",
       ".sk-estimator-doc-link.fitted span {\n",
       "  /* fitted */\n",
       "  background: var(--sklearn-color-fitted-level-0);\n",
       "  border: var(--sklearn-color-fitted-level-3);\n",
       "}\n",
       "\n",
       ".sk-estimator-doc-link:hover span {\n",
       "  display: block;\n",
       "}\n",
       "\n",
       "/* \"?\"-specific style due to the `<a>` HTML tag */\n",
       "\n",
       "#sk-container-id-4 a.estimator_doc_link {\n",
       "  float: right;\n",
       "  font-size: 1rem;\n",
       "  line-height: 1em;\n",
       "  font-family: monospace;\n",
       "  background-color: var(--sklearn-color-background);\n",
       "  border-radius: 1rem;\n",
       "  height: 1rem;\n",
       "  width: 1rem;\n",
       "  text-decoration: none;\n",
       "  /* unfitted */\n",
       "  color: var(--sklearn-color-unfitted-level-1);\n",
       "  border: var(--sklearn-color-unfitted-level-1) 1pt solid;\n",
       "}\n",
       "\n",
       "#sk-container-id-4 a.estimator_doc_link.fitted {\n",
       "  /* fitted */\n",
       "  border: var(--sklearn-color-fitted-level-1) 1pt solid;\n",
       "  color: var(--sklearn-color-fitted-level-1);\n",
       "}\n",
       "\n",
       "/* On hover */\n",
       "#sk-container-id-4 a.estimator_doc_link:hover {\n",
       "  /* unfitted */\n",
       "  background-color: var(--sklearn-color-unfitted-level-3);\n",
       "  color: var(--sklearn-color-background);\n",
       "  text-decoration: none;\n",
       "}\n",
       "\n",
       "#sk-container-id-4 a.estimator_doc_link.fitted:hover {\n",
       "  /* fitted */\n",
       "  background-color: var(--sklearn-color-fitted-level-3);\n",
       "}\n",
       "</style><div id=\"sk-container-id-4\" class=\"sk-top-container\"><div class=\"sk-text-repr-fallback\"><pre>KNeighborsClassifier(n_neighbors=32)</pre><b>In a Jupyter environment, please rerun this cell to show the HTML representation or trust the notebook. <br />On GitHub, the HTML representation is unable to render, please try loading this page with nbviewer.org.</b></div><div class=\"sk-container\" hidden><div class=\"sk-item\"><div class=\"sk-estimator fitted sk-toggleable\"><input class=\"sk-toggleable__control sk-hidden--visually\" id=\"sk-estimator-id-4\" type=\"checkbox\" checked><label for=\"sk-estimator-id-4\" class=\"sk-toggleable__label fitted sk-toggleable__label-arrow fitted\">&nbsp;&nbsp;KNeighborsClassifier<a class=\"sk-estimator-doc-link fitted\" rel=\"noreferrer\" target=\"_blank\" href=\"https://scikit-learn.org/1.5/modules/generated/sklearn.neighbors.KNeighborsClassifier.html\">?<span>Documentation for KNeighborsClassifier</span></a><span class=\"sk-estimator-doc-link fitted\">i<span>Fitted</span></span></label><div class=\"sk-toggleable__content fitted\"><pre>KNeighborsClassifier(n_neighbors=32)</pre></div> </div></div></div></div>"
      ],
      "text/plain": [
       "KNeighborsClassifier(n_neighbors=32)"
      ]
     },
     "execution_count": 79,
     "metadata": {},
     "output_type": "execute_result"
    }
   ],
   "source": [
    "knn = KNeighborsClassifier(n_neighbors = 32)\n",
    "knn.fit(X_train, y_train)"
   ]
  },
  {
   "cell_type": "code",
   "execution_count": 80,
   "metadata": {},
   "outputs": [
    {
     "data": {
      "text/html": [
       "<div>\n",
       "<style scoped>\n",
       "    .dataframe tbody tr th:only-of-type {\n",
       "        vertical-align: middle;\n",
       "    }\n",
       "\n",
       "    .dataframe tbody tr th {\n",
       "        vertical-align: top;\n",
       "    }\n",
       "\n",
       "    .dataframe thead th {\n",
       "        text-align: right;\n",
       "    }\n",
       "</style>\n",
       "<table border=\"1\" class=\"dataframe\">\n",
       "  <thead>\n",
       "    <tr style=\"text-align: right;\">\n",
       "      <th></th>\n",
       "      <th>binary</th>\n",
       "      <th>macro avg</th>\n",
       "      <th>weighted avg</th>\n",
       "      <th>micro avg</th>\n",
       "    </tr>\n",
       "  </thead>\n",
       "  <tbody>\n",
       "    <tr>\n",
       "      <th>precision</th>\n",
       "      <td>0.631</td>\n",
       "      <td>0.77</td>\n",
       "      <td>0.878</td>\n",
       "      <td>0.899</td>\n",
       "    </tr>\n",
       "    <tr>\n",
       "      <th>recall</th>\n",
       "      <td>0.217</td>\n",
       "      <td>0.601</td>\n",
       "      <td>0.899</td>\n",
       "      <td>0.899</td>\n",
       "    </tr>\n",
       "    <tr>\n",
       "      <th>f1-score</th>\n",
       "      <td>0.323</td>\n",
       "      <td>0.634</td>\n",
       "      <td>0.876</td>\n",
       "      <td>0.899</td>\n",
       "    </tr>\n",
       "    <tr>\n",
       "      <th>accuracy</th>\n",
       "      <td>0.899</td>\n",
       "      <td>N/A</td>\n",
       "      <td>N/A</td>\n",
       "      <td>N/A</td>\n",
       "    </tr>\n",
       "  </tbody>\n",
       "</table>\n",
       "</div>"
      ],
      "text/plain": [
       "           binary macro avg weighted avg micro avg\n",
       "precision   0.631      0.77        0.878     0.899\n",
       "recall      0.217     0.601        0.899     0.899\n",
       "f1-score    0.323     0.634        0.876     0.899\n",
       "accuracy    0.899       N/A          N/A       N/A"
      ]
     },
     "execution_count": 80,
     "metadata": {},
     "output_type": "execute_result"
    }
   ],
   "source": [
    "# Calculate predictions using the KNN classifier model and generate a classification report using precision, recall, f1-score metrics to evaluate the model performance\n",
    "y_prediction = knn.predict(X_test)\n",
    "report = metrics.classification_report(y_test, y_prediction, output_dict = True)\n",
    "\n",
    "# Add micro-averaged metrics\n",
    "report['micro avg'] = {'precision': metrics.precision_score(y_test, y_prediction, average='micro'),'recall': metrics.recall_score(y_test, y_prediction, average='micro'),\n",
    "                       'f1-score': metrics.f1_score(y_test, y_prediction, average='micro'),'support': len(y_test)}\n",
    "\n",
    "# Modify the report to be easier to comprehend\n",
    "report_df = pd.DataFrame(report).round(3)\n",
    "report_df = report_df.drop(['False', 'accuracy'], axis = 1)\n",
    "report_df = report_df.drop('support')\n",
    "report_df.loc['accuracy'] = [round((metrics.accuracy_score(y_test, y_prediction)), 3), 'N/A', 'N/A', 'N/A']\n",
    "report_df = report_df.rename(columns = {'True' : 'binary'})\n",
    "report_df"
   ]
  },
  {
   "cell_type": "markdown",
   "metadata": {},
   "source": [
    "1) After the KNN classifier was trained with our training data at K = 32, I evaluated its performance using a combination of different metrics: Precision, accuracy, f1-score, and accuracy. <br>\n",
    "2) Under the binary column, the metrics are focusing on the positive class only. In this case, customers who decide to purchase. Accuracy is high at 0.899, However, recall is quite low at 0.217. <br>\n",
    "3) Under the macro avg column, metrics are calculated for each class, and returns their unweighted mean. This does not take into account class imbalance. <br>\n",
    "4) For both weighted and micro avg, metrics are calculated for each class, and returns their weighted mean to account for class imbalance. <br>\n",
    "5) Due to the huge imbalance in negative and postive classes in this dataset, the weighted and micro avg metrics display a significantly different result than the binary column."
   ]
  },
  {
   "cell_type": "code",
   "execution_count": 81,
   "metadata": {},
   "outputs": [
    {
     "name": "stdout",
     "output_type": "stream",
     "text": [
      "y\n",
      "False    25490\n",
      "True      3193\n",
      "Name: count, dtype: int64\n"
     ]
    },
    {
     "data": {
      "text/plain": [
       "False"
      ]
     },
     "execution_count": 81,
     "metadata": {},
     "output_type": "execute_result"
    }
   ],
   "source": [
    "majority_class = y_train.value_counts().index[0]\n",
    "\n",
    "print(y_train.value_counts())\n",
    "majority_class"
   ]
  },
  {
   "cell_type": "code",
   "execution_count": 82,
   "metadata": {},
   "outputs": [
    {
     "name": "stdout",
     "output_type": "stream",
     "text": [
      "Null Accuracy = 0.889\n"
     ]
    }
   ],
   "source": [
    "print(f'Null Accuracy = {round(y_test.value_counts()[majority_class] / y_test.count(), 3)}')"
   ]
  },
  {
   "cell_type": "markdown",
   "metadata": {},
   "source": [
    "The model accuracy of 0.899 is very similar to the null accuracy of 0.889, computed from the majority class. However, this is due to the significant class imbalance in this dataset, with 'non-buyers' heavily outweighing 'buyers. <br>\n",
    "\n",
    "Therefore, for a more accurate evaluation of model performance, the precision and recall metrics should be further investigated."
   ]
  },
  {
   "cell_type": "markdown",
   "metadata": {},
   "source": [
    "#### 3.1. Inspection of confusion matrix"
   ]
  },
  {
   "cell_type": "code",
   "execution_count": 83,
   "metadata": {},
   "outputs": [],
   "source": [
    "from sklearn.metrics import confusion_matrix\n",
    "import matplotlib.pyplot as plt\n",
    "import seaborn as sns"
   ]
  },
  {
   "cell_type": "code",
   "execution_count": 84,
   "metadata": {},
   "outputs": [
    {
     "data": {
      "image/png": "[encoded data removed]",
      "text/plain": [
       "<Figure size 640x480 with 2 Axes>"
      ]
     },
     "metadata": {},
     "output_type": "display_data"
    }
   ],
   "source": [
    "# Plot the confusion matrix using data from y_test and y_prediction\n",
    "cm_bank_model = confusion_matrix(y_test, y_prediction)\n",
    "\n",
    "class_names = ['No Purchase','Purchase']\n",
    "sns.heatmap(cm_bank_model, annot = True, fmt='d', cmap = 'RdYlGn_r', xticklabels = class_names, yticklabels = class_names, linewidths = 0.5, linecolor = 'black')\n",
    "plt.gca().invert_yaxis()\n",
    "plt.gca().invert_xaxis()\n",
    "plt.title('Confusion Matrix')\n",
    "plt.xlabel('Predicted Labels')\n",
    "plt.ylabel('True Labels')\n",
    "plt.show()"
   ]
  },
  {
   "cell_type": "markdown",
   "metadata": {},
   "source": [
    "1) The number of true negatives (TN) is 8362, significantly outweighing any other component on the matrix and is the reason for high values of Accuracy for both model and null. Accuracy = (TP + TN) / (TN + TP + FP + FN). <br>\n",
    "2) However, Recall (= TP / ( TP + FN)), is the most important metric for our use case because it represents the revenue a bank is able to make from potential customers. The higher the recall, the more effective the model is in predicting customers who will purchase the bank's product. <br>\n",
    "3) Precision (= TP / ( TP + FP)) is not as important a metric as Recall because a low Precision does not incur much cost to the company, it is simply wasted phone calls to customers who are not likely to buy the bank's product."
   ]
  },
  {
   "cell_type": "markdown",
   "metadata": {},
   "source": [
    "#### 3.2. Investigate relationship between column features and prediction accuracy "
   ]
  },
  {
   "cell_type": "code",
   "execution_count": 85,
   "metadata": {},
   "outputs": [],
   "source": [
    "y_prediction = pd.Series((y_prediction), index = y_test.index)\n",
    "bank_model_predictions = bank_clean2.copy()\n",
    "bank_model_predictions['y_test'] = y_test\n",
    "bank_model_predictions['y_prediction'] = y_prediction\n",
    "bank_model_predictions = bank_model_predictions.dropna(subset = ['y_test'])\n",
    "bank_model_predictions['correct_prediction'] = bank_model_predictions.apply(lambda row: True if row['y_test'] == row['y_prediction'] else False, axis = 1)"
   ]
  },
  {
   "cell_type": "markdown",
   "metadata": {},
   "source": [
    "Created a new column for correct predictions which returns for each customer True if the predicted outcome was accurate and False otherwise."
   ]
  },
  {
   "cell_type": "code",
   "execution_count": 86,
   "metadata": {},
   "outputs": [],
   "source": [
    "accuracy_job = round((bank_model_predictions.groupby('job')['correct_prediction'].mean().sort_values(ascending = False)) * 100, 1)\n",
    "accuracy_education = round((bank_model_predictions.groupby('education')['correct_prediction'].mean().sort_values(ascending = False)) * 100, 1)\n",
    "accuracy_marital = round((bank_model_predictions.groupby('marital')['correct_prediction'].mean().sort_values(ascending = False)) * 100, 1)\n",
    "accuracy_month = round((bank_model_predictions.groupby('month')['correct_prediction'].mean().sort_values(ascending = False)) * 100, 1)\n",
    "accuracy_day = round((bank_model_predictions.groupby('day_of_week')['correct_prediction'].mean().sort_values(ascending = False)) * 100, 1)\n",
    "accuracy_housing = round((bank_model_predictions.groupby('housing')['correct_prediction'].mean().sort_values(ascending = False)) * 100, 1)\n",
    "accuracy_loan = round((bank_model_predictions.groupby('loan')['correct_prediction'].mean().sort_values(ascending = False)) * 100, 1)\n",
    "accuracy_contact = round((bank_model_predictions.groupby('contact')['correct_prediction'].mean().sort_values(ascending = False)) * 100, 1)\n",
    "accuracy_poutcome = round((bank_model_predictions.groupby('poutcome')['correct_prediction'].mean().sort_values(ascending = False)) * 100, 1)"
   ]
  },
  {
   "cell_type": "markdown",
   "metadata": {},
   "source": [
    "Calculated the prediction accuracies for different categorical variables."
   ]
  },
  {
   "cell_type": "code",
   "execution_count": 87,
   "metadata": {},
   "outputs": [
    {
     "data": {
      "application/vnd.plotly.v1+json": {
       "config": {
        "plotlyServerURL": "https://plot.ly"
       },
       "data": [
        {
         "hovertemplate": "housing: %{x}<br>accuracy: %{y} %<extra></extra>",
         "type": "bar",
         "x": [
          false,
          true
         ],
         "xaxis": "x",
         "y": [
          90.3,
          89.5
         ],
         "yaxis": "y"
        },
        {
         "hovertemplate": "loan: %{x}<br>accuracy: %{y} %<extra></extra>",
         "type": "bar",
         "x": [
          true,
          false
         ],
         "xaxis": "x2",
         "y": [
          91.3,
          89.6
         ],
         "yaxis": "y2"
        },
        {
         "hovertemplate": "contact: %{x}<br>accuracy: %{y} %<extra></extra>",
         "type": "bar",
         "x": [
          "telephone",
          "cellular"
         ],
         "xaxis": "x3",
         "y": [
          95.1,
          86.8
         ],
         "yaxis": "y3"
        },
        {
         "hovertemplate": "marital: %{x}<br>accuracy: %{y} %<extra></extra>",
         "type": "bar",
         "x": [
          "married",
          "divorced",
          "single"
         ],
         "xaxis": "x4",
         "y": [
          91,
          90.4,
          87.3
         ],
         "yaxis": "y4"
        },
        {
         "hovertemplate": "job: %{x}<br>accuracy: %{y} %<extra></extra>",
         "type": "bar",
         "x": [
          "entrepreneur",
          "blue-collar",
          "services",
          "management",
          "technician",
          "housemaid",
          "admin.",
          "self-employed",
          "unemployed",
          "retired",
          "student"
         ],
         "xaxis": "x5",
         "y": [
          94.9,
          93.4,
          92.1,
          91.1,
          90.2,
          88.8,
          88.5,
          87.8,
          86.4,
          77.6,
          74.2
         ],
         "yaxis": "y5"
        },
        {
         "hovertemplate": "education: %{x}<br>accuracy: %{y} %<extra></extra>",
         "type": "bar",
         "x": [
          "illiterate",
          "basic.6y",
          "basic.9y",
          "professional.course",
          "high.school",
          "basic.4y",
          "university.degree"
         ],
         "xaxis": "x6",
         "y": [
          100,
          94.3,
          92.3,
          90.5,
          89.6,
          89.2,
          87.9
         ],
         "yaxis": "y6"
        },
        {
         "hovertemplate": "month: %{x}<br>accuracy: %{y} %<extra></extra>",
         "type": "bar",
         "x": [
          "may",
          "jul",
          "aug",
          "nov",
          "jun",
          "apr",
          "sep",
          "dec",
          "mar",
          "oct"
         ],
         "xaxis": "x7",
         "y": [
          94.2,
          91.2,
          90.9,
          90.7,
          90.4,
          79.3,
          69.4,
          64.9,
          62.6,
          58.1
         ],
         "yaxis": "y7"
        },
        {
         "hovertemplate": "day: %{x}<br>accuracy: %{y} %<extra></extra>",
         "type": "bar",
         "x": [
          "wed",
          "fri",
          "mon",
          "thu",
          "tue"
         ],
         "xaxis": "x8",
         "y": [
          90.5,
          90.3,
          89.7,
          89.4,
          89.4
         ],
         "yaxis": "y8"
        },
        {
         "hovertemplate": "poutcome: %{x}<br>accuracy: %{y} %<extra></extra>",
         "type": "bar",
         "x": [
          "nonexistent",
          "failure",
          "success"
         ],
         "xaxis": "x9",
         "y": [
          91.3,
          86.4,
          64.8
         ],
         "yaxis": "y9"
        }
       ],
       "layout": {
        "annotations": [
         {
          "font": {
           "size": 16
          },
          "showarrow": false,
          "text": "Housing Loan",
          "x": 0.2425,
          "xanchor": "center",
          "xref": "paper",
          "y": 1,
          "yanchor": "bottom",
          "yref": "paper"
         },
         {
          "font": {
           "size": 16
          },
          "showarrow": false,
          "text": "Personal Loan",
          "x": 0.4141666666666667,
          "xanchor": "center",
          "xref": "paper",
          "y": 1,
          "yanchor": "bottom",
          "yref": "paper"
         },
         {
          "font": {
           "size": 16
          },
          "showarrow": false,
          "text": "Contact Method",
          "x": 0.5858333333333334,
          "xanchor": "center",
          "xref": "paper",
          "y": 1,
          "yanchor": "bottom",
          "yref": "paper"
         },
         {
          "font": {
           "size": 16
          },
          "showarrow": false,
          "text": "Marital Status",
          "x": 0.8433333333333333,
          "xanchor": "center",
          "xref": "paper",
          "y": 1,
          "yanchor": "bottom",
          "yref": "paper"
         },
         {
          "font": {
           "size": 16
          },
          "showarrow": false,
          "text": "Job",
          "x": 0.2425,
          "xanchor": "center",
          "xref": "paper",
          "y": 0.63,
          "yanchor": "bottom",
          "yref": "paper"
         },
         {
          "font": {
           "size": 16
          },
          "showarrow": false,
          "text": "Education Level",
          "x": 0.7575000000000001,
          "xanchor": "center",
          "xref": "paper",
          "y": 0.63,
          "yanchor": "bottom",
          "yref": "paper"
         },
         {
          "font": {
           "size": 16
          },
          "showarrow": false,
          "text": "Last Contact Month",
          "x": 0.2425,
          "xanchor": "center",
          "xref": "paper",
          "y": 0.26,
          "yanchor": "bottom",
          "yref": "paper"
         },
         {
          "font": {
           "size": 16
          },
          "showarrow": false,
          "text": "Last Contact Day",
          "x": 0.6716666666666666,
          "xanchor": "center",
          "xref": "paper",
          "y": 0.26,
          "yanchor": "bottom",
          "yref": "paper"
         },
         {
          "font": {
           "size": 16
          },
          "showarrow": false,
          "text": "Previous Campaign Outcome",
          "x": 0.9291666666666667,
          "xanchor": "center",
          "xref": "paper",
          "y": 0.26,
          "yanchor": "bottom",
          "yref": "paper"
         },
         {
          "font": {
           "size": 20
          },
          "showarrow": false,
          "text": "Prediction Accuracy (%)",
          "textangle": -90,
          "x": -0.045,
          "xref": "paper",
          "y": 0.5,
          "yref": "paper"
         }
        ],
        "height": 800,
        "margin": {
         "b": 50,
         "l": 80,
         "r": 40,
         "t": 80
        },
        "showlegend": false,
        "template": {
         "data": {
          "bar": [
           {
            "error_x": {
             "color": "#2a3f5f"
            },
            "error_y": {
             "color": "#2a3f5f"
            },
            "marker": {
             "line": {
              "color": "#E5ECF6",
              "width": 0.5
             },
             "pattern": {
              "fillmode": "overlay",
              "size": 10,
              "solidity": 0.2
             }
            },
            "type": "bar"
           }
          ],
          "barpolar": [
           {
            "marker": {
             "line": {
              "color": "#E5ECF6",
              "width": 0.5
             },
             "pattern": {
              "fillmode": "overlay",
              "size": 10,
              "solidity": 0.2
             }
            },
            "type": "barpolar"
           }
          ],
          "carpet": [
           {
            "aaxis": {
             "endlinecolor": "#2a3f5f",
             "gridcolor": "white",
             "linecolor": "white",
             "minorgridcolor": "white",
             "startlinecolor": "#2a3f5f"
            },
            "baxis": {
             "endlinecolor": "#2a3f5f",
             "gridcolor": "white",
             "linecolor": "white",
             "minorgridcolor": "white",
             "startlinecolor": "#2a3f5f"
            },
            "type": "carpet"
           }
          ],
          "choropleth": [
           {
            "colorbar": {
             "outlinewidth": 0,
             "ticks": ""
            },
            "type": "choropleth"
           }
          ],
          "contour": [
           {
            "colorbar": {
             "outlinewidth": 0,
             "ticks": ""
            },
            "colorscale": [
             [
              0,
              "#0d0887"
             ],
             [
              0.1111111111111111,
              "#46039f"
             ],
             [
              0.2222222222222222,
              "#7201a8"
             ],
             [
              0.3333333333333333,
              "#9c179e"
             ],
             [
              0.4444444444444444,
              "#bd3786"
             ],
             [
              0.5555555555555556,
              "#d8576b"
             ],
             [
              0.6666666666666666,
              "#ed7953"
             ],
             [
              0.7777777777777778,
              "#fb9f3a"
             ],
             [
              0.8888888888888888,
              "#fdca26"
             ],
             [
              1,
              "#f0f921"
             ]
            ],
            "type": "contour"
           }
          ],
          "contourcarpet": [
           {
            "colorbar": {
             "outlinewidth": 0,
             "ticks": ""
            },
            "type": "contourcarpet"
           }
          ],
          "heatmap": [
           {
            "colorbar": {
             "outlinewidth": 0,
             "ticks": ""
            },
            "colorscale": [
             [
              0,
              "#0d0887"
             ],
             [
              0.1111111111111111,
              "#46039f"
             ],
             [
              0.2222222222222222,
              "#7201a8"
             ],
             [
              0.3333333333333333,
              "#9c179e"
             ],
             [
              0.4444444444444444,
              "#bd3786"
             ],
             [
              0.5555555555555556,
              "#d8576b"
             ],
             [
              0.6666666666666666,
              "#ed7953"
             ],
             [
              0.7777777777777778,
              "#fb9f3a"
             ],
             [
              0.8888888888888888,
              "#fdca26"
             ],
             [
              1,
              "#f0f921"
             ]
            ],
            "type": "heatmap"
           }
          ],
          "heatmapgl": [
           {
            "colorbar": {
             "outlinewidth": 0,
             "ticks": ""
            },
            "colorscale": [
             [
              0,
              "#0d0887"
             ],
             [
              0.1111111111111111,
              "#46039f"
             ],
             [
              0.2222222222222222,
              "#7201a8"
             ],
             [
              0.3333333333333333,
              "#9c179e"
             ],
             [
              0.4444444444444444,
              "#bd3786"
             ],
             [
              0.5555555555555556,
              "#d8576b"
             ],
             [
              0.6666666666666666,
              "#ed7953"
             ],
             [
              0.7777777777777778,
              "#fb9f3a"
             ],
             [
              0.8888888888888888,
              "#fdca26"
             ],
             [
              1,
              "#f0f921"
             ]
            ],
            "type": "heatmapgl"
           }
          ],
          "histogram": [
           {
            "marker": {
             "pattern": {
              "fillmode": "overlay",
              "size": 10,
              "solidity": 0.2
             }
            },
            "type": "histogram"
           }
          ],
          "histogram2d": [
           {
            "colorbar": {
             "outlinewidth": 0,
             "ticks": ""
            },
            "colorscale": [
             [
              0,
              "#0d0887"
             ],
             [
              0.1111111111111111,
              "#46039f"
             ],
             [
              0.2222222222222222,
              "#7201a8"
             ],
             [
              0.3333333333333333,
              "#9c179e"
             ],
             [
              0.4444444444444444,
              "#bd3786"
             ],
             [
              0.5555555555555556,
              "#d8576b"
             ],
             [
              0.6666666666666666,
              "#ed7953"
             ],
             [
              0.7777777777777778,
              "#fb9f3a"
             ],
             [
              0.8888888888888888,
              "#fdca26"
             ],
             [
              1,
              "#f0f921"
             ]
            ],
            "type": "histogram2d"
           }
          ],
          "histogram2dcontour": [
           {
            "colorbar": {
             "outlinewidth": 0,
             "ticks": ""
            },
            "colorscale": [
             [
              0,
              "#0d0887"
             ],
             [
              0.1111111111111111,
              "#46039f"
             ],
             [
              0.2222222222222222,
              "#7201a8"
             ],
             [
              0.3333333333333333,
              "#9c179e"
             ],
             [
              0.4444444444444444,
              "#bd3786"
             ],
             [
              0.5555555555555556,
              "#d8576b"
             ],
             [
              0.6666666666666666,
              "#ed7953"
             ],
             [
              0.7777777777777778,
              "#fb9f3a"
             ],
             [
              0.8888888888888888,
              "#fdca26"
             ],
             [
              1,
              "#f0f921"
             ]
            ],
            "type": "histogram2dcontour"
           }
          ],
          "mesh3d": [
           {
            "colorbar": {
             "outlinewidth": 0,
             "ticks": ""
            },
            "type": "mesh3d"
           }
          ],
          "parcoords": [
           {
            "line": {
             "colorbar": {
              "outlinewidth": 0,
              "ticks": ""
             }
            },
            "type": "parcoords"
           }
          ],
          "pie": [
           {
            "automargin": true,
            "type": "pie"
           }
          ],
          "scatter": [
           {
            "fillpattern": {
             "fillmode": "overlay",
             "size": 10,
             "solidity": 0.2
            },
            "type": "scatter"
           }
          ],
          "scatter3d": [
           {
            "line": {
             "colorbar": {
              "outlinewidth": 0,
              "ticks": ""
             }
            },
            "marker": {
             "colorbar": {
              "outlinewidth": 0,
              "ticks": ""
             }
            },
            "type": "scatter3d"
           }
          ],
          "scattercarpet": [
           {
            "marker": {
             "colorbar": {
              "outlinewidth": 0,
              "ticks": ""
             }
            },
            "type": "scattercarpet"
           }
          ],
          "scattergeo": [
           {
            "marker": {
             "colorbar": {
              "outlinewidth": 0,
              "ticks": ""
             }
            },
            "type": "scattergeo"
           }
          ],
          "scattergl": [
           {
            "marker": {
             "colorbar": {
              "outlinewidth": 0,
              "ticks": ""
             }
            },
            "type": "scattergl"
           }
          ],
          "scattermapbox": [
           {
            "marker": {
             "colorbar": {
              "outlinewidth": 0,
              "ticks": ""
             }
            },
            "type": "scattermapbox"
           }
          ],
          "scatterpolar": [
           {
            "marker": {
             "colorbar": {
              "outlinewidth": 0,
              "ticks": ""
             }
            },
            "type": "scatterpolar"
           }
          ],
          "scatterpolargl": [
           {
            "marker": {
             "colorbar": {
              "outlinewidth": 0,
              "ticks": ""
             }
            },
            "type": "scatterpolargl"
           }
          ],
          "scatterternary": [
           {
            "marker": {
             "colorbar": {
              "outlinewidth": 0,
              "ticks": ""
             }
            },
            "type": "scatterternary"
           }
          ],
          "surface": [
           {
            "colorbar": {
             "outlinewidth": 0,
             "ticks": ""
            },
            "colorscale": [
             [
              0,
              "#0d0887"
             ],
             [
              0.1111111111111111,
              "#46039f"
             ],
             [
              0.2222222222222222,
              "#7201a8"
             ],
             [
              0.3333333333333333,
              "#9c179e"
             ],
             [
              0.4444444444444444,
              "#bd3786"
             ],
             [
              0.5555555555555556,
              "#d8576b"
             ],
             [
              0.6666666666666666,
              "#ed7953"
             ],
             [
              0.7777777777777778,
              "#fb9f3a"
             ],
             [
              0.8888888888888888,
              "#fdca26"
             ],
             [
              1,
              "#f0f921"
             ]
            ],
            "type": "surface"
           }
          ],
          "table": [
           {
            "cells": {
             "fill": {
              "color": "#EBF0F8"
             },
             "line": {
              "color": "white"
             }
            },
            "header": {
             "fill": {
              "color": "#C8D4E3"
             },
             "line": {
              "color": "white"
             }
            },
            "type": "table"
           }
          ]
         },
         "layout": {
          "annotationdefaults": {
           "arrowcolor": "#2a3f5f",
           "arrowhead": 0,
           "arrowwidth": 1
          },
          "autotypenumbers": "strict",
          "coloraxis": {
           "colorbar": {
            "outlinewidth": 0,
            "ticks": ""
           }
          },
          "colorscale": {
           "diverging": [
            [
             0,
             "#8e0152"
            ],
            [
             0.1,
             "#c51b7d"
            ],
            [
             0.2,
             "#de77ae"
            ],
            [
             0.3,
             "#f1b6da"
            ],
            [
             0.4,
             "#fde0ef"
            ],
            [
             0.5,
             "#f7f7f7"
            ],
            [
             0.6,
             "#e6f5d0"
            ],
            [
             0.7,
             "#b8e186"
            ],
            [
             0.8,
             "#7fbc41"
            ],
            [
             0.9,
             "#4d9221"
            ],
            [
             1,
             "#276419"
            ]
           ],
           "sequential": [
            [
             0,
             "#0d0887"
            ],
            [
             0.1111111111111111,
             "#46039f"
            ],
            [
             0.2222222222222222,
             "#7201a8"
            ],
            [
             0.3333333333333333,
             "#9c179e"
            ],
            [
             0.4444444444444444,
             "#bd3786"
            ],
            [
             0.5555555555555556,
             "#d8576b"
            ],
            [
             0.6666666666666666,
             "#ed7953"
            ],
            [
             0.7777777777777778,
             "#fb9f3a"
            ],
            [
             0.8888888888888888,
             "#fdca26"
            ],
            [
             1,
             "#f0f921"
            ]
           ],
           "sequentialminus": [
            [
             0,
             "#0d0887"
            ],
            [
             0.1111111111111111,
             "#46039f"
            ],
            [
             0.2222222222222222,
             "#7201a8"
            ],
            [
             0.3333333333333333,
             "#9c179e"
            ],
            [
             0.4444444444444444,
             "#bd3786"
            ],
            [
             0.5555555555555556,
             "#d8576b"
            ],
            [
             0.6666666666666666,
             "#ed7953"
            ],
            [
             0.7777777777777778,
             "#fb9f3a"
            ],
            [
             0.8888888888888888,
             "#fdca26"
            ],
            [
             1,
             "#f0f921"
            ]
           ]
          },
          "colorway": [
           "#636efa",
           "#EF553B",
           "#00cc96",
           "#ab63fa",
           "#FFA15A",
           "#19d3f3",
           "#FF6692",
           "#B6E880",
           "#FF97FF",
           "#FECB52"
          ],
          "font": {
           "color": "#2a3f5f"
          },
          "geo": {
           "bgcolor": "white",
           "lakecolor": "white",
           "landcolor": "#E5ECF6",
           "showlakes": true,
           "showland": true,
           "subunitcolor": "white"
          },
          "hoverlabel": {
           "align": "left"
          },
          "hovermode": "closest",
          "mapbox": {
           "style": "light"
          },
          "paper_bgcolor": "white",
          "plot_bgcolor": "#E5ECF6",
          "polar": {
           "angularaxis": {
            "gridcolor": "white",
            "linecolor": "white",
            "ticks": ""
           },
           "bgcolor": "#E5ECF6",
           "radialaxis": {
            "gridcolor": "white",
            "linecolor": "white",
            "ticks": ""
           }
          },
          "scene": {
           "xaxis": {
            "backgroundcolor": "#E5ECF6",
            "gridcolor": "white",
            "gridwidth": 2,
            "linecolor": "white",
            "showbackground": true,
            "ticks": "",
            "zerolinecolor": "white"
           },
           "yaxis": {
            "backgroundcolor": "#E5ECF6",
            "gridcolor": "white",
            "gridwidth": 2,
            "linecolor": "white",
            "showbackground": true,
            "ticks": "",
            "zerolinecolor": "white"
           },
           "zaxis": {
            "backgroundcolor": "#E5ECF6",
            "gridcolor": "white",
            "gridwidth": 2,
            "linecolor": "white",
            "showbackground": true,
            "ticks": "",
            "zerolinecolor": "white"
           }
          },
          "shapedefaults": {
           "line": {
            "color": "#2a3f5f"
           }
          },
          "ternary": {
           "aaxis": {
            "gridcolor": "white",
            "linecolor": "white",
            "ticks": ""
           },
           "baxis": {
            "gridcolor": "white",
            "linecolor": "white",
            "ticks": ""
           },
           "bgcolor": "#E5ECF6",
           "caxis": {
            "gridcolor": "white",
            "linecolor": "white",
            "ticks": ""
           }
          },
          "title": {
           "x": 0.05
          },
          "xaxis": {
           "automargin": true,
           "gridcolor": "white",
           "linecolor": "white",
           "ticks": "",
           "title": {
            "standoff": 15
           },
           "zerolinecolor": "white",
           "zerolinewidth": 2
          },
          "yaxis": {
           "automargin": true,
           "gridcolor": "white",
           "linecolor": "white",
           "ticks": "",
           "title": {
            "standoff": 15
           },
           "zerolinecolor": "white",
           "zerolinewidth": 2
          }
         }
        },
        "title": {
         "font": {
          "size": 24
         },
         "text": "Prediction Accuracy for Different Categorical Variables",
         "x": 0.5,
         "xanchor": "center",
         "y": 0.97,
         "yanchor": "top"
        },
        "xaxis": {
         "anchor": "y",
         "domain": [
          0.17166666666666666,
          0.31333333333333335
         ]
        },
        "xaxis2": {
         "anchor": "y2",
         "domain": [
          0.3433333333333333,
          0.485
         ]
        },
        "xaxis3": {
         "anchor": "y3",
         "domain": [
          0.515,
          0.6566666666666667
         ]
        },
        "xaxis4": {
         "anchor": "y4",
         "domain": [
          0.6866666666666666,
          1
         ]
        },
        "xaxis5": {
         "anchor": "y5",
         "domain": [
          0,
          0.485
         ],
         "tickangle": 25
        },
        "xaxis6": {
         "anchor": "y6",
         "domain": [
          0.515,
          1
         ],
         "tickangle": 15
        },
        "xaxis7": {
         "anchor": "y7",
         "domain": [
          0,
          0.485
         ]
        },
        "xaxis8": {
         "anchor": "y8",
         "domain": [
          0.515,
          0.8283333333333334
         ]
        },
        "xaxis9": {
         "anchor": "y9",
         "domain": [
          0.8583333333333333,
          1
         ]
        },
        "yaxis": {
         "anchor": "x",
         "domain": [
          0.74,
          1
         ]
        },
        "yaxis2": {
         "anchor": "x2",
         "domain": [
          0.74,
          1
         ]
        },
        "yaxis3": {
         "anchor": "x3",
         "domain": [
          0.74,
          1
         ]
        },
        "yaxis4": {
         "anchor": "x4",
         "domain": [
          0.74,
          1
         ]
        },
        "yaxis5": {
         "anchor": "x5",
         "domain": [
          0.37,
          0.63
         ]
        },
        "yaxis6": {
         "anchor": "x6",
         "domain": [
          0.37,
          0.63
         ]
        },
        "yaxis7": {
         "anchor": "x7",
         "domain": [
          0,
          0.26
         ]
        },
        "yaxis8": {
         "anchor": "x8",
         "domain": [
          0,
          0.26
         ]
        },
        "yaxis9": {
         "anchor": "x9",
         "domain": [
          0,
          0.26
         ]
        }
       }
      }
     },
     "metadata": {},
     "output_type": "display_data"
    }
   ],
   "source": [
    "# Create subplots of bar charts for each categorical feature and combine them in a single plot to investigate prediction accuracy\n",
    "fig7 = make_subplots(rows=3, cols=6, specs=[[None, {}, {}, {}, {'colspan': 2}, None], \n",
    "                                            [{'colspan': 3}, None, None, {'colspan': 3}, None, None], \n",
    "                                            [{'colspan': 3}, None, None, {'colspan': 2}, None, {}]], \n",
    "                     subplot_titles=('Housing Loan', 'Personal Loan', 'Contact Method', 'Marital Status', \n",
    "                                     'Job', 'Education Level', 'Last Contact Month', 'Last Contact Day', 'Previous Campaign Outcome'), vertical_spacing = 0.11, horizontal_spacing = 0.03)\n",
    "\n",
    "fig7.add_trace(go.Bar(x = accuracy_housing.index, y = accuracy_housing, hovertemplate = 'housing: %{x}<br>accuracy: %{y} %<extra></extra>'), row = 1, col = 2)\n",
    "fig7.add_trace(go.Bar(x = accuracy_loan.index, y = accuracy_loan, hovertemplate = 'loan: %{x}<br>accuracy: %{y} %<extra></extra>'), row = 1, col = 3)\n",
    "fig7.add_trace(go.Bar(x = accuracy_contact.index, y = accuracy_contact, hovertemplate = 'contact: %{x}<br>accuracy: %{y} %<extra></extra>'), row = 1, col = 4)\n",
    "fig7.add_trace(go.Bar(x = accuracy_marital.index, y = accuracy_marital, hovertemplate = 'marital: %{x}<br>accuracy: %{y} %<extra></extra>'), row = 1, col = 5)\n",
    "fig7.add_trace(go.Bar(x = accuracy_job.index, y = accuracy_job, hovertemplate = 'job: %{x}<br>accuracy: %{y} %<extra></extra>'), row = 2, col = 1)\n",
    "fig7.add_trace(go.Bar(x = accuracy_education.index, y = accuracy_education, hovertemplate = 'education: %{x}<br>accuracy: %{y} %<extra></extra>'), row = 2, col = 4)\n",
    "fig7.add_trace(go.Bar(x = accuracy_month.index, y = accuracy_month, hovertemplate = 'month: %{x}<br>accuracy: %{y} %<extra></extra>'), row = 3, col = 1)\n",
    "fig7.add_trace(go.Bar(x = accuracy_day.index, y = accuracy_day, hovertemplate = 'day: %{x}<br>accuracy: %{y} %<extra></extra>'), row = 3, col = 4)\n",
    "fig7.add_trace(go.Bar(x = accuracy_poutcome.index, y = accuracy_poutcome, hovertemplate = 'poutcome: %{x}<br>accuracy: %{y} %<extra></extra>'), row = 3, col = 6)\n",
    "\n",
    "fig7.update_xaxes(tickangle = 15, row = 2, col = 4)\n",
    "fig7.update_xaxes(tickangle = 25, row = 2, col = 1) \n",
    "fig7.add_annotation(text = 'Prediction Accuracy (%)', xref = 'paper', yref = 'paper', x = -0.045, y = 0.5, showarrow = False, textangle = -90, font = dict(size = 20))  \n",
    "fig7.update_layout(title={'text' : 'Prediction Accuracy for Different Categorical Variables', 'y' : 0.97, 'x' : 0.5, 'xanchor' : 'center', 'yanchor' : 'top', 'font' : {'size' : 24}},\n",
    "                   margin = dict(l = 80, r = 40, t = 80, b = 50), showlegend = False, height = 800)\n",
    "fig7.show()"
   ]
  },
  {
   "cell_type": "markdown",
   "metadata": {},
   "source": [
    "<u><h5> Analysis of Prediction Model</h5></u>\n",
    "1) Looking at the trend in prediction accuracies across categorical variables such as month, job, education level, and previous campaign outcome, an inverse correlation can be observed between prediction accuracy and customer purchase rates (Fig5). The higher the prediction accuracy, the lower the customer purchase rates. <br>\n",
    "2) For the month variable, the least accurate predictions, ranging from 58 to 69%, were from the months of sep, dec, mar, and oct. In contrast, these months had the highest customer purchase rates ranging from 45 to 51% in Figure 5. <br>\n",
    "3) Similarly, for the job variable, the least accurate predictions came from students and retired customers at 74.2 and 77.6%, respectively. In contrast, retired customers and students had the highest customer purchase rates of 25 and 30%, respectively. <br>\n",
    "4) For the poutcome variable, the least accurate prediction came from customers with successful previous campaign outcomes at 64.8%. In contrast, customers with successful previous campaign outcomes had the highest customer purchase rates of 64.6%."
   ]
  },
  {
   "cell_type": "code",
   "execution_count": 88,
   "metadata": {},
   "outputs": [],
   "source": [
    "accuracy_age = round((bank_model_predictions.groupby('age')['correct_prediction'].mean()) * 100, 1)\n",
    "accuracy_campaign = round((bank_model_predictions.groupby('campaign')['correct_prediction'].mean()) * 100, 1)\n",
    "accuracy_pdays = round((bank_model_predictions.groupby('pdays')['correct_prediction'].mean()) * 100, 1)\n",
    "accuracy_previous = round((bank_model_predictions.groupby('previous')['correct_prediction'].mean()) * 100, 1)\n",
    "accuracy_empvarrate = round((bank_model_predictions.groupby('emp.var.rate')['correct_prediction'].mean()) * 100, 1)\n",
    "accuracy_conspriceidx = round((bank_model_predictions.groupby('cons.price.idx')['correct_prediction'].mean()) * 100, 1)\n",
    "accuracy_consconfidx = round((bank_model_predictions.groupby('cons.conf.idx')['correct_prediction'].mean()) * 100, 1)\n",
    "accuracy_euribor3m = round((bank_model_predictions.groupby('euribor3m')['correct_prediction'].mean()) * 100, 1)\n",
    "accuracy_nremployed = round((bank_model_predictions.groupby('nr.employed')['correct_prediction'].mean()) * 100, 1)"
   ]
  },
  {
   "cell_type": "markdown",
   "metadata": {},
   "source": [
    "Calculated the prediction accuracies for different numerical variables."
   ]
  },
  {
   "cell_type": "code",
   "execution_count": 89,
   "metadata": {},
   "outputs": [
    {
     "data": {
      "application/vnd.plotly.v1+json": {
       "config": {
        "plotlyServerURL": "https://plot.ly"
       },
       "data": [
        {
         "hovertemplate": "campaign: %{x} contacts<br>accuracy: %{y} %<extra></extra>",
         "type": "bar",
         "x": [
          1,
          2,
          3,
          4,
          5,
          6,
          7,
          8,
          9,
          10,
          11,
          12,
          13,
          14,
          15,
          16,
          17,
          18,
          19,
          20,
          21,
          22,
          23,
          24,
          25,
          26,
          27,
          28,
          30,
          31,
          32,
          34,
          35,
          39,
          43
         ],
         "xaxis": "x",
         "y": [
          87.8,
          90.4,
          91.5,
          91.5,
          91.2,
          92.7,
          94.4,
          91.8,
          93.8,
          100,
          88.4,
          100,
          100,
          100,
          100,
          100,
          70,
          100,
          100,
          100,
          100,
          100,
          100,
          100,
          100,
          100,
          100,
          100,
          100,
          100,
          100,
          100,
          100,
          100,
          100
         ],
         "yaxis": "y"
        },
        {
         "hovertemplate": "pdays: %{x} days<br>accuracy: %{y} %<extra></extra>",
         "type": "bar",
         "x": [
          0,
          1,
          2,
          3,
          4,
          5,
          6,
          7,
          8,
          9,
          10,
          11,
          12,
          13,
          14,
          15,
          16,
          17,
          18,
          21,
          26,
          27,
          999
         ],
         "xaxis": "x2",
         "y": [
          100,
          57.1,
          50,
          67.3,
          44.4,
          53.8,
          69.8,
          75,
          33.3,
          35.7,
          30,
          100,
          50,
          85.7,
          60,
          55.6,
          100,
          100,
          0,
          0,
          100,
          100,
          91
         ],
         "yaxis": "y2"
        },
        {
         "hovertemplate": "previous: %{x} contacts<br>accuracy: %{y} %<extra></extra>",
         "type": "bar",
         "x": [
          0,
          1,
          2,
          3,
          4,
          5,
          6
         ],
         "xaxis": "x3",
         "y": [
          91.3,
          83.9,
          72.5,
          62.5,
          50,
          83.3,
          100
         ],
         "yaxis": "y3"
        },
        {
         "hovertemplate": "age: %{x} y/o<br>accuracy: %{y} %<extra></extra>",
         "type": "bar",
         "x": [
          17,
          18,
          19,
          20,
          21,
          22,
          23,
          24,
          25,
          26,
          27,
          28,
          29,
          30,
          31,
          32,
          33,
          34,
          35,
          36,
          37,
          38,
          39,
          40,
          41,
          42,
          43,
          44,
          45,
          46,
          47,
          48,
          49,
          50,
          51,
          52,
          53,
          54,
          55,
          56,
          57,
          58,
          59,
          60,
          61,
          62,
          63,
          64,
          65,
          66,
          67,
          68,
          69,
          70,
          71,
          72,
          73,
          74,
          75,
          76,
          77,
          78,
          79,
          80,
          81,
          82,
          83,
          84,
          85,
          87,
          88,
          95
         ],
         "xaxis": "x4",
         "y": [
          100,
          57.1,
          85.7,
          61.5,
          83.9,
          74.2,
          87,
          91.2,
          85.4,
          85.7,
          90.1,
          84,
          90.4,
          90,
          89.5,
          91.3,
          88.7,
          90.5,
          91.5,
          91.8,
          91.2,
          88,
          92.4,
          93.3,
          92.3,
          93.1,
          93.9,
          92.2,
          92.3,
          91.8,
          92.5,
          92.7,
          95,
          90.7,
          93.3,
          90.8,
          89.7,
          86,
          92.8,
          89.3,
          92.9,
          87.6,
          87.9,
          81.8,
          76.5,
          40,
          61.5,
          40,
          60,
          66.7,
          60,
          40,
          50,
          60,
          36.4,
          66.7,
          66.7,
          70,
          45.5,
          72.7,
          80,
          60,
          0,
          60,
          75,
          50,
          100,
          0,
          60,
          0,
          60,
          100
         ],
         "yaxis": "y4"
        },
        {
         "hovertemplate": "emp.var.rate: %{x} %<br>accuracy: %{y} %<extra></extra>",
         "type": "bar",
         "x": [
          -3.4,
          -3,
          -2.9,
          -1.8,
          -1.7,
          -1.1,
          -0.2,
          -0.1,
          1.1,
          1.4
         ],
         "xaxis": "x5",
         "y": [
          63,
          62.7,
          66.8,
          85.8,
          60.6,
          64.6,
          83.3,
          93.6,
          96.9,
          94.6
         ],
         "yaxis": "y5"
        },
        {
         "hovertemplate": "cons.price.idx: %{x} %<br>accuracy: %{y} %<extra></extra>",
         "type": "bar",
         "width": 0.03,
         "x": [
          92.201,
          92.379,
          92.431,
          92.469,
          92.649,
          92.713,
          92.756,
          92.843,
          92.893,
          92.963,
          93.075,
          93.2,
          93.369,
          93.444,
          93.749,
          93.798,
          93.876,
          93.918,
          93.994,
          94.027,
          94.055,
          94.199,
          94.215,
          94.465,
          94.601,
          94.767
         ],
         "xaxis": "x6",
         "y": [
          70.3,
          64.4,
          61,
          60,
          64.4,
          62.7,
          83.3,
          63.8,
          90.9,
          64.4,
          81.6,
          94.9,
          61.4,
          95.1,
          48.8,
          25,
          78.4,
          93.4,
          96.9,
          59.6,
          66.7,
          74.2,
          56.2,
          96,
          62.7,
          48.4
         ],
         "yaxis": "y6"
        },
        {
         "hovertemplate": "cons.conf.idx: %{x} <br>accuracy: %{y} %<extra></extra>",
         "type": "bar",
         "width": 0.3,
         "x": [
          -50.8,
          -50,
          -49.5,
          -47.1,
          -46.2,
          -45.9,
          -42.7,
          -42,
          -41.8,
          -40.8,
          -40.4,
          -40.3,
          -40,
          -39.8,
          -38.3,
          -37.5,
          -36.4,
          -36.1,
          -34.8,
          -34.6,
          -33.6,
          -33,
          -31.4,
          -30.1,
          -29.8,
          -26.9
         ],
         "xaxis": "x7",
         "y": [
          48.4,
          63.8,
          62.7,
          81.6,
          90.9,
          83.3,
          93.4,
          94.9,
          96,
          64.4,
          25,
          56.2,
          78.4,
          66.7,
          59.6,
          74.2,
          96.9,
          95.1,
          61.4,
          48.8,
          60,
          62.7,
          70.3,
          64.4,
          64.4,
          61
         ],
         "yaxis": "y7"
        },
        {
         "hovertemplate": "euribor3m: %{x} %<br>accuracy: %{y} %<extra></extra>",
         "type": "bar",
         "width": 0.02,
         "x": [
          0.634,
          0.635,
          0.636,
          0.638,
          0.639,
          0.64,
          0.642,
          0.643,
          0.644,
          0.645,
          0.6459999999999999,
          0.649,
          0.65,
          0.6509999999999999,
          0.652,
          0.653,
          0.654,
          0.655,
          0.659,
          0.6629999999999999,
          0.6679999999999999,
          0.672,
          0.682,
          0.6829999999999999,
          0.684,
          0.685,
          0.69,
          0.6920000000000001,
          0.6970000000000001,
          0.6990000000000001,
          0.7,
          0.7020000000000001,
          0.706,
          0.7070000000000001,
          0.708,
          0.7090000000000001,
          0.71,
          0.7120000000000001,
          0.713,
          0.7140000000000001,
          0.715,
          0.716,
          0.7170000000000001,
          0.718,
          0.7190000000000001,
          0.72,
          0.721,
          0.722,
          0.723,
          0.7240000000000001,
          0.727,
          0.728,
          0.7290000000000001,
          0.73,
          0.731,
          0.732,
          0.733,
          0.735,
          0.737,
          0.7390000000000001,
          0.74,
          0.741,
          0.742,
          0.743,
          0.7440000000000001,
          0.748,
          0.75,
          0.752,
          0.753,
          0.754,
          0.755,
          0.7609999999999999,
          0.762,
          0.767,
          0.768,
          0.77,
          0.773,
          0.778,
          0.7809999999999999,
          0.782,
          0.7879999999999999,
          0.79,
          0.7929999999999999,
          0.797,
          0.802,
          0.8029999999999999,
          0.809,
          0.81,
          0.813,
          0.8190000000000001,
          0.821,
          0.8220000000000001,
          0.825,
          0.8270000000000001,
          0.8290000000000001,
          0.8340000000000001,
          0.835,
          0.838,
          0.84,
          0.843,
          0.846,
          0.8490000000000001,
          0.851,
          0.8540000000000001,
          0.8590000000000001,
          0.861,
          0.8690000000000001,
          0.87,
          0.873,
          0.8759999999999999,
          0.877,
          0.878,
          0.879,
          0.88,
          0.8809999999999999,
          0.882,
          0.883,
          0.884,
          0.885,
          0.8859999999999999,
          0.888,
          0.889,
          0.89,
          0.893,
          0.895,
          0.8959999999999999,
          0.898,
          0.899,
          0.9,
          0.903,
          0.904,
          0.905,
          0.908,
          0.914,
          0.942,
          0.944,
          0.959,
          0.965,
          0.969,
          0.972,
          0.977,
          0.982,
          0.985,
          0.987,
          1,
          1.016,
          1.018,
          1.025,
          1.028,
          1.029,
          1.03,
          1.031,
          1.032,
          1.035,
          1.039,
          1.04,
          1.041,
          1.043,
          1.044,
          1.046,
          1.047,
          1.048,
          1.0490000000000002,
          1.05,
          1.0590000000000002,
          1.072,
          1.085,
          1.099,
          1.206,
          1.215,
          1.224,
          1.244,
          1.25,
          1.252,
          1.259,
          1.26,
          1.262,
          1.264,
          1.266,
          1.268,
          1.27,
          1.281,
          1.286,
          1.291,
          1.2990000000000002,
          1.3130000000000002,
          1.327,
          1.334,
          1.344,
          1.354,
          1.365,
          1.372,
          1.384,
          1.392,
          1.4,
          1.405,
          1.406,
          1.41,
          1.415,
          1.423,
          1.435,
          1.445,
          1.453,
          1.466,
          1.479,
          1.483,
          1.4980000000000002,
          1.51,
          1.52,
          1.531,
          1.538,
          1.548,
          1.556,
          1.56,
          1.602,
          1.614,
          1.629,
          1.64,
          1.65,
          1.663,
          1.6869999999999998,
          1.726,
          1.757,
          1.778,
          1.7990000000000002,
          1.811,
          3.053,
          3.282,
          3.488,
          3.563,
          3.669,
          3.816,
          3.901,
          4.021,
          4.0760000000000005,
          4.12,
          4.1530000000000005,
          4.191,
          4.223,
          4.245,
          4.2860000000000005,
          4.343,
          4.4060000000000015,
          4.474,
          4.592,
          4.663,
          4.827,
          4.855,
          4.856,
          4.857,
          4.8580000000000005,
          4.859,
          4.86,
          4.864,
          4.865,
          4.8660000000000005,
          4.918,
          4.921,
          4.936,
          4.947,
          4.955,
          4.956,
          4.957,
          4.958,
          4.959,
          4.96,
          4.961,
          4.962,
          4.963,
          4.964,
          4.965,
          4.966,
          4.967,
          4.968,
          4.97,
          5,
          5.045
         ],
         "xaxis": "x8",
         "y": [
          66.7,
          71.4,
          50,
          100,
          0,
          0,
          41.7,
          40,
          57.1,
          36.4,
          62.5,
          100,
          25,
          100,
          83.3,
          100,
          66.7,
          41.7,
          75,
          100,
          100,
          100,
          75,
          100,
          100,
          0,
          100,
          75,
          60,
          85.7,
          100,
          66.7,
          75,
          83.3,
          100,
          50,
          50,
          80,
          100,
          41.4,
          77.8,
          69.2,
          33.3,
          25,
          90,
          37,
          100,
          81,
          0,
          66.7,
          100,
          66.7,
          57.1,
          50,
          100,
          66.7,
          71.4,
          60,
          60,
          77.8,
          66.7,
          71.4,
          52.9,
          66.7,
          75,
          0,
          100,
          0,
          100,
          75,
          100,
          88.9,
          0,
          33.3,
          100,
          50,
          75,
          50,
          33.3,
          100,
          60,
          0,
          50,
          66.7,
          0,
          62.5,
          0,
          33.3,
          50,
          66.7,
          100,
          100,
          75,
          66.7,
          100,
          100,
          71.4,
          100,
          57.1,
          50,
          0,
          42.9,
          77.8,
          50,
          57.1,
          88.9,
          76.9,
          50,
          76.2,
          88.9,
          66.7,
          72.7,
          69.7,
          75,
          53.8,
          70,
          75,
          53.8,
          33.3,
          75,
          100,
          33.3,
          100,
          66.7,
          100,
          81.8,
          20,
          76.9,
          25,
          100,
          52.9,
          50,
          60,
          100,
          66.7,
          50,
          100,
          50,
          100,
          60,
          0,
          50,
          100,
          44.4,
          50,
          50,
          0,
          100,
          100,
          66.7,
          100,
          0,
          66.7,
          100,
          50,
          50,
          0,
          100,
          60,
          40,
          100,
          80,
          60,
          0,
          50,
          71.4,
          0,
          100,
          100,
          66.7,
          100,
          92.4,
          86.7,
          100,
          76.5,
          65,
          64.7,
          72,
          86.3,
          65,
          83.9,
          92.4,
          33.3,
          91.1,
          99.1,
          94.9,
          93.4,
          94.6,
          90.7,
          73.5,
          52.6,
          100,
          50,
          57.1,
          50,
          89.9,
          75,
          90.9,
          88,
          70.6,
          76.5,
          77.3,
          72.2,
          100,
          87.5,
          71.4,
          70,
          50,
          0,
          57.1,
          83.3,
          100,
          100,
          0,
          66.7,
          66.7,
          100,
          0,
          100,
          50,
          85.7,
          100,
          60,
          0,
          0,
          60,
          0,
          100,
          100,
          100,
          100,
          100,
          100,
          92.3,
          94.6,
          95.5,
          97.5,
          96.6,
          0,
          100,
          0,
          100,
          100,
          50,
          0,
          100,
          0,
          98.1,
          96,
          97.6,
          94.2,
          95.7,
          96.4,
          96.4,
          94.2,
          97.5,
          50,
          0,
          0,
          94.4,
          100,
          100,
          89.2,
          95.7,
          97.3,
          93.6,
          93.5,
          93.9,
          95.9,
          96.1,
          93.2,
          96.8,
          94.7,
          93.1,
          92.9,
          33.3,
          0
         ],
         "yaxis": "y8"
        },
        {
         "hovertemplate": "nremployed: %{x} k<br>accuracy: %{y} %<extra></extra>",
         "type": "bar",
         "x": [
          4963.6,
          4991.6,
          5008.7,
          5017.5,
          5023.5,
          5076.2,
          5099.1,
          5176.3,
          5191,
          5195.8,
          5228.1
         ],
         "xaxis": "x9",
         "y": [
          64.6,
          60.6,
          62,
          63,
          62.7,
          66.8,
          87.5,
          83.3,
          96.9,
          93.6,
          94.6
         ],
         "yaxis": "y9"
        }
       ],
       "layout": {
        "annotations": [
         {
          "font": {
           "size": 16
          },
          "showarrow": false,
          "text": "No. of Contacts in Current Campaign",
          "x": 0.15666666666666665,
          "xanchor": "center",
          "xref": "paper",
          "y": 1,
          "yanchor": "bottom",
          "yref": "paper"
         },
         {
          "font": {
           "size": 16
          },
          "showarrow": false,
          "text": "Days After Last Contact",
          "x": 0.4999999999999999,
          "xanchor": "center",
          "xref": "paper",
          "y": 1,
          "yanchor": "bottom",
          "yref": "paper"
         },
         {
          "font": {
           "size": 16
          },
          "showarrow": false,
          "text": "No. of Contacts in Previous Campaign",
          "x": 0.8433333333333332,
          "xanchor": "center",
          "xref": "paper",
          "y": 1,
          "yanchor": "bottom",
          "yref": "paper"
         },
         {
          "font": {
           "size": 16
          },
          "showarrow": false,
          "text": "Customer Age (y/o)",
          "x": 0.15666666666666665,
          "xanchor": "center",
          "xref": "paper",
          "y": 0.6399999999999999,
          "yanchor": "bottom",
          "yref": "paper"
         },
         {
          "font": {
           "size": 16
          },
          "showarrow": false,
          "text": "Employment Variation Rate (%)",
          "x": 0.4999999999999999,
          "xanchor": "center",
          "xref": "paper",
          "y": 0.6399999999999999,
          "yanchor": "bottom",
          "yref": "paper"
         },
         {
          "font": {
           "size": 16
          },
          "showarrow": false,
          "text": "Consumer Price Index (%)",
          "x": 0.8433333333333332,
          "xanchor": "center",
          "xref": "paper",
          "y": 0.6399999999999999,
          "yanchor": "bottom",
          "yref": "paper"
         },
         {
          "font": {
           "size": 16
          },
          "showarrow": false,
          "text": "Consumer Confidence Index",
          "x": 0.15666666666666665,
          "xanchor": "center",
          "xref": "paper",
          "y": 0.27999999999999997,
          "yanchor": "bottom",
          "yref": "paper"
         },
         {
          "font": {
           "size": 16
          },
          "showarrow": false,
          "text": "Loan Interest Rate (%)",
          "x": 0.4999999999999999,
          "xanchor": "center",
          "xref": "paper",
          "y": 0.27999999999999997,
          "yanchor": "bottom",
          "yref": "paper"
         },
         {
          "font": {
           "size": 16
          },
          "showarrow": false,
          "text": "Total Employed (Thousands)",
          "x": 0.8433333333333332,
          "xanchor": "center",
          "xref": "paper",
          "y": 0.27999999999999997,
          "yanchor": "bottom",
          "yref": "paper"
         },
         {
          "font": {
           "size": 20
          },
          "showarrow": false,
          "text": "Prediction Accuracy (%)",
          "textangle": -90,
          "x": -0.047,
          "xref": "paper",
          "y": 0.5,
          "yref": "paper"
         }
        ],
        "height": 800,
        "margin": {
         "b": 50,
         "l": 80,
         "r": 40,
         "t": 80
        },
        "showlegend": false,
        "template": {
         "data": {
          "bar": [
           {
            "error_x": {
             "color": "#2a3f5f"
            },
            "error_y": {
             "color": "#2a3f5f"
            },
            "marker": {
             "line": {
              "color": "#E5ECF6",
              "width": 0.5
             },
             "pattern": {
              "fillmode": "overlay",
              "size": 10,
              "solidity": 0.2
             }
            },
            "type": "bar"
           }
          ],
          "barpolar": [
           {
            "marker": {
             "line": {
              "color": "#E5ECF6",
              "width": 0.5
             },
             "pattern": {
              "fillmode": "overlay",
              "size": 10,
              "solidity": 0.2
             }
            },
            "type": "barpolar"
           }
          ],
          "carpet": [
           {
            "aaxis": {
             "endlinecolor": "#2a3f5f",
             "gridcolor": "white",
             "linecolor": "white",
             "minorgridcolor": "white",
             "startlinecolor": "#2a3f5f"
            },
            "baxis": {
             "endlinecolor": "#2a3f5f",
             "gridcolor": "white",
             "linecolor": "white",
             "minorgridcolor": "white",
             "startlinecolor": "#2a3f5f"
            },
            "type": "carpet"
           }
          ],
          "choropleth": [
           {
            "colorbar": {
             "outlinewidth": 0,
             "ticks": ""
            },
            "type": "choropleth"
           }
          ],
          "contour": [
           {
            "colorbar": {
             "outlinewidth": 0,
             "ticks": ""
            },
            "colorscale": [
             [
              0,
              "#0d0887"
             ],
             [
              0.1111111111111111,
              "#46039f"
             ],
             [
              0.2222222222222222,
              "#7201a8"
             ],
             [
              0.3333333333333333,
              "#9c179e"
             ],
             [
              0.4444444444444444,
              "#bd3786"
             ],
             [
              0.5555555555555556,
              "#d8576b"
             ],
             [
              0.6666666666666666,
              "#ed7953"
             ],
             [
              0.7777777777777778,
              "#fb9f3a"
             ],
             [
              0.8888888888888888,
              "#fdca26"
             ],
             [
              1,
              "#f0f921"
             ]
            ],
            "type": "contour"
           }
          ],
          "contourcarpet": [
           {
            "colorbar": {
             "outlinewidth": 0,
             "ticks": ""
            },
            "type": "contourcarpet"
           }
          ],
          "heatmap": [
           {
            "colorbar": {
             "outlinewidth": 0,
             "ticks": ""
            },
            "colorscale": [
             [
              0,
              "#0d0887"
             ],
             [
              0.1111111111111111,
              "#46039f"
             ],
             [
              0.2222222222222222,
              "#7201a8"
             ],
             [
              0.3333333333333333,
              "#9c179e"
             ],
             [
              0.4444444444444444,
              "#bd3786"
             ],
             [
              0.5555555555555556,
              "#d8576b"
             ],
             [
              0.6666666666666666,
              "#ed7953"
             ],
             [
              0.7777777777777778,
              "#fb9f3a"
             ],
             [
              0.8888888888888888,
              "#fdca26"
             ],
             [
              1,
              "#f0f921"
             ]
            ],
            "type": "heatmap"
           }
          ],
          "heatmapgl": [
           {
            "colorbar": {
             "outlinewidth": 0,
             "ticks": ""
            },
            "colorscale": [
             [
              0,
              "#0d0887"
             ],
             [
              0.1111111111111111,
              "#46039f"
             ],
             [
              0.2222222222222222,
              "#7201a8"
             ],
             [
              0.3333333333333333,
              "#9c179e"
             ],
             [
              0.4444444444444444,
              "#bd3786"
             ],
             [
              0.5555555555555556,
              "#d8576b"
             ],
             [
              0.6666666666666666,
              "#ed7953"
             ],
             [
              0.7777777777777778,
              "#fb9f3a"
             ],
             [
              0.8888888888888888,
              "#fdca26"
             ],
             [
              1,
              "#f0f921"
             ]
            ],
            "type": "heatmapgl"
           }
          ],
          "histogram": [
           {
            "marker": {
             "pattern": {
              "fillmode": "overlay",
              "size": 10,
              "solidity": 0.2
             }
            },
            "type": "histogram"
           }
          ],
          "histogram2d": [
           {
            "colorbar": {
             "outlinewidth": 0,
             "ticks": ""
            },
            "colorscale": [
             [
              0,
              "#0d0887"
             ],
             [
              0.1111111111111111,
              "#46039f"
             ],
             [
              0.2222222222222222,
              "#7201a8"
             ],
             [
              0.3333333333333333,
              "#9c179e"
             ],
             [
              0.4444444444444444,
              "#bd3786"
             ],
             [
              0.5555555555555556,
              "#d8576b"
             ],
             [
              0.6666666666666666,
              "#ed7953"
             ],
             [
              0.7777777777777778,
              "#fb9f3a"
             ],
             [
              0.8888888888888888,
              "#fdca26"
             ],
             [
              1,
              "#f0f921"
             ]
            ],
            "type": "histogram2d"
           }
          ],
          "histogram2dcontour": [
           {
            "colorbar": {
             "outlinewidth": 0,
             "ticks": ""
            },
            "colorscale": [
             [
              0,
              "#0d0887"
             ],
             [
              0.1111111111111111,
              "#46039f"
             ],
             [
              0.2222222222222222,
              "#7201a8"
             ],
             [
              0.3333333333333333,
              "#9c179e"
             ],
             [
              0.4444444444444444,
              "#bd3786"
             ],
             [
              0.5555555555555556,
              "#d8576b"
             ],
             [
              0.6666666666666666,
              "#ed7953"
             ],
             [
              0.7777777777777778,
              "#fb9f3a"
             ],
             [
              0.8888888888888888,
              "#fdca26"
             ],
             [
              1,
              "#f0f921"
             ]
            ],
            "type": "histogram2dcontour"
           }
          ],
          "mesh3d": [
           {
            "colorbar": {
             "outlinewidth": 0,
             "ticks": ""
            },
            "type": "mesh3d"
           }
          ],
          "parcoords": [
           {
            "line": {
             "colorbar": {
              "outlinewidth": 0,
              "ticks": ""
             }
            },
            "type": "parcoords"
           }
          ],
          "pie": [
           {
            "automargin": true,
            "type": "pie"
           }
          ],
          "scatter": [
           {
            "fillpattern": {
             "fillmode": "overlay",
             "size": 10,
             "solidity": 0.2
            },
            "type": "scatter"
           }
          ],
          "scatter3d": [
           {
            "line": {
             "colorbar": {
              "outlinewidth": 0,
              "ticks": ""
             }
            },
            "marker": {
             "colorbar": {
              "outlinewidth": 0,
              "ticks": ""
             }
            },
            "type": "scatter3d"
           }
          ],
          "scattercarpet": [
           {
            "marker": {
             "colorbar": {
              "outlinewidth": 0,
              "ticks": ""
             }
            },
            "type": "scattercarpet"
           }
          ],
          "scattergeo": [
           {
            "marker": {
             "colorbar": {
              "outlinewidth": 0,
              "ticks": ""
             }
            },
            "type": "scattergeo"
           }
          ],
          "scattergl": [
           {
            "marker": {
             "colorbar": {
              "outlinewidth": 0,
              "ticks": ""
             }
            },
            "type": "scattergl"
           }
          ],
          "scattermapbox": [
           {
            "marker": {
             "colorbar": {
              "outlinewidth": 0,
              "ticks": ""
             }
            },
            "type": "scattermapbox"
           }
          ],
          "scatterpolar": [
           {
            "marker": {
             "colorbar": {
              "outlinewidth": 0,
              "ticks": ""
             }
            },
            "type": "scatterpolar"
           }
          ],
          "scatterpolargl": [
           {
            "marker": {
             "colorbar": {
              "outlinewidth": 0,
              "ticks": ""
             }
            },
            "type": "scatterpolargl"
           }
          ],
          "scatterternary": [
           {
            "marker": {
             "colorbar": {
              "outlinewidth": 0,
              "ticks": ""
             }
            },
            "type": "scatterternary"
           }
          ],
          "surface": [
           {
            "colorbar": {
             "outlinewidth": 0,
             "ticks": ""
            },
            "colorscale": [
             [
              0,
              "#0d0887"
             ],
             [
              0.1111111111111111,
              "#46039f"
             ],
             [
              0.2222222222222222,
              "#7201a8"
             ],
             [
              0.3333333333333333,
              "#9c179e"
             ],
             [
              0.4444444444444444,
              "#bd3786"
             ],
             [
              0.5555555555555556,
              "#d8576b"
             ],
             [
              0.6666666666666666,
              "#ed7953"
             ],
             [
              0.7777777777777778,
              "#fb9f3a"
             ],
             [
              0.8888888888888888,
              "#fdca26"
             ],
             [
              1,
              "#f0f921"
             ]
            ],
            "type": "surface"
           }
          ],
          "table": [
           {
            "cells": {
             "fill": {
              "color": "#EBF0F8"
             },
             "line": {
              "color": "white"
             }
            },
            "header": {
             "fill": {
              "color": "#C8D4E3"
             },
             "line": {
              "color": "white"
             }
            },
            "type": "table"
           }
          ]
         },
         "layout": {
          "annotationdefaults": {
           "arrowcolor": "#2a3f5f",
           "arrowhead": 0,
           "arrowwidth": 1
          },
          "autotypenumbers": "strict",
          "coloraxis": {
           "colorbar": {
            "outlinewidth": 0,
            "ticks": ""
           }
          },
          "colorscale": {
           "diverging": [
            [
             0,
             "#8e0152"
            ],
            [
             0.1,
             "#c51b7d"
            ],
            [
             0.2,
             "#de77ae"
            ],
            [
             0.3,
             "#f1b6da"
            ],
            [
             0.4,
             "#fde0ef"
            ],
            [
             0.5,
             "#f7f7f7"
            ],
            [
             0.6,
             "#e6f5d0"
            ],
            [
             0.7,
             "#b8e186"
            ],
            [
             0.8,
             "#7fbc41"
            ],
            [
             0.9,
             "#4d9221"
            ],
            [
             1,
             "#276419"
            ]
           ],
           "sequential": [
            [
             0,
             "#0d0887"
            ],
            [
             0.1111111111111111,
             "#46039f"
            ],
            [
             0.2222222222222222,
             "#7201a8"
            ],
            [
             0.3333333333333333,
             "#9c179e"
            ],
            [
             0.4444444444444444,
             "#bd3786"
            ],
            [
             0.5555555555555556,
             "#d8576b"
            ],
            [
             0.6666666666666666,
             "#ed7953"
            ],
            [
             0.7777777777777778,
             "#fb9f3a"
            ],
            [
             0.8888888888888888,
             "#fdca26"
            ],
            [
             1,
             "#f0f921"
            ]
           ],
           "sequentialminus": [
            [
             0,
             "#0d0887"
            ],
            [
             0.1111111111111111,
             "#46039f"
            ],
            [
             0.2222222222222222,
             "#7201a8"
            ],
            [
             0.3333333333333333,
             "#9c179e"
            ],
            [
             0.4444444444444444,
             "#bd3786"
            ],
            [
             0.5555555555555556,
             "#d8576b"
            ],
            [
             0.6666666666666666,
             "#ed7953"
            ],
            [
             0.7777777777777778,
             "#fb9f3a"
            ],
            [
             0.8888888888888888,
             "#fdca26"
            ],
            [
             1,
             "#f0f921"
            ]
           ]
          },
          "colorway": [
           "#636efa",
           "#EF553B",
           "#00cc96",
           "#ab63fa",
           "#FFA15A",
           "#19d3f3",
           "#FF6692",
           "#B6E880",
           "#FF97FF",
           "#FECB52"
          ],
          "font": {
           "color": "#2a3f5f"
          },
          "geo": {
           "bgcolor": "white",
           "lakecolor": "white",
           "landcolor": "#E5ECF6",
           "showlakes": true,
           "showland": true,
           "subunitcolor": "white"
          },
          "hoverlabel": {
           "align": "left"
          },
          "hovermode": "closest",
          "mapbox": {
           "style": "light"
          },
          "paper_bgcolor": "white",
          "plot_bgcolor": "#E5ECF6",
          "polar": {
           "angularaxis": {
            "gridcolor": "white",
            "linecolor": "white",
            "ticks": ""
           },
           "bgcolor": "#E5ECF6",
           "radialaxis": {
            "gridcolor": "white",
            "linecolor": "white",
            "ticks": ""
           }
          },
          "scene": {
           "xaxis": {
            "backgroundcolor": "#E5ECF6",
            "gridcolor": "white",
            "gridwidth": 2,
            "linecolor": "white",
            "showbackground": true,
            "ticks": "",
            "zerolinecolor": "white"
           },
           "yaxis": {
            "backgroundcolor": "#E5ECF6",
            "gridcolor": "white",
            "gridwidth": 2,
            "linecolor": "white",
            "showbackground": true,
            "ticks": "",
            "zerolinecolor": "white"
           },
           "zaxis": {
            "backgroundcolor": "#E5ECF6",
            "gridcolor": "white",
            "gridwidth": 2,
            "linecolor": "white",
            "showbackground": true,
            "ticks": "",
            "zerolinecolor": "white"
           }
          },
          "shapedefaults": {
           "line": {
            "color": "#2a3f5f"
           }
          },
          "ternary": {
           "aaxis": {
            "gridcolor": "white",
            "linecolor": "white",
            "ticks": ""
           },
           "baxis": {
            "gridcolor": "white",
            "linecolor": "white",
            "ticks": ""
           },
           "bgcolor": "#E5ECF6",
           "caxis": {
            "gridcolor": "white",
            "linecolor": "white",
            "ticks": ""
           }
          },
          "title": {
           "x": 0.05
          },
          "xaxis": {
           "automargin": true,
           "gridcolor": "white",
           "linecolor": "white",
           "ticks": "",
           "title": {
            "standoff": 15
           },
           "zerolinecolor": "white",
           "zerolinewidth": 2
          },
          "yaxis": {
           "automargin": true,
           "gridcolor": "white",
           "linecolor": "white",
           "ticks": "",
           "title": {
            "standoff": 15
           },
           "zerolinecolor": "white",
           "zerolinewidth": 2
          }
         }
        },
        "title": {
         "font": {
          "size": 24
         },
         "text": "Prediction Accuracy for Different Numerical Variables",
         "x": 0.5,
         "xanchor": "center",
         "y": 0.97,
         "yanchor": "top"
        },
        "xaxis": {
         "anchor": "y",
         "domain": [
          0,
          0.3133333333333333
         ]
        },
        "xaxis2": {
         "anchor": "y2",
         "domain": [
          0.34333333333333327,
          0.6566666666666665
         ]
        },
        "xaxis3": {
         "anchor": "y3",
         "domain": [
          0.6866666666666665,
          0.9999999999999998
         ]
        },
        "xaxis4": {
         "anchor": "y4",
         "domain": [
          0,
          0.3133333333333333
         ]
        },
        "xaxis5": {
         "anchor": "y5",
         "domain": [
          0.34333333333333327,
          0.6566666666666665
         ]
        },
        "xaxis6": {
         "anchor": "y6",
         "domain": [
          0.6866666666666665,
          0.9999999999999998
         ]
        },
        "xaxis7": {
         "anchor": "y7",
         "domain": [
          0,
          0.3133333333333333
         ]
        },
        "xaxis8": {
         "anchor": "y8",
         "domain": [
          0.34333333333333327,
          0.6566666666666665
         ]
        },
        "xaxis9": {
         "anchor": "y9",
         "domain": [
          0.6866666666666665,
          0.9999999999999998
         ]
        },
        "yaxis": {
         "anchor": "x",
         "domain": [
          0.72,
          1
         ]
        },
        "yaxis2": {
         "anchor": "x2",
         "domain": [
          0.72,
          1
         ]
        },
        "yaxis3": {
         "anchor": "x3",
         "domain": [
          0.72,
          1
         ]
        },
        "yaxis4": {
         "anchor": "x4",
         "domain": [
          0.36,
          0.6399999999999999
         ]
        },
        "yaxis5": {
         "anchor": "x5",
         "domain": [
          0.36,
          0.6399999999999999
         ]
        },
        "yaxis6": {
         "anchor": "x6",
         "domain": [
          0.36,
          0.6399999999999999
         ]
        },
        "yaxis7": {
         "anchor": "x7",
         "domain": [
          0,
          0.27999999999999997
         ]
        },
        "yaxis8": {
         "anchor": "x8",
         "domain": [
          0,
          0.27999999999999997
         ]
        },
        "yaxis9": {
         "anchor": "x9",
         "domain": [
          0,
          0.27999999999999997
         ]
        }
       }
      }
     },
     "metadata": {},
     "output_type": "display_data"
    }
   ],
   "source": [
    "# Create subplots of bar charts for each numerical feature and combine them in a single plot to investigate prediction accuracy\n",
    "fig8 = make_subplots(rows = 3, cols = 3, subplot_titles=('No. of Contacts in Current Campaign', 'Days After Last Contact', 'No. of Contacts in Previous Campaign', 'Customer Age (y/o)', 'Employment Variation Rate (%)', \n",
    "                                                        'Consumer Price Index (%)', 'Consumer Confidence Index', 'Loan Interest Rate (%)', 'Total Employed (Thousands)'), vertical_spacing = 0.08, horizontal_spacing = 0.03)\n",
    "\n",
    "fig8.add_trace(go.Bar(x = accuracy_campaign.index, y = accuracy_campaign, hovertemplate = 'campaign: %{x} contacts<br>accuracy: %{y} %<extra></extra>'), row = 1, col = 1)\n",
    "fig8.add_trace(go.Bar(x = accuracy_pdays.index, y = accuracy_pdays, hovertemplate = 'pdays: %{x} days<br>accuracy: %{y} %<extra></extra>'), row = 1, col = 2)\n",
    "fig8.add_trace(go.Bar(x = accuracy_previous.index, y = accuracy_previous, hovertemplate = 'previous: %{x} contacts<br>accuracy: %{y} %<extra></extra>'), row = 1, col = 3)\n",
    "fig8.add_trace(go.Bar(x = accuracy_age.index, y = accuracy_age, hovertemplate = 'age: %{x} y/o<br>accuracy: %{y} %<extra></extra>'), row = 2, col = 1)\n",
    "fig8.add_trace(go.Bar(x = accuracy_empvarrate.index, y = accuracy_empvarrate, hovertemplate = 'emp.var.rate: %{x} %<br>accuracy: %{y} %<extra></extra>'), row = 2, col = 2)\n",
    "fig8.add_trace(go.Bar(x = accuracy_conspriceidx.index, y = accuracy_conspriceidx, hovertemplate = 'cons.price.idx: %{x} %<br>accuracy: %{y} %<extra></extra>', width = 0.03), row = 2, col = 3)\n",
    "fig8.add_trace(go.Bar(x = accuracy_consconfidx.index, y = accuracy_consconfidx, hovertemplate = 'cons.conf.idx: %{x} <br>accuracy: %{y} %<extra></extra>', width = 0.3), row = 3, col = 1)\n",
    "fig8.add_trace(go.Bar(x = accuracy_euribor3m.index, y = accuracy_euribor3m, hovertemplate = 'euribor3m: %{x} %<br>accuracy: %{y} %<extra></extra>', width = 0.02), row = 3, col = 2)\n",
    "fig8.add_trace(go.Bar(x = accuracy_nremployed.index, y = accuracy_nremployed, hovertemplate = 'nremployed: %{x} k<br>accuracy: %{y} %<extra></extra>'), row = 3, col = 3)\n",
    "   \n",
    "fig8.add_annotation(text = 'Prediction Accuracy (%)', xref = 'paper', yref = 'paper', x = -0.047, y = 0.5, showarrow = False, textangle = -90, font = dict(size = 20))  \n",
    "fig8.update_layout(title = {'text' : 'Prediction Accuracy for Different Numerical Variables', 'y' : 0.97, 'x' : 0.5, 'xanchor' : 'center', 'yanchor' : 'top', 'font' : {'size' : 24}}, \n",
    "                   margin = dict(l = 80, r = 40, t = 80, b = 50), showlegend = False, height = 800)\n",
    "fig8.show()"
   ]
  },
  {
   "cell_type": "markdown",
   "metadata": {},
   "source": [
    "<u><h5> Analysis of Prediction Model</h5></u>\n",
    "\n",
    "1) Looking at the trend in prediction accuracies across numerical variables such as age, no. of contacts in current campaign, total employed and employment variation rate, an inverse correlation can be observed between prediction accuracy and customer purchase rates (Fig4). The higher the prediction accuracy, the lower the customer purchase rates. <br>\n",
    "2) For the age variable, the least accurate predictions, ranging from 40 to 80%, came from customers aged 62 to 80 y/o. In contrast, customers in this age bracket had the highest customer purchase rates ranging from 31 to 67% in Figure 4. <br>\n",
    "3) Similarly, for the nremployed variable, the least accurate predictions of between 61 to 65% came when total employment was between 4.9k to 5k. In contrast, at these same employment numbers customer purchase rates were the highest of between 43 to 57%. <br>\n",
    "4) The inverse correlation between purchase rates and model prediction accuracy point to a consistent fact that the high accuracy stems from prediction of negative outcomes which are customers who are not buyers. However, we need a model to predict positive outcomes, customer who are potential buyers."
   ]
  },
  {
   "cell_type": "markdown",
   "metadata": {},
   "source": [
    "### 4. Training of KNN Classifier using Oversampling Technique"
   ]
  },
  {
   "cell_type": "code",
   "execution_count": 90,
   "metadata": {},
   "outputs": [],
   "source": [
    "from imblearn.over_sampling import ADASYN"
   ]
  },
  {
   "cell_type": "code",
   "execution_count": 91,
   "metadata": {},
   "outputs": [
    {
     "name": "stdout",
     "output_type": "stream",
     "text": [
      "y\n",
      "False    25490\n",
      "True      3193\n",
      "Name: count, dtype: int64\n",
      "y\n",
      "True     25630\n",
      "False    25490\n",
      "Name: count, dtype: int64\n"
     ]
    }
   ],
   "source": [
    "# Use an oevrsampling technique, adasyn, to reduce class imbalance\n",
    "X_train2, X_test2, y_train2, y_test2 = train_test_split(X, y, random_state = 99, stratify = y) \n",
    "\n",
    "ada = ADASYN(random_state = 99)\n",
    "X_train2_resampled, y_train2_resampled = ada.fit_resample(X_train2, y_train2)\n",
    "\n",
    "print(y_train2.value_counts())\n",
    "print(y_train2_resampled.value_counts())"
   ]
  },
  {
   "cell_type": "markdown",
   "metadata": {},
   "source": [
    "To address the issue of class imbalance in predictive modelling, an oversampling techiniques called ADASYN (Adaptive Synthetic Sampling) was applied to the training datasets. <br>\n",
    "\n",
    "ADASYN generates synthetic data points in regions where the minority class is harder to learn, adapting its sampling strategy based on density distribution. "
   ]
  },
  {
   "cell_type": "code",
   "execution_count": 92,
   "metadata": {},
   "outputs": [],
   "source": [
    "X_train2_resampled = scaler.fit_transform(X_train2_resampled) \n",
    "X_test2 = scaler.transform(X_test2)"
   ]
  },
  {
   "cell_type": "code",
   "execution_count": 93,
   "metadata": {},
   "outputs": [],
   "source": [
    "# Calculate training and testing errors for K=1 through 100\n",
    "k_range = list(range(1, 101))\n",
    "training_error_a2 = []\n",
    "testing_error_a2 = []\n",
    "training_error_p2 = []\n",
    "testing_error_p2 = []\n",
    "training_error_r2 = []\n",
    "testing_error_r2 = []\n",
    "\n",
    "# Instantiate the model with the current K value\n",
    "for k in k_range:\n",
    "    knn = KNeighborsClassifier(n_neighbors = k)\n",
    "    knn.fit(X_train2_resampled, y_train2_resampled)\n",
    "    \n",
    "    # Calculate training error\n",
    "    y_prediction2 = knn.predict(X_train2_resampled)\n",
    "    training_accuracy2 = metrics.accuracy_score(y_train2_resampled, y_prediction2)\n",
    "    training_precision2 = metrics.precision_score(y_train2_resampled, y_prediction2)\n",
    "    training_recall2 = metrics.recall_score(y_train2_resampled, y_prediction2)\n",
    "    training_error_a2.append(1 - training_accuracy2) \n",
    "    training_error_p2.append(1 - training_precision2)\n",
    "    training_error_r2.append(1 - training_recall2)\n",
    "    \n",
    "    # Calculate testing error\n",
    "    y_prediction2 = knn.predict(X_test2)\n",
    "    testing_accuracy2 = metrics.accuracy_score(y_test2, y_prediction2)\n",
    "    testing_precision2 = metrics.precision_score(y_test2, y_prediction2)\n",
    "    testing_recall2 = metrics.recall_score(y_test2, y_prediction2)\n",
    "    testing_error_a2.append(1 - testing_accuracy2)\n",
    "    testing_error_p2.append(1 - testing_precision2)\n",
    "    testing_error_r2.append(1 - testing_recall2)"
   ]
  },
  {
   "cell_type": "markdown",
   "metadata": {},
   "source": [
    "A loop was applied to find the optimal K value for the KNN classifier."
   ]
  },
  {
   "cell_type": "code",
   "execution_count": 94,
   "metadata": {},
   "outputs": [
    {
     "data": {
      "application/vnd.plotly.v1+json": {
       "config": {
        "plotlyServerURL": "https://plot.ly"
       },
       "data": [
        {
         "hovertemplate": "No. of K: %{x}<br>testing_error_a2: %{y:.3f} <extra></extra>",
         "line": {
          "color": "blue"
         },
         "mode": "lines",
         "showlegend": false,
         "type": "scatter",
         "x": [
          1,
          2,
          3,
          4,
          5,
          6,
          7,
          8,
          9,
          10,
          11,
          12,
          13,
          14,
          15,
          16,
          17,
          18,
          19,
          20,
          21,
          22,
          23,
          24,
          25,
          26,
          27,
          28,
          29,
          30,
          31,
          32,
          33,
          34,
          35,
          36,
          37,
          38,
          39,
          40,
          41,
          42,
          43,
          44,
          45,
          46,
          47,
          48,
          49,
          50,
          51,
          52,
          53,
          54,
          55,
          56,
          57,
          58,
          59,
          60,
          61,
          62,
          63,
          64,
          65,
          66,
          67,
          68,
          69,
          70,
          71,
          72,
          73,
          74,
          75,
          76,
          77,
          78,
          79,
          80,
          81,
          82,
          83,
          84,
          85,
          86,
          87,
          88,
          89,
          90,
          91,
          92,
          93,
          94,
          95,
          96,
          97,
          98,
          99,
          100
         ],
         "xaxis": "x",
         "y": [
          0.17517255804225063,
          0.13815101443212718,
          0.17276720351390917,
          0.16053126960886843,
          0.19859861953566205,
          0.18176113783727255,
          0.21062539217736875,
          0.19253294289897516,
          0.2139719723907132,
          0.1993306839573311,
          0.22076971344906926,
          0.20550094122568496,
          0.22359339050407867,
          0.20832461828069437,
          0.22620790629575405,
          0.2082200376490274,
          0.22526668061075084,
          0.20999790838736665,
          0.22662622882242212,
          0.21439029491738126,
          0.22965906714076556,
          0.21501777870738337,
          0.2295544865090985,
          0.21690023007738968,
          0.2304957121941017,
          0.21773687513072582,
          0.22913616398243042,
          0.2180506170257268,
          0.22934532524576445,
          0.22014222965906716,
          0.22934532524576445,
          0.21825977828906085,
          0.22610332566408697,
          0.2167956494457226,
          0.22547584187408487,
          0.21574984312905254,
          0.22526668061075084,
          0.2145994561807153,
          0.22307048734574353,
          0.2145994561807153,
          0.22422087429408077,
          0.2164819075507216,
          0.22359339050407867,
          0.21449487554904834,
          0.22202468102907347,
          0.2161681656557206,
          0.2228613260824095,
          0.21700481070905664,
          0.22024681029073412,
          0.21313532733737717,
          0.2222338422924074,
          0.21229868228404103,
          0.21982848776406605,
          0.21355364986404513,
          0.218782681447396,
          0.21407655302238027,
          0.21941016523739798,
          0.2117757791257059,
          0.21888726207906295,
          0.2136582304957122,
          0.21888726207906295,
          0.21323990796904413,
          0.21867810081572892,
          0.21376281112737916,
          0.218782681447396,
          0.2136582304957122,
          0.21961932650073202,
          0.21418113365404723,
          0.21982848776406605,
          0.2139719723907132,
          0.21836435892072792,
          0.2130307467057101,
          0.21846893955239488,
          0.2145994561807153,
          0.21951474586906505,
          0.21512235933905044,
          0.22024681029073412,
          0.2152269399707174,
          0.22003764902740008,
          0.21439029491738126,
          0.2203513909224012,
          0.21501777870738337,
          0.21993306839573312,
          0.21439029491738126,
          0.21752771386739178,
          0.21407655302238027,
          0.21920100397406406,
          0.21470403681238237,
          0.21846893955239488,
          0.21407655302238027,
          0.2167956494457226,
          0.21188035975737296,
          0.21595900439238658,
          0.21188035975737296,
          0.21439029491738126,
          0.21031165028236776,
          0.21480861744404933,
          0.20978874712403262,
          0.2145994561807153,
          0.21198494038903992
         ],
         "yaxis": "y"
        },
        {
         "hovertemplate": "No. of K: %{x}<br>training_error_a2: %{y:.3f} <extra></extra>",
         "line": {
          "color": "red"
         },
         "mode": "lines",
         "showlegend": false,
         "type": "scatter",
         "x": [
          1,
          2,
          3,
          4,
          5,
          6,
          7,
          8,
          9,
          10,
          11,
          12,
          13,
          14,
          15,
          16,
          17,
          18,
          19,
          20,
          21,
          22,
          23,
          24,
          25,
          26,
          27,
          28,
          29,
          30,
          31,
          32,
          33,
          34,
          35,
          36,
          37,
          38,
          39,
          40,
          41,
          42,
          43,
          44,
          45,
          46,
          47,
          48,
          49,
          50,
          51,
          52,
          53,
          54,
          55,
          56,
          57,
          58,
          59,
          60,
          61,
          62,
          63,
          64,
          65,
          66,
          67,
          68,
          69,
          70,
          71,
          72,
          73,
          74,
          75,
          76,
          77,
          78,
          79,
          80,
          81,
          82,
          83,
          84,
          85,
          86,
          87,
          88,
          89,
          90,
          91,
          92,
          93,
          94,
          95,
          96,
          97,
          98,
          99,
          100
         ],
         "xaxis": "x",
         "y": [
          0.11498435054773082,
          0.14998043818466356,
          0.13317683881064157,
          0.14068857589984352,
          0.13579812206572772,
          0.13973004694835678,
          0.14070813771517998,
          0.14536384976525818,
          0.14921752738654148,
          0.15044992175273864,
          0.15287558685446012,
          0.15475352112676055,
          0.15772691705790298,
          0.1596048513302034,
          0.1629499217527387,
          0.16719483568075122,
          0.17001173708920192,
          0.17228090766823156,
          0.1754890453834116,
          0.176858372456964,
          0.1784233176838811,
          0.18069248826291084,
          0.18247261345852894,
          0.18223787167449135,
          0.18466353677621283,
          0.18626760563380285,
          0.188008607198748,
          0.1887128325508607,
          0.1901995305164319,
          0.19176447574334898,
          0.19315336463223787,
          0.19397496087636934,
          0.19567683881064157,
          0.19724178403755865,
          0.1977308294209703,
          0.1991784037558686,
          0.20082159624413143,
          0.20299295774647885,
          0.20426447574334894,
          0.20391236306729266,
          0.20539906103286387,
          0.20717918622848197,
          0.20729655712050077,
          0.20927230046948353,
          0.2102699530516432,
          0.21116979655712054,
          0.21255868544600942,
          0.2131455399061033,
          0.21294992175273864,
          0.21461267605633805,
          0.21611893583724573,
          0.21643192488262908,
          0.21723395931142409,
          0.21758607198748048,
          0.21868153364632237,
          0.21793818466353676,
          0.21938575899843504,
          0.21905320813771523,
          0.2192879499217527,
          0.22001173708920185,
          0.22057902973395926,
          0.22093114241001566,
          0.22046165884194058,
          0.22161580594679187,
          0.22235915492957747,
          0.2237284820031299,
          0.22235915492957747,
          0.22341549295774643,
          0.22345461658841936,
          0.22482394366197178,
          0.2251564945226917,
          0.22552816901408446,
          0.22501956181533644,
          0.22490219092331765,
          0.22707355242566507,
          0.22781690140845068,
          0.22887323943661975,
          0.22932316118935836,
          0.2298708920187793,
          0.2298122065727699,
          0.22985133020344284,
          0.23035993740219096,
          0.23167057902973398,
          0.23288341158059467,
          0.23215962441314553,
          0.23417449139280122,
          0.2324139280125196,
          0.23290297339593113,
          0.23270735524256647,
          0.23270735524256647,
          0.23347026604068855,
          0.23374413145539907,
          0.23376369327073554,
          0.2346439749608764,
          0.23495696400625976,
          0.23560250391236304,
          0.23601330203442883,
          0.23595461658841943,
          0.2355633802816901,
          0.23691314553990606
         ],
         "yaxis": "y"
        },
        {
         "hovertemplate": "No. of K: %{x}<br>testing_error_p2: %{y:.3f} <extra></extra>",
         "line": {
          "color": "blue"
         },
         "mode": "lines",
         "name": "Testing Error",
         "type": "scatter",
         "x": [
          1,
          2,
          3,
          4,
          5,
          6,
          7,
          8,
          9,
          10,
          11,
          12,
          13,
          14,
          15,
          16,
          17,
          18,
          19,
          20,
          21,
          22,
          23,
          24,
          25,
          26,
          27,
          28,
          29,
          30,
          31,
          32,
          33,
          34,
          35,
          36,
          37,
          38,
          39,
          40,
          41,
          42,
          43,
          44,
          45,
          46,
          47,
          48,
          49,
          50,
          51,
          52,
          53,
          54,
          55,
          56,
          57,
          58,
          59,
          60,
          61,
          62,
          63,
          64,
          65,
          66,
          67,
          68,
          69,
          70,
          71,
          72,
          73,
          74,
          75,
          76,
          77,
          78,
          79,
          80,
          81,
          82,
          83,
          84,
          85,
          86,
          87,
          88,
          89,
          90,
          91,
          92,
          93,
          94,
          95,
          96,
          97,
          98,
          99,
          100
         ],
         "xaxis": "x2",
         "y": [
          0.7206946454413893,
          0.6502347417840375,
          0.6955363091272485,
          0.6824534161490683,
          0.7244348762109796,
          0.7073321010474429,
          0.7329405989199804,
          0.7153163152053275,
          0.7297423887587822,
          0.7182148417228853,
          0.7353735373537353,
          0.7212389380530974,
          0.7360316761988561,
          0.7240212663122281,
          0.7372515125324114,
          0.7206863679694948,
          0.7358163707232568,
          0.7220913801224682,
          0.7360754070265638,
          0.7270631627478101,
          0.7391120507399578,
          0.7259461924304605,
          0.738597972972973,
          0.7269455690508322,
          0.739185216295674,
          0.7283340817242927,
          0.7371524852569503,
          0.72931654676259,
          0.7385786802030456,
          0.7313167259786477,
          0.7375737152485258,
          0.7283288650580876,
          0.732316814908937,
          0.727027027027027,
          0.7332193244976486,
          0.7257918552036199,
          0.7339922647185217,
          0.7236067059356592,
          0.7301724137931034,
          0.7221972084646555,
          0.7304570696283639,
          0.7240303165403478,
          0.7295678219940094,
          0.720680393912265,
          0.7274290627687017,
          0.7230632235084595,
          0.7279726261762189,
          0.7248441674087267,
          0.725422260718926,
          0.7208352246935996,
          0.728448275862069,
          0.7194179172351068,
          0.7257292120156726,
          0.7213411871318531,
          0.7243337702053299,
          0.7215703971119134,
          0.7250544662309368,
          0.7177858439201452,
          0.7234782608695652,
          0.7194793536804309,
          0.7232841007819288,
          0.7172167707404103,
          0.7228496959165942,
          0.7182345073562193,
          0.7225834416991764,
          0.7184986595174263,
          0.7243172951885566,
          0.7187360925678683,
          0.724167747514051,
          0.7175166297117517,
          0.7215244694673019,
          0.7169642857142857,
          0.7216450216450216,
          0.7173051519154557,
          0.7220790378006873,
          0.718117854001759,
          0.7225309961522017,
          0.7174770039421814,
          0.7217242851045669,
          0.7168648172611185,
          0.7228400342172797,
          0.7181858212241303,
          0.7225557461406518,
          0.7166739991201057,
          0.7196019039376893,
          0.7174490699734278,
          0.7226781857451403,
          0.7183908045977012,
          0.7218370883882149,
          0.7180284191829485,
          0.7200873362445415,
          0.7151813703537842,
          0.7191060473269062,
          0.715374271627073,
          0.7176314626601856,
          0.713063063063063,
          0.717745486569793,
          0.7126073203795753,
          0.717688575209528,
          0.7155017921146953
         ],
         "yaxis": "y2"
        },
        {
         "hovertemplate": "No. of K: %{x}<br>training_error_p2: %{y:.3f} <extra></extra>",
         "line": {
          "color": "red"
         },
         "mode": "lines",
         "name": "Training Error",
         "type": "scatter",
         "x": [
          1,
          2,
          3,
          4,
          5,
          6,
          7,
          8,
          9,
          10,
          11,
          12,
          13,
          14,
          15,
          16,
          17,
          18,
          19,
          20,
          21,
          22,
          23,
          24,
          25,
          26,
          27,
          28,
          29,
          30,
          31,
          32,
          33,
          34,
          35,
          36,
          37,
          38,
          39,
          40,
          41,
          42,
          43,
          44,
          45,
          46,
          47,
          48,
          49,
          50,
          51,
          52,
          53,
          54,
          55,
          56,
          57,
          58,
          59,
          60,
          61,
          62,
          63,
          64,
          65,
          66,
          67,
          68,
          69,
          70,
          71,
          72,
          73,
          74,
          75,
          76,
          77,
          78,
          79,
          80,
          81,
          82,
          83,
          84,
          85,
          86,
          87,
          88,
          89,
          90,
          91,
          92,
          93,
          94,
          95,
          96,
          97,
          98,
          99,
          100
         ],
         "xaxis": "x2",
         "y": [
          0.03034049838310826,
          0.001940886153163679,
          0.07523921285430579,
          0.06295629088840426,
          0.11295667301797696,
          0.09927602202280317,
          0.13619321993764555,
          0.12253702244161446,
          0.15265879447402952,
          0.13813692661475774,
          0.16296492489310987,
          0.1516533637400228,
          0.16995453349866607,
          0.15771325575016648,
          0.17424870076071397,
          0.16119947641902344,
          0.1773155027241209,
          0.16801515570114856,
          0.18189803322512887,
          0.17265874738545328,
          0.18572244431753282,
          0.17555318054071167,
          0.18886937934193448,
          0.17832636643268396,
          0.190250248718145,
          0.18183613810539623,
          0.1924509465115386,
          0.1835174844560612,
          0.19340040861955976,
          0.18556045615289862,
          0.19365375641623894,
          0.18468576932338066,
          0.19343194569780675,
          0.18712014489836992,
          0.19461714015896747,
          0.18781828469808426,
          0.19631562302340289,
          0.1899418628288002,
          0.19862687514882138,
          0.1917619395118787,
          0.19848545237146276,
          0.19399340739836402,
          0.19988021561189862,
          0.1936648613162646,
          0.2011967390867837,
          0.19524220387033153,
          0.20168916188474906,
          0.19705567892096387,
          0.20336391437308865,
          0.1975655044357334,
          0.20460254436431402,
          0.1982515744116672,
          0.20560217276744097,
          0.1994613631655272,
          0.20619688529256297,
          0.19985913742387207,
          0.20647525962125834,
          0.20105228270776365,
          0.20617002200668355,
          0.20178312253783948,
          0.20667811018473103,
          0.20200382472769607,
          0.20617122278605338,
          0.20244683949898046,
          0.2072094264482489,
          0.2033855799373041,
          0.20600239106237372,
          0.20265349684007872,
          0.20577393033177316,
          0.20299172234127483,
          0.20819211374721003,
          0.20382272631800047,
          0.20767288830029385,
          0.20357397541843203,
          0.2092319177173192,
          0.2059466733955757,
          0.2107558139534884,
          0.2066652604935667,
          0.21120312955179155,
          0.2071802227472157,
          0.21068867767216937,
          0.20784479122733024,
          0.21167761094148652,
          0.20843777881633174,
          0.21139166177334112,
          0.20892468993734814,
          0.21143432817025565,
          0.20785081743869205,
          0.2111550433246404,
          0.207313954479584,
          0.2110149820637265,
          0.20728315289486077,
          0.21041490262489415,
          0.20688765639107443,
          0.21083697821563552,
          0.20750086117809163,
          0.21065654195640116,
          0.2077625570776256,
          0.2090364025695931,
          0.20729225306369892
         ],
         "yaxis": "y2"
        },
        {
         "hovertemplate": "No. of K: %{x}<br>testing_error_r2: %{y:.3f} <extra></extra>",
         "line": {
          "color": "blue"
         },
         "mode": "lines",
         "showlegend": false,
         "type": "scatter",
         "x": [
          1,
          2,
          3,
          4,
          5,
          6,
          7,
          8,
          9,
          10,
          11,
          12,
          13,
          14,
          15,
          16,
          17,
          18,
          19,
          20,
          21,
          22,
          23,
          24,
          25,
          26,
          27,
          28,
          29,
          30,
          31,
          32,
          33,
          34,
          35,
          36,
          37,
          38,
          39,
          40,
          41,
          42,
          43,
          44,
          45,
          46,
          47,
          48,
          49,
          50,
          51,
          52,
          53,
          54,
          55,
          56,
          57,
          58,
          59,
          60,
          61,
          62,
          63,
          64,
          65,
          66,
          67,
          68,
          69,
          70,
          71,
          72,
          73,
          74,
          75,
          76,
          77,
          78,
          79,
          80,
          81,
          82,
          83,
          84,
          85,
          86,
          87,
          88,
          89,
          90,
          91,
          92,
          93,
          94,
          95,
          96,
          97,
          98,
          99,
          100
         ],
         "xaxis": "x3",
         "y": [
          0.6375586854460094,
          0.72018779342723,
          0.5708920187793427,
          0.6159624413145539,
          0.5192488262910798,
          0.5539906103286385,
          0.4892018779342723,
          0.5183098591549296,
          0.4582159624413146,
          0.49014084507042255,
          0.44788732394366193,
          0.46760563380281694,
          0.43661971830985913,
          0.463849765258216,
          0.4291079812206573,
          0.44976525821596247,
          0.42723004694835676,
          0.4460093896713615,
          0.42159624413145536,
          0.44413145539906107,
          0.4206572769953052,
          0.43568075117370897,
          0.41877934272300466,
          0.43004694835680746,
          0.4169014084507042,
          0.431924882629108,
          0.4140845070422535,
          0.4347417840375587,
          0.4197183098591549,
          0.43286384976525827,
          0.4150234741784038,
          0.4291079812206573,
          0.4065727699530517,
          0.4309859154929577,
          0.4140845070422535,
          0.4309859154929577,
          0.41877934272300466,
          0.42723004694835676,
          0.4122065727699531,
          0.4206572769953052,
          0.40751173708920185,
          0.41877934272300466,
          0.4065727699530517,
          0.4140845070422535,
          0.40469483568075115,
          0.41596244131455395,
          0.4028169014084507,
          0.4197183098591549,
          0.40469483568075115,
          0.4225352112676056,
          0.4084507042253521,
          0.4206572769953052,
          0.4084507042253521,
          0.4225352112676056,
          0.40751173708920185,
          0.4206572769953052,
          0.40751173708920185,
          0.41596244131455395,
          0.4028169014084507,
          0.41314553990610325,
          0.40187793427230045,
          0.40469483568075115,
          0.4009389671361502,
          0.4065727699530517,
          0.39906103286384975,
          0.4084507042253521,
          0.4028169014084507,
          0.4065727699530517,
          0.4009389671361502,
          0.40187793427230045,
          0.39624413145539905,
          0.40469483568075115,
          0.39624413145539905,
          0.3971830985915493,
          0.3924882629107981,
          0.3981220657276995,
          0.39061032863849765,
          0.3943661971830986,
          0.38779342723004695,
          0.39624413145539905,
          0.3915492957746479,
          0.39906103286384975,
          0.3924882629107981,
          0.3953051643192488,
          0.3915492957746479,
          0.4009389671361502,
          0.3971830985915493,
          0.40187793427230045,
          0.3971830985915493,
          0.403755868544601,
          0.3981220657276995,
          0.4028169014084507,
          0.3981220657276995,
          0.403755868544601,
          0.4,
          0.40187793427230045,
          0.3981220657276995,
          0.4028169014084507,
          0.39906103286384975,
          0.403755868544601
         ],
         "yaxis": "y3"
        },
        {
         "hovertemplate": "No. of K: %{x}<br>training_error_r2: %{y:.3f} <extra></extra>",
         "line": {
          "color": "red"
         },
         "mode": "lines",
         "showlegend": false,
         "type": "scatter",
         "x": [
          1,
          2,
          3,
          4,
          5,
          6,
          7,
          8,
          9,
          10,
          11,
          12,
          13,
          14,
          15,
          16,
          17,
          18,
          19,
          20,
          21,
          22,
          23,
          24,
          25,
          26,
          27,
          28,
          29,
          30,
          31,
          32,
          33,
          34,
          35,
          36,
          37,
          38,
          39,
          40,
          41,
          42,
          43,
          44,
          45,
          46,
          47,
          48,
          49,
          50,
          51,
          52,
          53,
          54,
          55,
          56,
          57,
          58,
          59,
          60,
          61,
          62,
          63,
          64,
          65,
          66,
          67,
          68,
          69,
          70,
          71,
          72,
          73,
          74,
          75,
          76,
          77,
          78,
          79,
          80,
          81,
          82,
          83,
          84,
          85,
          86,
          87,
          88,
          89,
          90,
          91,
          92,
          93,
          94,
          95,
          96,
          97,
          98,
          99,
          100
         ],
         "xaxis": "x3",
         "y": [
          0.204447912602419,
          0.2977760436987905,
          0.20058525165821306,
          0.22879438158408116,
          0.1644557159578619,
          0.18934841982052286,
          0.1460007803355443,
          0.17467811158798285,
          0.14326960593055016,
          0.1664845883730004,
          0.13687085446742098,
          0.1581740148263754,
          0.13811939133827544,
          0.1612953570035115,
          0.14447912602419044,
          0.17491221225126807,
          0.1575107296137339,
          0.17752633632461956,
          0.1641825985173625,
          0.182052282481467,
          0.16554818571985952,
          0.18735856418259855,
          0.17089348419820527,
          0.18704642996488485,
          0.17432696059305497,
          0.19192352711666016,
          0.1794381584081155,
          0.1955911041747952,
          0.18361295357003515,
          0.20027311744049936,
          0.1909481076863051,
          0.20733515411627002,
          0.19793211080764728,
          0.2120171673819743,
          0.20140460397971127,
          0.21595786188060861,
          0.2067889192352712,
          0.22259071400702302,
          0.21213421771361685,
          0.22216152945766676,
          0.21537261022239562,
          0.2272337104955131,
          0.21814280140460396,
          0.23324229418650022,
          0.22391728443230585,
          0.23577838470542334,
          0.22922356613343742,
          0.2381584081154896,
          0.2275458447132267,
          0.24124073351541164,
          0.23402262973078425,
          0.24498634412797504,
          0.23538821693328127,
          0.24615684744440114,
          0.23831447522434646,
          0.24646898166211473,
          0.23975809598127196,
          0.24756145142411234,
          0.23999219664455718,
          0.24896605540382366,
          0.24264533749512285,
          0.2510729613733905,
          0.24315255559890758,
          0.25220444791260244,
          0.24658603199375728,
          0.2563792430745221,
          0.2485368708544674,
          0.2566913772922357,
          0.25185329691767455,
          0.25992976980101445,
          0.2525555989075302,
          0.26051502145922745,
          0.25302380023410065,
          0.2592274678111588,
          0.2560671088568084,
          0.26332422941864997,
          0.25848614904408895,
          0.26625048770971516,
          0.26047600468201326,
          0.2667577058134998,
          0.2612563402262973,
          0.26718689036285603,
          0.26461178306671873,
          0.2730784237222006,
          0.266406554818572,
          0.27580959812719474,
          0.2670308232539992,
          0.27405384315255565,
          0.26827936012485365,
          0.27436597737026924,
          0.27058134998049166,
          0.27721420210690595,
          0.27233710495513075,
          0.2802575107296137,
          0.27491221225126805,
          0.2818962153726102,
          0.27807257120561846,
          0.28244245025360903,
          0.2793991416309013,
          0.2857588763168162
         ],
         "yaxis": "y3"
        }
       ],
       "layout": {
        "annotations": [
         {
          "font": {
           "size": 16
          },
          "showarrow": false,
          "text": "Accuracy",
          "x": 0.15666666666666665,
          "xanchor": "center",
          "xref": "paper",
          "y": 1,
          "yanchor": "bottom",
          "yref": "paper"
         },
         {
          "font": {
           "size": 16
          },
          "showarrow": false,
          "text": "Precision",
          "x": 0.4999999999999999,
          "xanchor": "center",
          "xref": "paper",
          "y": 1,
          "yanchor": "bottom",
          "yref": "paper"
         },
         {
          "font": {
           "size": 16
          },
          "showarrow": false,
          "text": "Recall",
          "x": 0.8433333333333332,
          "xanchor": "center",
          "xref": "paper",
          "y": 1,
          "yanchor": "bottom",
          "yref": "paper"
         },
         {
          "font": {
           "size": 20
          },
          "showarrow": false,
          "text": "Testing / Training Errors",
          "textangle": -90,
          "x": -0.045,
          "xref": "paper",
          "y": 0.5,
          "yref": "paper"
         },
         {
          "font": {
           "size": 20
          },
          "showarrow": false,
          "text": "No. of K for KNN",
          "x": 0.5,
          "xref": "paper",
          "y": -0.2,
          "yref": "paper"
         }
        ],
        "hovermode": "x",
        "legend": {
         "bgcolor": "rgba(255, 255, 255, 0.5)",
         "x": 0.47,
         "xanchor": "left",
         "y": 0.25,
         "yanchor": "top"
        },
        "margin": {
         "b": 70,
         "l": 80,
         "r": 40,
         "t": 80
        },
        "template": {
         "data": {
          "bar": [
           {
            "error_x": {
             "color": "#2a3f5f"
            },
            "error_y": {
             "color": "#2a3f5f"
            },
            "marker": {
             "line": {
              "color": "#E5ECF6",
              "width": 0.5
             },
             "pattern": {
              "fillmode": "overlay",
              "size": 10,
              "solidity": 0.2
             }
            },
            "type": "bar"
           }
          ],
          "barpolar": [
           {
            "marker": {
             "line": {
              "color": "#E5ECF6",
              "width": 0.5
             },
             "pattern": {
              "fillmode": "overlay",
              "size": 10,
              "solidity": 0.2
             }
            },
            "type": "barpolar"
           }
          ],
          "carpet": [
           {
            "aaxis": {
             "endlinecolor": "#2a3f5f",
             "gridcolor": "white",
             "linecolor": "white",
             "minorgridcolor": "white",
             "startlinecolor": "#2a3f5f"
            },
            "baxis": {
             "endlinecolor": "#2a3f5f",
             "gridcolor": "white",
             "linecolor": "white",
             "minorgridcolor": "white",
             "startlinecolor": "#2a3f5f"
            },
            "type": "carpet"
           }
          ],
          "choropleth": [
           {
            "colorbar": {
             "outlinewidth": 0,
             "ticks": ""
            },
            "type": "choropleth"
           }
          ],
          "contour": [
           {
            "colorbar": {
             "outlinewidth": 0,
             "ticks": ""
            },
            "colorscale": [
             [
              0,
              "#0d0887"
             ],
             [
              0.1111111111111111,
              "#46039f"
             ],
             [
              0.2222222222222222,
              "#7201a8"
             ],
             [
              0.3333333333333333,
              "#9c179e"
             ],
             [
              0.4444444444444444,
              "#bd3786"
             ],
             [
              0.5555555555555556,
              "#d8576b"
             ],
             [
              0.6666666666666666,
              "#ed7953"
             ],
             [
              0.7777777777777778,
              "#fb9f3a"
             ],
             [
              0.8888888888888888,
              "#fdca26"
             ],
             [
              1,
              "#f0f921"
             ]
            ],
            "type": "contour"
           }
          ],
          "contourcarpet": [
           {
            "colorbar": {
             "outlinewidth": 0,
             "ticks": ""
            },
            "type": "contourcarpet"
           }
          ],
          "heatmap": [
           {
            "colorbar": {
             "outlinewidth": 0,
             "ticks": ""
            },
            "colorscale": [
             [
              0,
              "#0d0887"
             ],
             [
              0.1111111111111111,
              "#46039f"
             ],
             [
              0.2222222222222222,
              "#7201a8"
             ],
             [
              0.3333333333333333,
              "#9c179e"
             ],
             [
              0.4444444444444444,
              "#bd3786"
             ],
             [
              0.5555555555555556,
              "#d8576b"
             ],
             [
              0.6666666666666666,
              "#ed7953"
             ],
             [
              0.7777777777777778,
              "#fb9f3a"
             ],
             [
              0.8888888888888888,
              "#fdca26"
             ],
             [
              1,
              "#f0f921"
             ]
            ],
            "type": "heatmap"
           }
          ],
          "heatmapgl": [
           {
            "colorbar": {
             "outlinewidth": 0,
             "ticks": ""
            },
            "colorscale": [
             [
              0,
              "#0d0887"
             ],
             [
              0.1111111111111111,
              "#46039f"
             ],
             [
              0.2222222222222222,
              "#7201a8"
             ],
             [
              0.3333333333333333,
              "#9c179e"
             ],
             [
              0.4444444444444444,
              "#bd3786"
             ],
             [
              0.5555555555555556,
              "#d8576b"
             ],
             [
              0.6666666666666666,
              "#ed7953"
             ],
             [
              0.7777777777777778,
              "#fb9f3a"
             ],
             [
              0.8888888888888888,
              "#fdca26"
             ],
             [
              1,
              "#f0f921"
             ]
            ],
            "type": "heatmapgl"
           }
          ],
          "histogram": [
           {
            "marker": {
             "pattern": {
              "fillmode": "overlay",
              "size": 10,
              "solidity": 0.2
             }
            },
            "type": "histogram"
           }
          ],
          "histogram2d": [
           {
            "colorbar": {
             "outlinewidth": 0,
             "ticks": ""
            },
            "colorscale": [
             [
              0,
              "#0d0887"
             ],
             [
              0.1111111111111111,
              "#46039f"
             ],
             [
              0.2222222222222222,
              "#7201a8"
             ],
             [
              0.3333333333333333,
              "#9c179e"
             ],
             [
              0.4444444444444444,
              "#bd3786"
             ],
             [
              0.5555555555555556,
              "#d8576b"
             ],
             [
              0.6666666666666666,
              "#ed7953"
             ],
             [
              0.7777777777777778,
              "#fb9f3a"
             ],
             [
              0.8888888888888888,
              "#fdca26"
             ],
             [
              1,
              "#f0f921"
             ]
            ],
            "type": "histogram2d"
           }
          ],
          "histogram2dcontour": [
           {
            "colorbar": {
             "outlinewidth": 0,
             "ticks": ""
            },
            "colorscale": [
             [
              0,
              "#0d0887"
             ],
             [
              0.1111111111111111,
              "#46039f"
             ],
             [
              0.2222222222222222,
              "#7201a8"
             ],
             [
              0.3333333333333333,
              "#9c179e"
             ],
             [
              0.4444444444444444,
              "#bd3786"
             ],
             [
              0.5555555555555556,
              "#d8576b"
             ],
             [
              0.6666666666666666,
              "#ed7953"
             ],
             [
              0.7777777777777778,
              "#fb9f3a"
             ],
             [
              0.8888888888888888,
              "#fdca26"
             ],
             [
              1,
              "#f0f921"
             ]
            ],
            "type": "histogram2dcontour"
           }
          ],
          "mesh3d": [
           {
            "colorbar": {
             "outlinewidth": 0,
             "ticks": ""
            },
            "type": "mesh3d"
           }
          ],
          "parcoords": [
           {
            "line": {
             "colorbar": {
              "outlinewidth": 0,
              "ticks": ""
             }
            },
            "type": "parcoords"
           }
          ],
          "pie": [
           {
            "automargin": true,
            "type": "pie"
           }
          ],
          "scatter": [
           {
            "fillpattern": {
             "fillmode": "overlay",
             "size": 10,
             "solidity": 0.2
            },
            "type": "scatter"
           }
          ],
          "scatter3d": [
           {
            "line": {
             "colorbar": {
              "outlinewidth": 0,
              "ticks": ""
             }
            },
            "marker": {
             "colorbar": {
              "outlinewidth": 0,
              "ticks": ""
             }
            },
            "type": "scatter3d"
           }
          ],
          "scattercarpet": [
           {
            "marker": {
             "colorbar": {
              "outlinewidth": 0,
              "ticks": ""
             }
            },
            "type": "scattercarpet"
           }
          ],
          "scattergeo": [
           {
            "marker": {
             "colorbar": {
              "outlinewidth": 0,
              "ticks": ""
             }
            },
            "type": "scattergeo"
           }
          ],
          "scattergl": [
           {
            "marker": {
             "colorbar": {
              "outlinewidth": 0,
              "ticks": ""
             }
            },
            "type": "scattergl"
           }
          ],
          "scattermapbox": [
           {
            "marker": {
             "colorbar": {
              "outlinewidth": 0,
              "ticks": ""
             }
            },
            "type": "scattermapbox"
           }
          ],
          "scatterpolar": [
           {
            "marker": {
             "colorbar": {
              "outlinewidth": 0,
              "ticks": ""
             }
            },
            "type": "scatterpolar"
           }
          ],
          "scatterpolargl": [
           {
            "marker": {
             "colorbar": {
              "outlinewidth": 0,
              "ticks": ""
             }
            },
            "type": "scatterpolargl"
           }
          ],
          "scatterternary": [
           {
            "marker": {
             "colorbar": {
              "outlinewidth": 0,
              "ticks": ""
             }
            },
            "type": "scatterternary"
           }
          ],
          "surface": [
           {
            "colorbar": {
             "outlinewidth": 0,
             "ticks": ""
            },
            "colorscale": [
             [
              0,
              "#0d0887"
             ],
             [
              0.1111111111111111,
              "#46039f"
             ],
             [
              0.2222222222222222,
              "#7201a8"
             ],
             [
              0.3333333333333333,
              "#9c179e"
             ],
             [
              0.4444444444444444,
              "#bd3786"
             ],
             [
              0.5555555555555556,
              "#d8576b"
             ],
             [
              0.6666666666666666,
              "#ed7953"
             ],
             [
              0.7777777777777778,
              "#fb9f3a"
             ],
             [
              0.8888888888888888,
              "#fdca26"
             ],
             [
              1,
              "#f0f921"
             ]
            ],
            "type": "surface"
           }
          ],
          "table": [
           {
            "cells": {
             "fill": {
              "color": "#EBF0F8"
             },
             "line": {
              "color": "white"
             }
            },
            "header": {
             "fill": {
              "color": "#C8D4E3"
             },
             "line": {
              "color": "white"
             }
            },
            "type": "table"
           }
          ]
         },
         "layout": {
          "annotationdefaults": {
           "arrowcolor": "#2a3f5f",
           "arrowhead": 0,
           "arrowwidth": 1
          },
          "autotypenumbers": "strict",
          "coloraxis": {
           "colorbar": {
            "outlinewidth": 0,
            "ticks": ""
           }
          },
          "colorscale": {
           "diverging": [
            [
             0,
             "#8e0152"
            ],
            [
             0.1,
             "#c51b7d"
            ],
            [
             0.2,
             "#de77ae"
            ],
            [
             0.3,
             "#f1b6da"
            ],
            [
             0.4,
             "#fde0ef"
            ],
            [
             0.5,
             "#f7f7f7"
            ],
            [
             0.6,
             "#e6f5d0"
            ],
            [
             0.7,
             "#b8e186"
            ],
            [
             0.8,
             "#7fbc41"
            ],
            [
             0.9,
             "#4d9221"
            ],
            [
             1,
             "#276419"
            ]
           ],
           "sequential": [
            [
             0,
             "#0d0887"
            ],
            [
             0.1111111111111111,
             "#46039f"
            ],
            [
             0.2222222222222222,
             "#7201a8"
            ],
            [
             0.3333333333333333,
             "#9c179e"
            ],
            [
             0.4444444444444444,
             "#bd3786"
            ],
            [
             0.5555555555555556,
             "#d8576b"
            ],
            [
             0.6666666666666666,
             "#ed7953"
            ],
            [
             0.7777777777777778,
             "#fb9f3a"
            ],
            [
             0.8888888888888888,
             "#fdca26"
            ],
            [
             1,
             "#f0f921"
            ]
           ],
           "sequentialminus": [
            [
             0,
             "#0d0887"
            ],
            [
             0.1111111111111111,
             "#46039f"
            ],
            [
             0.2222222222222222,
             "#7201a8"
            ],
            [
             0.3333333333333333,
             "#9c179e"
            ],
            [
             0.4444444444444444,
             "#bd3786"
            ],
            [
             0.5555555555555556,
             "#d8576b"
            ],
            [
             0.6666666666666666,
             "#ed7953"
            ],
            [
             0.7777777777777778,
             "#fb9f3a"
            ],
            [
             0.8888888888888888,
             "#fdca26"
            ],
            [
             1,
             "#f0f921"
            ]
           ]
          },
          "colorway": [
           "#636efa",
           "#EF553B",
           "#00cc96",
           "#ab63fa",
           "#FFA15A",
           "#19d3f3",
           "#FF6692",
           "#B6E880",
           "#FF97FF",
           "#FECB52"
          ],
          "font": {
           "color": "#2a3f5f"
          },
          "geo": {
           "bgcolor": "white",
           "lakecolor": "white",
           "landcolor": "#E5ECF6",
           "showlakes": true,
           "showland": true,
           "subunitcolor": "white"
          },
          "hoverlabel": {
           "align": "left"
          },
          "hovermode": "closest",
          "mapbox": {
           "style": "light"
          },
          "paper_bgcolor": "white",
          "plot_bgcolor": "#E5ECF6",
          "polar": {
           "angularaxis": {
            "gridcolor": "white",
            "linecolor": "white",
            "ticks": ""
           },
           "bgcolor": "#E5ECF6",
           "radialaxis": {
            "gridcolor": "white",
            "linecolor": "white",
            "ticks": ""
           }
          },
          "scene": {
           "xaxis": {
            "backgroundcolor": "#E5ECF6",
            "gridcolor": "white",
            "gridwidth": 2,
            "linecolor": "white",
            "showbackground": true,
            "ticks": "",
            "zerolinecolor": "white"
           },
           "yaxis": {
            "backgroundcolor": "#E5ECF6",
            "gridcolor": "white",
            "gridwidth": 2,
            "linecolor": "white",
            "showbackground": true,
            "ticks": "",
            "zerolinecolor": "white"
           },
           "zaxis": {
            "backgroundcolor": "#E5ECF6",
            "gridcolor": "white",
            "gridwidth": 2,
            "linecolor": "white",
            "showbackground": true,
            "ticks": "",
            "zerolinecolor": "white"
           }
          },
          "shapedefaults": {
           "line": {
            "color": "#2a3f5f"
           }
          },
          "ternary": {
           "aaxis": {
            "gridcolor": "white",
            "linecolor": "white",
            "ticks": ""
           },
           "baxis": {
            "gridcolor": "white",
            "linecolor": "white",
            "ticks": ""
           },
           "bgcolor": "#E5ECF6",
           "caxis": {
            "gridcolor": "white",
            "linecolor": "white",
            "ticks": ""
           }
          },
          "title": {
           "x": 0.05
          },
          "xaxis": {
           "automargin": true,
           "gridcolor": "white",
           "linecolor": "white",
           "ticks": "",
           "title": {
            "standoff": 15
           },
           "zerolinecolor": "white",
           "zerolinewidth": 2
          },
          "yaxis": {
           "automargin": true,
           "gridcolor": "white",
           "linecolor": "white",
           "ticks": "",
           "title": {
            "standoff": 15
           },
           "zerolinecolor": "white",
           "zerolinewidth": 2
          }
         }
        },
        "title": {
         "font": {
          "size": 24
         },
         "text": "Testing VS Training Errors for Different Success Metrics After Oversampling",
         "x": 0.5,
         "xanchor": "center",
         "y": 0.97,
         "yanchor": "top"
        },
        "xaxis": {
         "anchor": "y",
         "domain": [
          0,
          0.3133333333333333
         ]
        },
        "xaxis2": {
         "anchor": "y2",
         "domain": [
          0.34333333333333327,
          0.6566666666666665
         ]
        },
        "xaxis3": {
         "anchor": "y3",
         "domain": [
          0.6866666666666665,
          0.9999999999999998
         ]
        },
        "yaxis": {
         "anchor": "x",
         "domain": [
          0,
          1
         ]
        },
        "yaxis2": {
         "anchor": "x2",
         "domain": [
          0,
          1
         ]
        },
        "yaxis3": {
         "anchor": "x3",
         "domain": [
          0,
          1
         ]
        }
       }
      }
     },
     "metadata": {},
     "output_type": "display_data"
    }
   ],
   "source": [
    "# Plot the relationship between K and both training and testing errors for 3 different metrics.\n",
    "fig9 = make_subplots(rows=1, cols=3, shared_xaxes = True, subplot_titles=('Accuracy', 'Precision', 'Recall'), horizontal_spacing = 0.03)\n",
    "\n",
    "fig9.add_trace(go.Scatter(x = k_range, y = testing_error_a2, mode = 'lines', hovertemplate = 'No. of K: %{x}<br>testing_error_a2: %{y:.3f} <extra></extra>', line = dict(color = 'blue'), showlegend = False), row = 1, col = 1)\n",
    "fig9.add_trace(go.Scatter(x = k_range, y = training_error_a2, mode = 'lines', hovertemplate = 'No. of K: %{x}<br>training_error_a2: %{y:.3f} <extra></extra>', line = dict(color = 'red'), showlegend = False), row = 1, col = 1)\n",
    "fig9.add_trace(go.Scatter(x = k_range, y = testing_error_p2, mode = 'lines', hovertemplate = 'No. of K: %{x}<br>testing_error_p2: %{y:.3f} <extra></extra>',  line = dict(color = 'blue'), name = 'Testing Error'), row = 1, col = 2)\n",
    "fig9.add_trace(go.Scatter(x = k_range, y = training_error_p2, mode = 'lines', hovertemplate = 'No. of K: %{x}<br>training_error_p2: %{y:.3f} <extra></extra>', line = dict(color = 'red'), name = 'Training Error'), row = 1, col = 2)\n",
    "fig9.add_trace(go.Scatter(x = k_range, y = testing_error_r2, mode = 'lines', hovertemplate = 'No. of K: %{x}<br>testing_error_r2: %{y:.3f} <extra></extra>', line = dict(color = 'blue'), showlegend = False), row = 1, col = 3)\n",
    "fig9.add_trace(go.Scatter(x = k_range, y = training_error_r2, mode = 'lines', hovertemplate = 'No. of K: %{x}<br>training_error_r2: %{y:.3f} <extra></extra>', line = dict(color = 'red'), showlegend = False), row = 1, col = 3)\n",
    "\n",
    "fig9.add_annotation(text = 'Testing / Training Errors', xref = 'paper', yref = 'paper', x = -0.045, y = 0.5, showarrow = False, textangle = -90, font = dict(size = 20))  \n",
    "fig9.add_annotation(text = 'No. of K for KNN', xref = 'paper', yref = 'paper', x = 0.5, y = -0.2, showarrow = False, font = dict(size = 20))  \n",
    "fig9.update_layout(title = {'text' : 'Testing VS Training Errors for Different Success Metrics After Oversampling', 'y' : 0.97, 'x' : 0.5, 'xanchor' : 'center', 'yanchor' : 'top', 'font' : {'size' : 24}},\n",
    "                   margin = dict(l = 80, r = 40, t = 80, b = 70), hovermode = \"x\", legend = dict(x = 0.47, y = 0.25, xanchor = 'left', yanchor = 'top', bgcolor = 'rgba(255, 255, 255, 0.5)'))\n",
    "fig9.show()"
   ]
  },
  {
   "cell_type": "code",
   "execution_count": 95,
   "metadata": {},
   "outputs": [
    {
     "data": {
      "text/html": [
       "<div>\n",
       "<style scoped>\n",
       "    .dataframe tbody tr th:only-of-type {\n",
       "        vertical-align: middle;\n",
       "    }\n",
       "\n",
       "    .dataframe tbody tr th {\n",
       "        vertical-align: top;\n",
       "    }\n",
       "\n",
       "    .dataframe thead th {\n",
       "        text-align: right;\n",
       "    }\n",
       "</style>\n",
       "<table border=\"1\" class=\"dataframe\">\n",
       "  <thead>\n",
       "    <tr style=\"text-align: right;\">\n",
       "      <th></th>\n",
       "      <th>testing_error_a2</th>\n",
       "      <th>testing_error_p2</th>\n",
       "      <th>testing_error_r2</th>\n",
       "    </tr>\n",
       "    <tr>\n",
       "      <th>K</th>\n",
       "      <th></th>\n",
       "      <th></th>\n",
       "      <th></th>\n",
       "    </tr>\n",
       "  </thead>\n",
       "  <tbody>\n",
       "    <tr>\n",
       "      <th>79</th>\n",
       "      <td>0.220</td>\n",
       "      <td>0.722</td>\n",
       "      <td>0.388</td>\n",
       "    </tr>\n",
       "    <tr>\n",
       "      <th>77</th>\n",
       "      <td>0.220</td>\n",
       "      <td>0.723</td>\n",
       "      <td>0.391</td>\n",
       "    </tr>\n",
       "    <tr>\n",
       "      <th>85</th>\n",
       "      <td>0.218</td>\n",
       "      <td>0.720</td>\n",
       "      <td>0.392</td>\n",
       "    </tr>\n",
       "    <tr>\n",
       "      <th>75</th>\n",
       "      <td>0.220</td>\n",
       "      <td>0.722</td>\n",
       "      <td>0.392</td>\n",
       "    </tr>\n",
       "    <tr>\n",
       "      <th>81</th>\n",
       "      <td>0.220</td>\n",
       "      <td>0.723</td>\n",
       "      <td>0.392</td>\n",
       "    </tr>\n",
       "    <tr>\n",
       "      <th>83</th>\n",
       "      <td>0.220</td>\n",
       "      <td>0.723</td>\n",
       "      <td>0.392</td>\n",
       "    </tr>\n",
       "    <tr>\n",
       "      <th>78</th>\n",
       "      <td>0.215</td>\n",
       "      <td>0.717</td>\n",
       "      <td>0.394</td>\n",
       "    </tr>\n",
       "    <tr>\n",
       "      <th>84</th>\n",
       "      <td>0.214</td>\n",
       "      <td>0.717</td>\n",
       "      <td>0.395</td>\n",
       "    </tr>\n",
       "    <tr>\n",
       "      <th>80</th>\n",
       "      <td>0.214</td>\n",
       "      <td>0.717</td>\n",
       "      <td>0.396</td>\n",
       "    </tr>\n",
       "    <tr>\n",
       "      <th>71</th>\n",
       "      <td>0.218</td>\n",
       "      <td>0.722</td>\n",
       "      <td>0.396</td>\n",
       "    </tr>\n",
       "  </tbody>\n",
       "</table>\n",
       "</div>"
      ],
      "text/plain": [
       "    testing_error_a2  testing_error_p2  testing_error_r2\n",
       "K                                                       \n",
       "79             0.220             0.722             0.388\n",
       "77             0.220             0.723             0.391\n",
       "85             0.218             0.720             0.392\n",
       "75             0.220             0.722             0.392\n",
       "81             0.220             0.723             0.392\n",
       "83             0.220             0.723             0.392\n",
       "78             0.215             0.717             0.394\n",
       "84             0.214             0.717             0.395\n",
       "80             0.214             0.717             0.396\n",
       "71             0.218             0.722             0.396"
      ]
     },
     "execution_count": 95,
     "metadata": {},
     "output_type": "execute_result"
    }
   ],
   "source": [
    "# Create a dataframe of all testing error data from the accuracy, precision, and recall metrics for K values 1 through 100.\n",
    "testing_error_data2 = pd.DataFrame({'K' : k_range, 'testing_error_a2' : testing_error_a2, 'testing_error_p2' : testing_error_p2, 'testing_error_r2' : testing_error_r2}).set_index('K').round(3)\n",
    "testing_error_data2.sort_values(['testing_error_r2', 'testing_error_p2', 'testing_error_a2']).head(10)"
   ]
  },
  {
   "cell_type": "markdown",
   "metadata": {},
   "source": [
    "By comparing the training and testing errors for the accuracy, precision and recall metrics, a K value of 79 was determined to be optimal because it achieved the lowest testing error for recall."
   ]
  },
  {
   "cell_type": "markdown",
   "metadata": {},
   "source": [
    "### 5. Evaluation of KNN Classifier After Applying Oversampling Technique"
   ]
  },
  {
   "cell_type": "code",
   "execution_count": 96,
   "metadata": {},
   "outputs": [
    {
     "data": {
      "text/html": [
       "<style>#sk-container-id-5 {\n",
       "  /* Definition of color scheme common for light and dark mode */\n",
       "  --sklearn-color-text: black;\n",
       "  --sklearn-color-line: gray;\n",
       "  /* Definition of color scheme for unfitted estimators */\n",
       "  --sklearn-color-unfitted-level-0: #fff5e6;\n",
       "  --sklearn-color-unfitted-level-1: #f6e4d2;\n",
       "  --sklearn-color-unfitted-level-2: #ffe0b3;\n",
       "  --sklearn-color-unfitted-level-3: chocolate;\n",
       "  /* Definition of color scheme for fitted estimators */\n",
       "  --sklearn-color-fitted-level-0: #f0f8ff;\n",
       "  --sklearn-color-fitted-level-1: #d4ebff;\n",
       "  --sklearn-color-fitted-level-2: #b3dbfd;\n",
       "  --sklearn-color-fitted-level-3: cornflowerblue;\n",
       "\n",
       "  /* Specific color for light theme */\n",
       "  --sklearn-color-text-on-default-background: var(--sg-text-color, var(--theme-code-foreground, var(--jp-content-font-color1, black)));\n",
       "  --sklearn-color-background: var(--sg-background-color, var(--theme-background, var(--jp-layout-color0, white)));\n",
       "  --sklearn-color-border-box: var(--sg-text-color, var(--theme-code-foreground, var(--jp-content-font-color1, black)));\n",
       "  --sklearn-color-icon: #696969;\n",
       "\n",
       "  @media (prefers-color-scheme: dark) {\n",
       "    /* Redefinition of color scheme for dark theme */\n",
       "    --sklearn-color-text-on-default-background: var(--sg-text-color, var(--theme-code-foreground, var(--jp-content-font-color1, white)));\n",
       "    --sklearn-color-background: var(--sg-background-color, var(--theme-background, var(--jp-layout-color0, #111)));\n",
       "    --sklearn-color-border-box: var(--sg-text-color, var(--theme-code-foreground, var(--jp-content-font-color1, white)));\n",
       "    --sklearn-color-icon: #878787;\n",
       "  }\n",
       "}\n",
       "\n",
       "#sk-container-id-5 {\n",
       "  color: var(--sklearn-color-text);\n",
       "}\n",
       "\n",
       "#sk-container-id-5 pre {\n",
       "  padding: 0;\n",
       "}\n",
       "\n",
       "#sk-container-id-5 input.sk-hidden--visually {\n",
       "  border: 0;\n",
       "  clip: rect(1px 1px 1px 1px);\n",
       "  clip: rect(1px, 1px, 1px, 1px);\n",
       "  height: 1px;\n",
       "  margin: -1px;\n",
       "  overflow: hidden;\n",
       "  padding: 0;\n",
       "  position: absolute;\n",
       "  width: 1px;\n",
       "}\n",
       "\n",
       "#sk-container-id-5 div.sk-dashed-wrapped {\n",
       "  border: 1px dashed var(--sklearn-color-line);\n",
       "  margin: 0 0.4em 0.5em 0.4em;\n",
       "  box-sizing: border-box;\n",
       "  padding-bottom: 0.4em;\n",
       "  background-color: var(--sklearn-color-background);\n",
       "}\n",
       "\n",
       "#sk-container-id-5 div.sk-container {\n",
       "  /* jupyter's `normalize.less` sets `[hidden] { display: none; }`\n",
       "     but bootstrap.min.css set `[hidden] { display: none !important; }`\n",
       "     so we also need the `!important` here to be able to override the\n",
       "     default hidden behavior on the sphinx rendered scikit-learn.org.\n",
       "     See: https://github.com/scikit-learn/scikit-learn/issues/21755 */\n",
       "  display: inline-block !important;\n",
       "  position: relative;\n",
       "}\n",
       "\n",
       "#sk-container-id-5 div.sk-text-repr-fallback {\n",
       "  display: none;\n",
       "}\n",
       "\n",
       "div.sk-parallel-item,\n",
       "div.sk-serial,\n",
       "div.sk-item {\n",
       "  /* draw centered vertical line to link estimators */\n",
       "  background-image: linear-gradient(var(--sklearn-color-text-on-default-background), var(--sklearn-color-text-on-default-background));\n",
       "  background-size: 2px 100%;\n",
       "  background-repeat: no-repeat;\n",
       "  background-position: center center;\n",
       "}\n",
       "\n",
       "/* Parallel-specific style estimator block */\n",
       "\n",
       "#sk-container-id-5 div.sk-parallel-item::after {\n",
       "  content: \"\";\n",
       "  width: 100%;\n",
       "  border-bottom: 2px solid var(--sklearn-color-text-on-default-background);\n",
       "  flex-grow: 1;\n",
       "}\n",
       "\n",
       "#sk-container-id-5 div.sk-parallel {\n",
       "  display: flex;\n",
       "  align-items: stretch;\n",
       "  justify-content: center;\n",
       "  background-color: var(--sklearn-color-background);\n",
       "  position: relative;\n",
       "}\n",
       "\n",
       "#sk-container-id-5 div.sk-parallel-item {\n",
       "  display: flex;\n",
       "  flex-direction: column;\n",
       "}\n",
       "\n",
       "#sk-container-id-5 div.sk-parallel-item:first-child::after {\n",
       "  align-self: flex-end;\n",
       "  width: 50%;\n",
       "}\n",
       "\n",
       "#sk-container-id-5 div.sk-parallel-item:last-child::after {\n",
       "  align-self: flex-start;\n",
       "  width: 50%;\n",
       "}\n",
       "\n",
       "#sk-container-id-5 div.sk-parallel-item:only-child::after {\n",
       "  width: 0;\n",
       "}\n",
       "\n",
       "/* Serial-specific style estimator block */\n",
       "\n",
       "#sk-container-id-5 div.sk-serial {\n",
       "  display: flex;\n",
       "  flex-direction: column;\n",
       "  align-items: center;\n",
       "  background-color: var(--sklearn-color-background);\n",
       "  padding-right: 1em;\n",
       "  padding-left: 1em;\n",
       "}\n",
       "\n",
       "\n",
       "/* Toggleable style: style used for estimator/Pipeline/ColumnTransformer box that is\n",
       "clickable and can be expanded/collapsed.\n",
       "- Pipeline and ColumnTransformer use this feature and define the default style\n",
       "- Estimators will overwrite some part of the style using the `sk-estimator` class\n",
       "*/\n",
       "\n",
       "/* Pipeline and ColumnTransformer style (default) */\n",
       "\n",
       "#sk-container-id-5 div.sk-toggleable {\n",
       "  /* Default theme specific background. It is overwritten whether we have a\n",
       "  specific estimator or a Pipeline/ColumnTransformer */\n",
       "  background-color: var(--sklearn-color-background);\n",
       "}\n",
       "\n",
       "/* Toggleable label */\n",
       "#sk-container-id-5 label.sk-toggleable__label {\n",
       "  cursor: pointer;\n",
       "  display: block;\n",
       "  width: 100%;\n",
       "  margin-bottom: 0;\n",
       "  padding: 0.5em;\n",
       "  box-sizing: border-box;\n",
       "  text-align: center;\n",
       "}\n",
       "\n",
       "#sk-container-id-5 label.sk-toggleable__label-arrow:before {\n",
       "  /* Arrow on the left of the label */\n",
       "  content: \"▸\";\n",
       "  float: left;\n",
       "  margin-right: 0.25em;\n",
       "  color: var(--sklearn-color-icon);\n",
       "}\n",
       "\n",
       "#sk-container-id-5 label.sk-toggleable__label-arrow:hover:before {\n",
       "  color: var(--sklearn-color-text);\n",
       "}\n",
       "\n",
       "/* Toggleable content - dropdown */\n",
       "\n",
       "#sk-container-id-5 div.sk-toggleable__content {\n",
       "  max-height: 0;\n",
       "  max-width: 0;\n",
       "  overflow: hidden;\n",
       "  text-align: left;\n",
       "  /* unfitted */\n",
       "  background-color: var(--sklearn-color-unfitted-level-0);\n",
       "}\n",
       "\n",
       "#sk-container-id-5 div.sk-toggleable__content.fitted {\n",
       "  /* fitted */\n",
       "  background-color: var(--sklearn-color-fitted-level-0);\n",
       "}\n",
       "\n",
       "#sk-container-id-5 div.sk-toggleable__content pre {\n",
       "  margin: 0.2em;\n",
       "  border-radius: 0.25em;\n",
       "  color: var(--sklearn-color-text);\n",
       "  /* unfitted */\n",
       "  background-color: var(--sklearn-color-unfitted-level-0);\n",
       "}\n",
       "\n",
       "#sk-container-id-5 div.sk-toggleable__content.fitted pre {\n",
       "  /* unfitted */\n",
       "  background-color: var(--sklearn-color-fitted-level-0);\n",
       "}\n",
       "\n",
       "#sk-container-id-5 input.sk-toggleable__control:checked~div.sk-toggleable__content {\n",
       "  /* Expand drop-down */\n",
       "  max-height: 200px;\n",
       "  max-width: 100%;\n",
       "  overflow: auto;\n",
       "}\n",
       "\n",
       "#sk-container-id-5 input.sk-toggleable__control:checked~label.sk-toggleable__label-arrow:before {\n",
       "  content: \"▾\";\n",
       "}\n",
       "\n",
       "/* Pipeline/ColumnTransformer-specific style */\n",
       "\n",
       "#sk-container-id-5 div.sk-label input.sk-toggleable__control:checked~label.sk-toggleable__label {\n",
       "  color: var(--sklearn-color-text);\n",
       "  background-color: var(--sklearn-color-unfitted-level-2);\n",
       "}\n",
       "\n",
       "#sk-container-id-5 div.sk-label.fitted input.sk-toggleable__control:checked~label.sk-toggleable__label {\n",
       "  background-color: var(--sklearn-color-fitted-level-2);\n",
       "}\n",
       "\n",
       "/* Estimator-specific style */\n",
       "\n",
       "/* Colorize estimator box */\n",
       "#sk-container-id-5 div.sk-estimator input.sk-toggleable__control:checked~label.sk-toggleable__label {\n",
       "  /* unfitted */\n",
       "  background-color: var(--sklearn-color-unfitted-level-2);\n",
       "}\n",
       "\n",
       "#sk-container-id-5 div.sk-estimator.fitted input.sk-toggleable__control:checked~label.sk-toggleable__label {\n",
       "  /* fitted */\n",
       "  background-color: var(--sklearn-color-fitted-level-2);\n",
       "}\n",
       "\n",
       "#sk-container-id-5 div.sk-label label.sk-toggleable__label,\n",
       "#sk-container-id-5 div.sk-label label {\n",
       "  /* The background is the default theme color */\n",
       "  color: var(--sklearn-color-text-on-default-background);\n",
       "}\n",
       "\n",
       "/* On hover, darken the color of the background */\n",
       "#sk-container-id-5 div.sk-label:hover label.sk-toggleable__label {\n",
       "  color: var(--sklearn-color-text);\n",
       "  background-color: var(--sklearn-color-unfitted-level-2);\n",
       "}\n",
       "\n",
       "/* Label box, darken color on hover, fitted */\n",
       "#sk-container-id-5 div.sk-label.fitted:hover label.sk-toggleable__label.fitted {\n",
       "  color: var(--sklearn-color-text);\n",
       "  background-color: var(--sklearn-color-fitted-level-2);\n",
       "}\n",
       "\n",
       "/* Estimator label */\n",
       "\n",
       "#sk-container-id-5 div.sk-label label {\n",
       "  font-family: monospace;\n",
       "  font-weight: bold;\n",
       "  display: inline-block;\n",
       "  line-height: 1.2em;\n",
       "}\n",
       "\n",
       "#sk-container-id-5 div.sk-label-container {\n",
       "  text-align: center;\n",
       "}\n",
       "\n",
       "/* Estimator-specific */\n",
       "#sk-container-id-5 div.sk-estimator {\n",
       "  font-family: monospace;\n",
       "  border: 1px dotted var(--sklearn-color-border-box);\n",
       "  border-radius: 0.25em;\n",
       "  box-sizing: border-box;\n",
       "  margin-bottom: 0.5em;\n",
       "  /* unfitted */\n",
       "  background-color: var(--sklearn-color-unfitted-level-0);\n",
       "}\n",
       "\n",
       "#sk-container-id-5 div.sk-estimator.fitted {\n",
       "  /* fitted */\n",
       "  background-color: var(--sklearn-color-fitted-level-0);\n",
       "}\n",
       "\n",
       "/* on hover */\n",
       "#sk-container-id-5 div.sk-estimator:hover {\n",
       "  /* unfitted */\n",
       "  background-color: var(--sklearn-color-unfitted-level-2);\n",
       "}\n",
       "\n",
       "#sk-container-id-5 div.sk-estimator.fitted:hover {\n",
       "  /* fitted */\n",
       "  background-color: var(--sklearn-color-fitted-level-2);\n",
       "}\n",
       "\n",
       "/* Specification for estimator info (e.g. \"i\" and \"?\") */\n",
       "\n",
       "/* Common style for \"i\" and \"?\" */\n",
       "\n",
       ".sk-estimator-doc-link,\n",
       "a:link.sk-estimator-doc-link,\n",
       "a:visited.sk-estimator-doc-link {\n",
       "  float: right;\n",
       "  font-size: smaller;\n",
       "  line-height: 1em;\n",
       "  font-family: monospace;\n",
       "  background-color: var(--sklearn-color-background);\n",
       "  border-radius: 1em;\n",
       "  height: 1em;\n",
       "  width: 1em;\n",
       "  text-decoration: none !important;\n",
       "  margin-left: 1ex;\n",
       "  /* unfitted */\n",
       "  border: var(--sklearn-color-unfitted-level-1) 1pt solid;\n",
       "  color: var(--sklearn-color-unfitted-level-1);\n",
       "}\n",
       "\n",
       ".sk-estimator-doc-link.fitted,\n",
       "a:link.sk-estimator-doc-link.fitted,\n",
       "a:visited.sk-estimator-doc-link.fitted {\n",
       "  /* fitted */\n",
       "  border: var(--sklearn-color-fitted-level-1) 1pt solid;\n",
       "  color: var(--sklearn-color-fitted-level-1);\n",
       "}\n",
       "\n",
       "/* On hover */\n",
       "div.sk-estimator:hover .sk-estimator-doc-link:hover,\n",
       ".sk-estimator-doc-link:hover,\n",
       "div.sk-label-container:hover .sk-estimator-doc-link:hover,\n",
       ".sk-estimator-doc-link:hover {\n",
       "  /* unfitted */\n",
       "  background-color: var(--sklearn-color-unfitted-level-3);\n",
       "  color: var(--sklearn-color-background);\n",
       "  text-decoration: none;\n",
       "}\n",
       "\n",
       "div.sk-estimator.fitted:hover .sk-estimator-doc-link.fitted:hover,\n",
       ".sk-estimator-doc-link.fitted:hover,\n",
       "div.sk-label-container:hover .sk-estimator-doc-link.fitted:hover,\n",
       ".sk-estimator-doc-link.fitted:hover {\n",
       "  /* fitted */\n",
       "  background-color: var(--sklearn-color-fitted-level-3);\n",
       "  color: var(--sklearn-color-background);\n",
       "  text-decoration: none;\n",
       "}\n",
       "\n",
       "/* Span, style for the box shown on hovering the info icon */\n",
       ".sk-estimator-doc-link span {\n",
       "  display: none;\n",
       "  z-index: 9999;\n",
       "  position: relative;\n",
       "  font-weight: normal;\n",
       "  right: .2ex;\n",
       "  padding: .5ex;\n",
       "  margin: .5ex;\n",
       "  width: min-content;\n",
       "  min-width: 20ex;\n",
       "  max-width: 50ex;\n",
       "  color: var(--sklearn-color-text);\n",
       "  box-shadow: 2pt 2pt 4pt #999;\n",
       "  /* unfitted */\n",
       "  background: var(--sklearn-color-unfitted-level-0);\n",
       "  border: .5pt solid var(--sklearn-color-unfitted-level-3);\n",
       "}\n",
       "\n",
       ".sk-estimator-doc-link.fitted span {\n",
       "  /* fitted */\n",
       "  background: var(--sklearn-color-fitted-level-0);\n",
       "  border: var(--sklearn-color-fitted-level-3);\n",
       "}\n",
       "\n",
       ".sk-estimator-doc-link:hover span {\n",
       "  display: block;\n",
       "}\n",
       "\n",
       "/* \"?\"-specific style due to the `<a>` HTML tag */\n",
       "\n",
       "#sk-container-id-5 a.estimator_doc_link {\n",
       "  float: right;\n",
       "  font-size: 1rem;\n",
       "  line-height: 1em;\n",
       "  font-family: monospace;\n",
       "  background-color: var(--sklearn-color-background);\n",
       "  border-radius: 1rem;\n",
       "  height: 1rem;\n",
       "  width: 1rem;\n",
       "  text-decoration: none;\n",
       "  /* unfitted */\n",
       "  color: var(--sklearn-color-unfitted-level-1);\n",
       "  border: var(--sklearn-color-unfitted-level-1) 1pt solid;\n",
       "}\n",
       "\n",
       "#sk-container-id-5 a.estimator_doc_link.fitted {\n",
       "  /* fitted */\n",
       "  border: var(--sklearn-color-fitted-level-1) 1pt solid;\n",
       "  color: var(--sklearn-color-fitted-level-1);\n",
       "}\n",
       "\n",
       "/* On hover */\n",
       "#sk-container-id-5 a.estimator_doc_link:hover {\n",
       "  /* unfitted */\n",
       "  background-color: var(--sklearn-color-unfitted-level-3);\n",
       "  color: var(--sklearn-color-background);\n",
       "  text-decoration: none;\n",
       "}\n",
       "\n",
       "#sk-container-id-5 a.estimator_doc_link.fitted:hover {\n",
       "  /* fitted */\n",
       "  background-color: var(--sklearn-color-fitted-level-3);\n",
       "}\n",
       "</style><div id=\"sk-container-id-5\" class=\"sk-top-container\"><div class=\"sk-text-repr-fallback\"><pre>KNeighborsClassifier(n_neighbors=79)</pre><b>In a Jupyter environment, please rerun this cell to show the HTML representation or trust the notebook. <br />On GitHub, the HTML representation is unable to render, please try loading this page with nbviewer.org.</b></div><div class=\"sk-container\" hidden><div class=\"sk-item\"><div class=\"sk-estimator fitted sk-toggleable\"><input class=\"sk-toggleable__control sk-hidden--visually\" id=\"sk-estimator-id-5\" type=\"checkbox\" checked><label for=\"sk-estimator-id-5\" class=\"sk-toggleable__label fitted sk-toggleable__label-arrow fitted\">&nbsp;&nbsp;KNeighborsClassifier<a class=\"sk-estimator-doc-link fitted\" rel=\"noreferrer\" target=\"_blank\" href=\"https://scikit-learn.org/1.5/modules/generated/sklearn.neighbors.KNeighborsClassifier.html\">?<span>Documentation for KNeighborsClassifier</span></a><span class=\"sk-estimator-doc-link fitted\">i<span>Fitted</span></span></label><div class=\"sk-toggleable__content fitted\"><pre>KNeighborsClassifier(n_neighbors=79)</pre></div> </div></div></div></div>"
      ],
      "text/plain": [
       "KNeighborsClassifier(n_neighbors=79)"
      ]
     },
     "execution_count": 96,
     "metadata": {},
     "output_type": "execute_result"
    }
   ],
   "source": [
    "knn = KNeighborsClassifier(n_neighbors = 79)\n",
    "knn.fit(X_train2_resampled, y_train2_resampled)"
   ]
  },
  {
   "cell_type": "markdown",
   "metadata": {},
   "source": [
    "After applying the oversampling technique and finding the optimal K value, the KNN classifier was fitted with the same training data."
   ]
  },
  {
   "cell_type": "code",
   "execution_count": 97,
   "metadata": {},
   "outputs": [
    {
     "data": {
      "text/html": [
       "<div>\n",
       "<style scoped>\n",
       "    .dataframe tbody tr th:only-of-type {\n",
       "        vertical-align: middle;\n",
       "    }\n",
       "\n",
       "    .dataframe tbody tr th {\n",
       "        vertical-align: top;\n",
       "    }\n",
       "\n",
       "    .dataframe thead th {\n",
       "        text-align: right;\n",
       "    }\n",
       "</style>\n",
       "<table border=\"1\" class=\"dataframe\">\n",
       "  <thead>\n",
       "    <tr style=\"text-align: right;\">\n",
       "      <th></th>\n",
       "      <th>binary</th>\n",
       "      <th>macro avg</th>\n",
       "      <th>weighted avg</th>\n",
       "      <th>micro avg</th>\n",
       "    </tr>\n",
       "  </thead>\n",
       "  <tbody>\n",
       "    <tr>\n",
       "      <th>precision</th>\n",
       "      <td>0.278</td>\n",
       "      <td>0.611</td>\n",
       "      <td>0.869</td>\n",
       "      <td>0.78</td>\n",
       "    </tr>\n",
       "    <tr>\n",
       "      <th>recall</th>\n",
       "      <td>0.612</td>\n",
       "      <td>0.707</td>\n",
       "      <td>0.78</td>\n",
       "      <td>0.78</td>\n",
       "    </tr>\n",
       "    <tr>\n",
       "      <th>f1-score</th>\n",
       "      <td>0.383</td>\n",
       "      <td>0.624</td>\n",
       "      <td>0.812</td>\n",
       "      <td>0.78</td>\n",
       "    </tr>\n",
       "    <tr>\n",
       "      <th>accuracy</th>\n",
       "      <td>0.780</td>\n",
       "      <td>N/A</td>\n",
       "      <td>N/A</td>\n",
       "      <td>N/A</td>\n",
       "    </tr>\n",
       "  </tbody>\n",
       "</table>\n",
       "</div>"
      ],
      "text/plain": [
       "           binary macro avg weighted avg micro avg\n",
       "precision   0.278     0.611        0.869      0.78\n",
       "recall      0.612     0.707         0.78      0.78\n",
       "f1-score    0.383     0.624        0.812      0.78\n",
       "accuracy    0.780       N/A          N/A       N/A"
      ]
     },
     "execution_count": 97,
     "metadata": {},
     "output_type": "execute_result"
    }
   ],
   "source": [
    "y_prediction2 = knn.predict(X_test2)\n",
    "report2 = metrics.classification_report(y_test2, y_prediction2, output_dict = True)\n",
    "\n",
    "report2['micro avg'] = {'precision': metrics.precision_score(y_test2, y_prediction2, average = 'micro'),'recall': metrics.recall_score(y_test2, y_prediction2, average = 'micro'),\n",
    "                       'f1-score': metrics.f1_score(y_test2, y_prediction2, average = 'micro'),'support': len(y_test2)}\n",
    "\n",
    "report2_df = pd.DataFrame(report2).round(3)\n",
    "report2_df = report2_df.drop(['False', 'accuracy'], axis = 1)\n",
    "report2_df = report2_df.drop('support')\n",
    "report2_df.loc['accuracy'] = [round((metrics.accuracy_score(y_test2, y_prediction2)), 3), 'N/A', 'N/A', 'N/A']\n",
    "report2_df = report2_df.rename(columns = {'True' : 'binary'})\n",
    "report2_df"
   ]
  },
  {
   "cell_type": "markdown",
   "metadata": {},
   "source": [
    "The new model after oversampling displayed a significantly higher Recall value of 0.612, as compared to 0.217 from before oversampling. <br>\n",
    "\n",
    "However, both Accuracy and Precision values decreased from 0.899 to 0.78 and 0.631 to 0.278, respectively. <br>"
   ]
  },
  {
   "cell_type": "code",
   "execution_count": 98,
   "metadata": {},
   "outputs": [
    {
     "data": {
      "image/png": "[encoded data removed]",
      "text/plain": [
       "<Figure size 640x480 with 2 Axes>"
      ]
     },
     "metadata": {},
     "output_type": "display_data"
    }
   ],
   "source": [
    "cm_bank_model2 = confusion_matrix(y_test2, y_prediction2)\n",
    "\n",
    "class_names = ['No Purchase','Purchase']\n",
    "sns.heatmap(cm_bank_model2, annot = True, fmt='d', cmap = 'RdYlGn_r', xticklabels = class_names, yticklabels = class_names, linewidths = 0.5, linecolor = 'black')\n",
    "plt.gca().invert_yaxis()\n",
    "plt.gca().invert_xaxis()\n",
    "plt.title('Confusion Matrix')\n",
    "plt.xlabel('Predicted Labels')\n",
    "plt.ylabel('True Labels')\n",
    "plt.show()"
   ]
  },
  {
   "cell_type": "markdown",
   "metadata": {},
   "source": [
    "In the new model, significantly lower numbers were displayed for TN at 6806, leading to a drop in Accuracy values. <br>\n",
    "\n",
    "Whereas FN reduced in numbers to 413 and TP increased in numbers to 652, leading to a higher Recall value."
   ]
  },
  {
   "cell_type": "markdown",
   "metadata": {},
   "source": [
    "### 6. Hyperparameter Tuning of KNN Classifier"
   ]
  },
  {
   "cell_type": "code",
   "execution_count": 99,
   "metadata": {},
   "outputs": [],
   "source": [
    "from sklearn.model_selection import GridSearchCV\n",
    "import numpy as np"
   ]
  },
  {
   "cell_type": "code",
   "execution_count": 100,
   "metadata": {},
   "outputs": [],
   "source": [
    "X_train3, X_test3, y_train3, y_test3 = train_test_split(X2, y, random_state = 99, stratify = y) "
   ]
  },
  {
   "cell_type": "code",
   "execution_count": 101,
   "metadata": {},
   "outputs": [],
   "source": [
    "X_train3 = scaler.fit_transform(X_train3) \n",
    "X_test3 = scaler.transform(X_test3)"
   ]
  },
  {
   "cell_type": "code",
   "execution_count": 102,
   "metadata": {},
   "outputs": [
    {
     "data": {
      "text/plain": [
       "{'algorithm': 'auto',\n",
       " 'leaf_size': 30,\n",
       " 'metric': 'minkowski',\n",
       " 'metric_params': None,\n",
       " 'n_jobs': None,\n",
       " 'n_neighbors': 79,\n",
       " 'p': 2,\n",
       " 'weights': 'uniform'}"
      ]
     },
     "execution_count": 102,
     "metadata": {},
     "output_type": "execute_result"
    }
   ],
   "source": [
    "knn.get_params()"
   ]
  },
  {
   "cell_type": "code",
   "execution_count": 103,
   "metadata": {},
   "outputs": [],
   "source": [
    "# tuning by gridsearchCV\n",
    "grid_params = {'metric': ['euclidean','manhattan', 'chebyshev'],\n",
    "               'n_neighbors': list(range(20, 75)),\n",
    "               'weights': ['uniform','distance']}"
   ]
  },
  {
   "cell_type": "code",
   "execution_count": 104,
   "metadata": {},
   "outputs": [],
   "source": [
    "grid_search = GridSearchCV(knn, grid_params, cv = 3, scoring = 'recall', n_jobs = -1)"
   ]
  },
  {
   "cell_type": "code",
   "execution_count": 118,
   "metadata": {},
   "outputs": [
    {
     "name": "stdout",
     "output_type": "stream",
     "text": [
      "Best Hyperparameters: {'class_weight': 'balanced', 'criterion': 'entropy', 'max_depth': 6, 'max_features': 'sqrt', 'min_samples_leaf': 2, 'min_samples_split': 2, 'random_state': 99}\n",
      "Best Score: 0.6771023803640558\n"
     ]
    }
   ],
   "source": [
    "grid_search.fit(X_train3, y_train3)\n",
    "\n",
    "print(f\"Best Hyperparameters: {grid_search.best_params_}\")\n",
    "print(f\"Best Score: {grid_search.best_score_}\")"
   ]
  },
  {
   "cell_type": "markdown",
   "metadata": {},
   "source": [
    "The KNN classifier is tuned to produce the best recall score using GridSearchCV."
   ]
  },
  {
   "cell_type": "code",
   "execution_count": 119,
   "metadata": {},
   "outputs": [
    {
     "data": {
      "text/html": [
       "<div>\n",
       "<style scoped>\n",
       "    .dataframe tbody tr th:only-of-type {\n",
       "        vertical-align: middle;\n",
       "    }\n",
       "\n",
       "    .dataframe tbody tr th {\n",
       "        vertical-align: top;\n",
       "    }\n",
       "\n",
       "    .dataframe thead th {\n",
       "        text-align: right;\n",
       "    }\n",
       "</style>\n",
       "<table border=\"1\" class=\"dataframe\">\n",
       "  <thead>\n",
       "    <tr style=\"text-align: right;\">\n",
       "      <th></th>\n",
       "      <th>KNN_R</th>\n",
       "    </tr>\n",
       "  </thead>\n",
       "  <tbody>\n",
       "    <tr>\n",
       "      <th>precision</th>\n",
       "      <td>0.250</td>\n",
       "    </tr>\n",
       "    <tr>\n",
       "      <th>recall</th>\n",
       "      <td>0.692</td>\n",
       "    </tr>\n",
       "    <tr>\n",
       "      <th>f1-score</th>\n",
       "      <td>0.367</td>\n",
       "    </tr>\n",
       "    <tr>\n",
       "      <th>accuracy</th>\n",
       "      <td>0.735</td>\n",
       "    </tr>\n",
       "  </tbody>\n",
       "</table>\n",
       "</div>"
      ],
      "text/plain": [
       "           KNN_R\n",
       "precision  0.250\n",
       "recall     0.692\n",
       "f1-score   0.367\n",
       "accuracy   0.735"
      ]
     },
     "execution_count": 119,
     "metadata": {},
     "output_type": "execute_result"
    }
   ],
   "source": [
    "y_prediction3 = grid_search.best_estimator_.predict(X_test3)\n",
    "report3R = metrics.classification_report(y_test3, y_prediction3, output_dict = True)\n",
    "\n",
    "report3R_df = pd.DataFrame(report3R).round(3)\n",
    "report3R_df = report3R_df.drop(['False', 'accuracy', 'macro avg', 'weighted avg'], axis = 1)\n",
    "report3R_df = report3R_df.drop('support')\n",
    "report3R_df.loc['accuracy'] = [round((metrics.accuracy_score(y_test3, y_prediction3)), 3)]\n",
    "report3R_df = report3R_df.rename(columns = {'True' : 'KNN_R'})\n",
    "report3R_df"
   ]
  },
  {
   "cell_type": "code",
   "execution_count": 120,
   "metadata": {},
   "outputs": [],
   "source": [
    "grid_search = GridSearchCV(knn, grid_params, cv = 3, scoring = 'accuracy', n_jobs = -1)"
   ]
  },
  {
   "cell_type": "code",
   "execution_count": 121,
   "metadata": {},
   "outputs": [
    {
     "name": "stdout",
     "output_type": "stream",
     "text": [
      "Best Hyperparameters: {'metric': 'euclidean', 'n_neighbors': 43, 'weights': 'uniform'}\n",
      "Best Score: 0.9003939615800299\n"
     ]
    }
   ],
   "source": [
    "grid_search.fit(X_train3, y_train3)\n",
    "\n",
    "print(f\"Best Hyperparameters: {grid_search.best_params_}\")\n",
    "print(f\"Best Score: {grid_search.best_score_}\")"
   ]
  },
  {
   "cell_type": "markdown",
   "metadata": {},
   "source": [
    "The KNN classifier is tuned to produce the best accuracy score using GridSearchCV."
   ]
  },
  {
   "cell_type": "code",
   "execution_count": 122,
   "metadata": {},
   "outputs": [
    {
     "data": {
      "text/html": [
       "<div>\n",
       "<style scoped>\n",
       "    .dataframe tbody tr th:only-of-type {\n",
       "        vertical-align: middle;\n",
       "    }\n",
       "\n",
       "    .dataframe tbody tr th {\n",
       "        vertical-align: top;\n",
       "    }\n",
       "\n",
       "    .dataframe thead th {\n",
       "        text-align: right;\n",
       "    }\n",
       "</style>\n",
       "<table border=\"1\" class=\"dataframe\">\n",
       "  <thead>\n",
       "    <tr style=\"text-align: right;\">\n",
       "      <th></th>\n",
       "      <th>KNN_A</th>\n",
       "    </tr>\n",
       "  </thead>\n",
       "  <tbody>\n",
       "    <tr>\n",
       "      <th>precision</th>\n",
       "      <td>0.630</td>\n",
       "    </tr>\n",
       "    <tr>\n",
       "      <th>recall</th>\n",
       "      <td>0.241</td>\n",
       "    </tr>\n",
       "    <tr>\n",
       "      <th>f1-score</th>\n",
       "      <td>0.349</td>\n",
       "    </tr>\n",
       "    <tr>\n",
       "      <th>accuracy</th>\n",
       "      <td>0.900</td>\n",
       "    </tr>\n",
       "  </tbody>\n",
       "</table>\n",
       "</div>"
      ],
      "text/plain": [
       "           KNN_A\n",
       "precision  0.630\n",
       "recall     0.241\n",
       "f1-score   0.349\n",
       "accuracy   0.900"
      ]
     },
     "execution_count": 122,
     "metadata": {},
     "output_type": "execute_result"
    }
   ],
   "source": [
    "y_prediction3 = grid_search.best_estimator_.predict(X_test3)\n",
    "report3A = metrics.classification_report(y_test3, y_prediction3, output_dict = True)\n",
    "\n",
    "report3A_df = pd.DataFrame(report3A).round(3)\n",
    "report3A_df = report3A_df.drop(['False', 'accuracy', 'macro avg', 'weighted avg'], axis = 1)\n",
    "report3A_df = report3A_df.drop('support')\n",
    "report3A_df.loc['accuracy'] = [round((metrics.accuracy_score(y_test3, y_prediction3)), 3)]\n",
    "report3A_df = report3A_df.rename(columns = {'True' : 'KNN_A'})\n",
    "report3A_df"
   ]
  },
  {
   "cell_type": "markdown",
   "metadata": {},
   "source": [
    "Hyperparameter tuning did not change accuracy or the other metrics by much for the KNN Classifier."
   ]
  },
  {
   "cell_type": "markdown",
   "metadata": {},
   "source": [
    "### 7. Training and Hyperparameter Tuning of Decision Tree Classifier"
   ]
  },
  {
   "cell_type": "code",
   "execution_count": 123,
   "metadata": {},
   "outputs": [],
   "source": [
    "from sklearn.tree import DecisionTreeClassifier"
   ]
  },
  {
   "cell_type": "code",
   "execution_count": 124,
   "metadata": {},
   "outputs": [],
   "source": [
    "X_train4, X_test4, y_train4, y_test4 = train_test_split(X2, y, random_state = 99, stratify = y) "
   ]
  },
  {
   "cell_type": "code",
   "execution_count": 125,
   "metadata": {},
   "outputs": [
    {
     "data": {
      "text/plain": [
       "{'ccp_alpha': 0.0,\n",
       " 'class_weight': None,\n",
       " 'criterion': 'gini',\n",
       " 'max_depth': None,\n",
       " 'max_features': None,\n",
       " 'max_leaf_nodes': None,\n",
       " 'min_impurity_decrease': 0.0,\n",
       " 'min_samples_leaf': 1,\n",
       " 'min_samples_split': 2,\n",
       " 'min_weight_fraction_leaf': 0.0,\n",
       " 'monotonic_cst': None,\n",
       " 'random_state': 99,\n",
       " 'splitter': 'best'}"
      ]
     },
     "execution_count": 125,
     "metadata": {},
     "output_type": "execute_result"
    }
   ],
   "source": [
    "dtreeclf = DecisionTreeClassifier(random_state = 99)\n",
    "dtreeclf.get_params() # default model parameters"
   ]
  },
  {
   "cell_type": "code",
   "execution_count": 126,
   "metadata": {},
   "outputs": [],
   "source": [
    "# tuning by gridsearchCV\n",
    "grid_params2 = {'criterion': ['gini', 'entropy'], \n",
    "                'max_depth': [None] + list(range(5, 15)), \n",
    "                'min_samples_split': list(range(2, 20)), \n",
    "                'min_samples_leaf': list(range(1, 10)), \n",
    "                'max_features': [None, 'sqrt', 'log2'],\n",
    "                'class_weight': ['balanced'],\n",
    "                'random_state' : [99]} "
   ]
  },
  {
   "cell_type": "code",
   "execution_count": 127,
   "metadata": {},
   "outputs": [],
   "source": [
    "grid_search = GridSearchCV(dtreeclf, grid_params2, cv = 3, scoring = 'recall', n_jobs = -1)"
   ]
  },
  {
   "cell_type": "code",
   "execution_count": 128,
   "metadata": {},
   "outputs": [
    {
     "name": "stdout",
     "output_type": "stream",
     "text": [
      "Best Hyperparameters: {'class_weight': 'balanced', 'criterion': 'entropy', 'max_depth': 6, 'max_features': 'sqrt', 'min_samples_leaf': 2, 'min_samples_split': 2, 'random_state': 99}\n",
      "Best Score: 0.6771023803640558\n"
     ]
    }
   ],
   "source": [
    "grid_search.fit(X_train4, y_train4)\n",
    "\n",
    "print(f\"Best Hyperparameters: {grid_search.best_params_}\")\n",
    "print(f\"Best Score: {grid_search.best_score_}\")"
   ]
  },
  {
   "cell_type": "markdown",
   "metadata": {},
   "source": [
    "The decision tree classifier is tuned to produce the best recall score using GridSearchCV."
   ]
  },
  {
   "cell_type": "code",
   "execution_count": 129,
   "metadata": {},
   "outputs": [
    {
     "data": {
      "text/html": [
       "<div>\n",
       "<style scoped>\n",
       "    .dataframe tbody tr th:only-of-type {\n",
       "        vertical-align: middle;\n",
       "    }\n",
       "\n",
       "    .dataframe tbody tr th {\n",
       "        vertical-align: top;\n",
       "    }\n",
       "\n",
       "    .dataframe thead th {\n",
       "        text-align: right;\n",
       "    }\n",
       "</style>\n",
       "<table border=\"1\" class=\"dataframe\">\n",
       "  <thead>\n",
       "    <tr style=\"text-align: right;\">\n",
       "      <th></th>\n",
       "      <th>dTree_R</th>\n",
       "    </tr>\n",
       "  </thead>\n",
       "  <tbody>\n",
       "    <tr>\n",
       "      <th>precision</th>\n",
       "      <td>0.250</td>\n",
       "    </tr>\n",
       "    <tr>\n",
       "      <th>recall</th>\n",
       "      <td>0.692</td>\n",
       "    </tr>\n",
       "    <tr>\n",
       "      <th>f1-score</th>\n",
       "      <td>0.367</td>\n",
       "    </tr>\n",
       "    <tr>\n",
       "      <th>accuracy</th>\n",
       "      <td>0.735</td>\n",
       "    </tr>\n",
       "  </tbody>\n",
       "</table>\n",
       "</div>"
      ],
      "text/plain": [
       "           dTree_R\n",
       "precision    0.250\n",
       "recall       0.692\n",
       "f1-score     0.367\n",
       "accuracy     0.735"
      ]
     },
     "execution_count": 129,
     "metadata": {},
     "output_type": "execute_result"
    }
   ],
   "source": [
    "y_prediction4 = grid_search.best_estimator_.predict(X_test4)\n",
    "report4R = metrics.classification_report(y_test4, y_prediction4, output_dict = True)\n",
    "\n",
    "report4R_df = pd.DataFrame(report4R).round(3)\n",
    "report4R_df = report4R_df.drop(['False', 'accuracy', 'macro avg', 'weighted avg'], axis = 1)\n",
    "report4R_df = report4R_df.drop('support')\n",
    "report4R_df.loc['accuracy'] = [round((metrics.accuracy_score(y_test4, y_prediction4)), 3)]\n",
    "report4R_df = report4R_df.rename(columns = {'True' : 'dTree_R'})\n",
    "report4R_df"
   ]
  },
  {
   "cell_type": "code",
   "execution_count": 130,
   "metadata": {},
   "outputs": [],
   "source": [
    "# tuning by gridsearchCV\n",
    "grid_params2 = {'criterion': ['gini', 'entropy'], \n",
    "                'max_depth': [None] + list(range(5, 15)), \n",
    "                'min_samples_split': list(range(2, 20)), \n",
    "                'min_samples_leaf': list(range(1, 10)), \n",
    "                'max_features': [None, 'sqrt', 'log2'],\n",
    "                'class_weight': [None],\n",
    "                'random_state' : [99]} "
   ]
  },
  {
   "cell_type": "code",
   "execution_count": 131,
   "metadata": {},
   "outputs": [],
   "source": [
    "grid_search = GridSearchCV(dtreeclf, grid_params2, cv = 3, scoring = 'accuracy', n_jobs = -1)"
   ]
  },
  {
   "cell_type": "code",
   "execution_count": 132,
   "metadata": {},
   "outputs": [
    {
     "name": "stdout",
     "output_type": "stream",
     "text": [
      "Best Hyperparameters: {'class_weight': None, 'criterion': 'entropy', 'max_depth': 7, 'max_features': None, 'min_samples_leaf': 2, 'min_samples_split': 18, 'random_state': 99}\n",
      "Best Score: 0.9021720182686609\n"
     ]
    }
   ],
   "source": [
    "grid_search.fit(X_train4, y_train4)\n",
    "\n",
    "print(f\"Best Hyperparameters: {grid_search.best_params_}\")\n",
    "print(f\"Best Score: {grid_search.best_score_}\")"
   ]
  },
  {
   "cell_type": "markdown",
   "metadata": {},
   "source": [
    "The decision tree classifier is tuned to produce the best accuracy score using GridSearchCV."
   ]
  },
  {
   "cell_type": "code",
   "execution_count": 133,
   "metadata": {},
   "outputs": [
    {
     "data": {
      "text/html": [
       "<div>\n",
       "<style scoped>\n",
       "    .dataframe tbody tr th:only-of-type {\n",
       "        vertical-align: middle;\n",
       "    }\n",
       "\n",
       "    .dataframe tbody tr th {\n",
       "        vertical-align: top;\n",
       "    }\n",
       "\n",
       "    .dataframe thead th {\n",
       "        text-align: right;\n",
       "    }\n",
       "</style>\n",
       "<table border=\"1\" class=\"dataframe\">\n",
       "  <thead>\n",
       "    <tr style=\"text-align: right;\">\n",
       "      <th></th>\n",
       "      <th>dTree_A</th>\n",
       "    </tr>\n",
       "  </thead>\n",
       "  <tbody>\n",
       "    <tr>\n",
       "      <th>precision</th>\n",
       "      <td>0.656</td>\n",
       "    </tr>\n",
       "    <tr>\n",
       "      <th>recall</th>\n",
       "      <td>0.231</td>\n",
       "    </tr>\n",
       "    <tr>\n",
       "      <th>f1-score</th>\n",
       "      <td>0.342</td>\n",
       "    </tr>\n",
       "    <tr>\n",
       "      <th>accuracy</th>\n",
       "      <td>0.901</td>\n",
       "    </tr>\n",
       "  </tbody>\n",
       "</table>\n",
       "</div>"
      ],
      "text/plain": [
       "           dTree_A\n",
       "precision    0.656\n",
       "recall       0.231\n",
       "f1-score     0.342\n",
       "accuracy     0.901"
      ]
     },
     "execution_count": 133,
     "metadata": {},
     "output_type": "execute_result"
    }
   ],
   "source": [
    "y_prediction4 = grid_search.best_estimator_.predict(X_test4)\n",
    "report4A = metrics.classification_report(y_test4, y_prediction4, output_dict = True)\n",
    "\n",
    "report4A_df = pd.DataFrame(report4A).round(3)\n",
    "report4A_df = report4A_df.drop(['False', 'accuracy', 'macro avg', 'weighted avg'], axis = 1)\n",
    "report4A_df = report4A_df.drop('support')\n",
    "report4A_df.loc['accuracy'] = [round((metrics.accuracy_score(y_test4, y_prediction4)), 3)]\n",
    "report4A_df = report4A_df.rename(columns = {'True' : 'dTree_A'})\n",
    "report4A_df"
   ]
  },
  {
   "cell_type": "markdown",
   "metadata": {},
   "source": [
    "For decicion tree models, when class weight is set to 'balanced', class imbalance in dataset is accounted for and a much higher Recall value is obtained at 0.692 when parameters are optimized for Recall. <br>\n",
    "\n",
    "However, both Accuracy and Precision values will be lowered. When class weight is set to None and optimized for Accuracy, Accuracy is much higher at 0.901 but Recall is much lower. <br>\n",
    "\n",
    "No additional oversampling technique needs to be applied to dataset and model training time is also much faster."
   ]
  },
  {
   "cell_type": "code",
   "execution_count": 138,
   "metadata": {},
   "outputs": [
    {
     "data": {
      "image/png": "[encoded data removed]",
      "text/plain": [
       "<Figure size 4000x2000 with 1 Axes>"
      ]
     },
     "metadata": {},
     "output_type": "display_data"
    },
    {
     "name": "stdout",
     "output_type": "stream",
     "text": [
      "Number of nodes: 165\n",
      "Number of leaves: 83\n",
      "Number of decision: 82\n"
     ]
    }
   ],
   "source": [
    "from sklearn.tree import plot_tree\n",
    "import matplotlib.pyplot as plt\n",
    "\n",
    "# Visualize the decision tree\n",
    "fig10 = plt.figure(figsize = (40, 20)) \n",
    "plot_tree(grid_search.best_estimator_, filled = True, feature_names = X_train4.columns.tolist(), class_names = ['No Purchase', \"Purchase\"])\n",
    "plt.show()\n",
    "\n",
    "num_nodes = grid_search.best_estimator_.tree_.node_count\n",
    "num_leaves = grid_search.best_estimator_.tree_.n_leaves\n",
    "num_decision = num_nodes - num_leaves\n",
    "\n",
    "print(\"Number of nodes:\", num_nodes)\n",
    "print(\"Number of leaves:\", num_leaves)\n",
    "print(\"Number of decision:\", num_decision)\n",
    "\n",
    "# fig10.savefig(\"tree_plot.png\", dpi = 300)"
   ]
  },
  {
   "cell_type": "markdown",
   "metadata": {},
   "source": [
    "### 8. Training and Hyperparameter Tuning of Random Forest Classifier"
   ]
  },
  {
   "cell_type": "code",
   "execution_count": 139,
   "metadata": {},
   "outputs": [],
   "source": [
    "from sklearn.ensemble import RandomForestClassifier"
   ]
  },
  {
   "cell_type": "code",
   "execution_count": 140,
   "metadata": {},
   "outputs": [],
   "source": [
    "X_train5, X_test5, y_train5, y_test5 = train_test_split(X2, y, random_state = 99, stratify = y) "
   ]
  },
  {
   "cell_type": "code",
   "execution_count": 141,
   "metadata": {},
   "outputs": [
    {
     "data": {
      "text/plain": [
       "{'bootstrap': True,\n",
       " 'ccp_alpha': 0.0,\n",
       " 'class_weight': None,\n",
       " 'criterion': 'gini',\n",
       " 'max_depth': None,\n",
       " 'max_features': 'sqrt',\n",
       " 'max_leaf_nodes': None,\n",
       " 'max_samples': None,\n",
       " 'min_impurity_decrease': 0.0,\n",
       " 'min_samples_leaf': 1,\n",
       " 'min_samples_split': 2,\n",
       " 'min_weight_fraction_leaf': 0.0,\n",
       " 'monotonic_cst': None,\n",
       " 'n_estimators': 100,\n",
       " 'n_jobs': None,\n",
       " 'oob_score': False,\n",
       " 'random_state': 99,\n",
       " 'verbose': 0,\n",
       " 'warm_start': False}"
      ]
     },
     "execution_count": 141,
     "metadata": {},
     "output_type": "execute_result"
    }
   ],
   "source": [
    "rforestclf = RandomForestClassifier(random_state = 99)\n",
    "rforestclf.get_params() # default model parameters"
   ]
  },
  {
   "cell_type": "code",
   "execution_count": 153,
   "metadata": {},
   "outputs": [],
   "source": [
    "# tuning by gridsearchCV\n",
    "grid_params3 = {'n_estimators': [100],\n",
    "                'criterion': ['gini', 'entropy'], \n",
    "                'max_depth': [None] + list(range(5, 10)), \n",
    "                'min_samples_split': list(range(2, 20)),\n",
    "                'min_samples_leaf': list(range(1, 5)), \n",
    "                'max_features': ['sqrt', 'log2'],\n",
    "                'class_weight': ['balanced'],\n",
    "                'random_state' : [99]} "
   ]
  },
  {
   "cell_type": "code",
   "execution_count": 154,
   "metadata": {},
   "outputs": [],
   "source": [
    "grid_search = GridSearchCV(rforestclf, grid_params3, cv = 3, scoring = 'recall', n_jobs = -1)"
   ]
  },
  {
   "cell_type": "code",
   "execution_count": 155,
   "metadata": {},
   "outputs": [
    {
     "name": "stdout",
     "output_type": "stream",
     "text": [
      "Best Hyperparameters: {'class_weight': 'balanced', 'criterion': 'entropy', 'max_depth': 5, 'max_features': 'sqrt', 'min_samples_leaf': 3, 'min_samples_split': 7, 'n_estimators': 100, 'random_state': 99}\n",
      "Best Score: 0.6436104933695742\n"
     ]
    }
   ],
   "source": [
    "grid_search.fit(X_train5, y_train5) # longer processing time than dtree models\n",
    "\n",
    "print(f\"Best Hyperparameters: {grid_search.best_params_}\")\n",
    "print(f\"Best Score: {grid_search.best_score_}\")"
   ]
  },
  {
   "cell_type": "markdown",
   "metadata": {},
   "source": [
    "The random forest classifier was tuned to produce the best recall score using GridSearchCV."
   ]
  },
  {
   "cell_type": "code",
   "execution_count": 156,
   "metadata": {},
   "outputs": [
    {
     "data": {
      "text/html": [
       "<div>\n",
       "<style scoped>\n",
       "    .dataframe tbody tr th:only-of-type {\n",
       "        vertical-align: middle;\n",
       "    }\n",
       "\n",
       "    .dataframe tbody tr th {\n",
       "        vertical-align: top;\n",
       "    }\n",
       "\n",
       "    .dataframe thead th {\n",
       "        text-align: right;\n",
       "    }\n",
       "</style>\n",
       "<table border=\"1\" class=\"dataframe\">\n",
       "  <thead>\n",
       "    <tr style=\"text-align: right;\">\n",
       "      <th></th>\n",
       "      <th>rForest_R</th>\n",
       "    </tr>\n",
       "  </thead>\n",
       "  <tbody>\n",
       "    <tr>\n",
       "      <th>precision</th>\n",
       "      <td>0.332</td>\n",
       "    </tr>\n",
       "    <tr>\n",
       "      <th>recall</th>\n",
       "      <td>0.644</td>\n",
       "    </tr>\n",
       "    <tr>\n",
       "      <th>f1-score</th>\n",
       "      <td>0.438</td>\n",
       "    </tr>\n",
       "    <tr>\n",
       "      <th>accuracy</th>\n",
       "      <td>0.816</td>\n",
       "    </tr>\n",
       "  </tbody>\n",
       "</table>\n",
       "</div>"
      ],
      "text/plain": [
       "           rForest_R\n",
       "precision      0.332\n",
       "recall         0.644\n",
       "f1-score       0.438\n",
       "accuracy       0.816"
      ]
     },
     "execution_count": 156,
     "metadata": {},
     "output_type": "execute_result"
    }
   ],
   "source": [
    "y_prediction5 = grid_search.best_estimator_.predict(X_test5) \n",
    "report5R = metrics.classification_report(y_test5, y_prediction5, output_dict = True)\n",
    "\n",
    "report5R_df = pd.DataFrame(report5R).round(3)\n",
    "report5R_df = report5R_df.drop(['False', 'accuracy', 'macro avg', 'weighted avg'], axis = 1)\n",
    "report5R_df = report5R_df.drop('support')\n",
    "report5R_df.loc['accuracy'] = [round((metrics.accuracy_score(y_test5, y_prediction5)), 3)]\n",
    "report5R_df = report5R_df.rename(columns = {'True' : 'rForest_R'})\n",
    "report5R_df"
   ]
  },
  {
   "cell_type": "code",
   "execution_count": 146,
   "metadata": {},
   "outputs": [],
   "source": [
    "grid_params3 = {'n_estimators': [100],\n",
    "                'criterion': ['gini', 'entropy'], \n",
    "                'max_depth': [None] + list(range(5, 10)), \n",
    "                'min_samples_split': list(range(2, 20)),\n",
    "                'min_samples_leaf': list(range(1, 5)), \n",
    "                'max_features': ['sqrt', 'log2'],\n",
    "                'class_weight': [None],\n",
    "                'random_state' : [99]} "
   ]
  },
  {
   "cell_type": "code",
   "execution_count": 147,
   "metadata": {},
   "outputs": [],
   "source": [
    "grid_search = GridSearchCV(rforestclf, grid_params3, cv = 3, scoring = 'accuracy', n_jobs = -1)"
   ]
  },
  {
   "cell_type": "code",
   "execution_count": 148,
   "metadata": {},
   "outputs": [
    {
     "name": "stdout",
     "output_type": "stream",
     "text": [
      "Best Hyperparameters: {'class_weight': None, 'criterion': 'entropy', 'max_depth': 9, 'max_features': 'sqrt', 'min_samples_leaf': 2, 'min_samples_split': 14, 'n_estimators': 100, 'random_state': 99}\n",
      "Best Score: 0.9013004218526653\n"
     ]
    }
   ],
   "source": [
    "grid_search.fit(X_train5, y_train5)\n",
    "\n",
    "print(f\"Best Hyperparameters: {grid_search.best_params_}\")\n",
    "print(f\"Best Score: {grid_search.best_score_}\")"
   ]
  },
  {
   "cell_type": "markdown",
   "metadata": {},
   "source": [
    "The random forest classifier was tuned to produce the best accuracy score using GridSearchCV."
   ]
  },
  {
   "cell_type": "code",
   "execution_count": 151,
   "metadata": {},
   "outputs": [
    {
     "data": {
      "text/html": [
       "<div>\n",
       "<style scoped>\n",
       "    .dataframe tbody tr th:only-of-type {\n",
       "        vertical-align: middle;\n",
       "    }\n",
       "\n",
       "    .dataframe tbody tr th {\n",
       "        vertical-align: top;\n",
       "    }\n",
       "\n",
       "    .dataframe thead th {\n",
       "        text-align: right;\n",
       "    }\n",
       "</style>\n",
       "<table border=\"1\" class=\"dataframe\">\n",
       "  <thead>\n",
       "    <tr style=\"text-align: right;\">\n",
       "      <th></th>\n",
       "      <th>rForest_R</th>\n",
       "    </tr>\n",
       "  </thead>\n",
       "  <tbody>\n",
       "    <tr>\n",
       "      <th>precision</th>\n",
       "      <td>0.654</td>\n",
       "    </tr>\n",
       "    <tr>\n",
       "      <th>recall</th>\n",
       "      <td>0.238</td>\n",
       "    </tr>\n",
       "    <tr>\n",
       "      <th>f1-score</th>\n",
       "      <td>0.348</td>\n",
       "    </tr>\n",
       "    <tr>\n",
       "      <th>accuracy</th>\n",
       "      <td>0.901</td>\n",
       "    </tr>\n",
       "  </tbody>\n",
       "</table>\n",
       "</div>"
      ],
      "text/plain": [
       "           rForest_R\n",
       "precision      0.654\n",
       "recall         0.238\n",
       "f1-score       0.348\n",
       "accuracy       0.901"
      ]
     },
     "execution_count": 151,
     "metadata": {},
     "output_type": "execute_result"
    }
   ],
   "source": [
    "y_prediction5 = grid_search.best_estimator_.predict(X_test5) \n",
    "report5A = metrics.classification_report(y_test5, y_prediction5, output_dict = True)\n",
    "\n",
    "report5A_df = pd.DataFrame(report5A).round(3)\n",
    "report5A_df = report5A_df.drop(['False', 'accuracy', 'macro avg', 'weighted avg'], axis = 1)\n",
    "report5A_df = report5A_df.drop('support')\n",
    "report5A_df.loc['accuracy'] = [round((metrics.accuracy_score(y_test5, y_prediction5)), 3)]\n",
    "report5A_df = report5A_df.rename(columns = {'True' : 'rForest_R'})\n",
    "report5A_df"
   ]
  },
  {
   "cell_type": "code",
   "execution_count": 157,
   "metadata": {},
   "outputs": [
    {
     "data": {
      "text/html": [
       "<div>\n",
       "<style scoped>\n",
       "    .dataframe tbody tr th:only-of-type {\n",
       "        vertical-align: middle;\n",
       "    }\n",
       "\n",
       "    .dataframe tbody tr th {\n",
       "        vertical-align: top;\n",
       "    }\n",
       "\n",
       "    .dataframe thead th {\n",
       "        text-align: right;\n",
       "    }\n",
       "</style>\n",
       "<table border=\"1\" class=\"dataframe\">\n",
       "  <thead>\n",
       "    <tr style=\"text-align: right;\">\n",
       "      <th></th>\n",
       "      <th>KNN_A</th>\n",
       "      <th>dTree_A</th>\n",
       "      <th>rForest_R</th>\n",
       "    </tr>\n",
       "  </thead>\n",
       "  <tbody>\n",
       "    <tr>\n",
       "      <th>precision</th>\n",
       "      <td>0.630</td>\n",
       "      <td>0.656</td>\n",
       "      <td>0.654</td>\n",
       "    </tr>\n",
       "    <tr>\n",
       "      <th>recall</th>\n",
       "      <td>0.241</td>\n",
       "      <td>0.231</td>\n",
       "      <td>0.238</td>\n",
       "    </tr>\n",
       "    <tr>\n",
       "      <th>f1-score</th>\n",
       "      <td>0.349</td>\n",
       "      <td>0.342</td>\n",
       "      <td>0.348</td>\n",
       "    </tr>\n",
       "    <tr>\n",
       "      <th>accuracy</th>\n",
       "      <td>0.900</td>\n",
       "      <td>0.901</td>\n",
       "      <td>0.901</td>\n",
       "    </tr>\n",
       "  </tbody>\n",
       "</table>\n",
       "</div>"
      ],
      "text/plain": [
       "           KNN_A  dTree_A  rForest_R\n",
       "precision  0.630    0.656      0.654\n",
       "recall     0.241    0.231      0.238\n",
       "f1-score   0.349    0.342      0.348\n",
       "accuracy   0.900    0.901      0.901"
      ]
     },
     "execution_count": 157,
     "metadata": {},
     "output_type": "execute_result"
    }
   ],
   "source": [
    "final_reportA_df = pd.concat([report3A_df, report4A_df, report5A_df], axis = 1)\n",
    "final_reportA_df"
   ]
  },
  {
   "cell_type": "code",
   "execution_count": 158,
   "metadata": {},
   "outputs": [
    {
     "data": {
      "text/html": [
       "<div>\n",
       "<style scoped>\n",
       "    .dataframe tbody tr th:only-of-type {\n",
       "        vertical-align: middle;\n",
       "    }\n",
       "\n",
       "    .dataframe tbody tr th {\n",
       "        vertical-align: top;\n",
       "    }\n",
       "\n",
       "    .dataframe thead th {\n",
       "        text-align: right;\n",
       "    }\n",
       "</style>\n",
       "<table border=\"1\" class=\"dataframe\">\n",
       "  <thead>\n",
       "    <tr style=\"text-align: right;\">\n",
       "      <th></th>\n",
       "      <th>KNN_R</th>\n",
       "      <th>dTree_R</th>\n",
       "      <th>rForest_R</th>\n",
       "    </tr>\n",
       "  </thead>\n",
       "  <tbody>\n",
       "    <tr>\n",
       "      <th>precision</th>\n",
       "      <td>0.250</td>\n",
       "      <td>0.250</td>\n",
       "      <td>0.332</td>\n",
       "    </tr>\n",
       "    <tr>\n",
       "      <th>recall</th>\n",
       "      <td>0.692</td>\n",
       "      <td>0.692</td>\n",
       "      <td>0.644</td>\n",
       "    </tr>\n",
       "    <tr>\n",
       "      <th>f1-score</th>\n",
       "      <td>0.367</td>\n",
       "      <td>0.367</td>\n",
       "      <td>0.438</td>\n",
       "    </tr>\n",
       "    <tr>\n",
       "      <th>accuracy</th>\n",
       "      <td>0.735</td>\n",
       "      <td>0.735</td>\n",
       "      <td>0.816</td>\n",
       "    </tr>\n",
       "  </tbody>\n",
       "</table>\n",
       "</div>"
      ],
      "text/plain": [
       "           KNN_R  dTree_R  rForest_R\n",
       "precision  0.250    0.250      0.332\n",
       "recall     0.692    0.692      0.644\n",
       "f1-score   0.367    0.367      0.438\n",
       "accuracy   0.735    0.735      0.816"
      ]
     },
     "execution_count": 158,
     "metadata": {},
     "output_type": "execute_result"
    }
   ],
   "source": [
    "final_reportR_df = pd.concat([report3R_df, report4R_df, report5R_df], axis = 1)\n",
    "final_reportR_df"
   ]
  },
  {
   "cell_type": "markdown",
   "metadata": {},
   "source": [
    "### 9. Conclusion"
   ]
  },
  {
   "cell_type": "markdown",
   "metadata": {},
   "source": [
    "i) Comparing all 3 models, KNN, decision tree, and random forests, the model with the highest Recall is the decision tree model, largely due to the balanced class weight parameter incorporated into the model fitting. This model also runs alot faster than the other 2 models. <br>\n",
    "\n",
    "ii) With a higher Recall value, the decision tree classifier promises to be a more effective tool for predicting customers who are potential buyers, which will generate more revenue for the bank.\n",
    "\n",
    "iii) The decision tree model also has the highest accuracy and precision values when tuned for highest accuracy.\n",
    "\n",
    "iv) With a higher Accuracy and Precision value, the model is more useful for predicting customers who are not going to buy, and might help the bank steer their marketing campaign and customer service officers towards customer segments who might be more receptive to their efforts."
   ]
  }
 ],
 "metadata": {
  "kernelspec": {
   "display_name": "base",
   "language": "python",
   "name": "python3"
  },
  "language_info": {
   "codemirror_mode": {
    "name": "ipython",
    "version": 3
   },
   "file_extension": ".py",
   "mimetype": "text/x-python",
   "name": "python",
   "nbconvert_exporter": "python",
   "pygments_lexer": "ipython3",
   "version": "3.12.7"
  }
 },
 "nbformat": 4,
 "nbformat_minor": 2
}
